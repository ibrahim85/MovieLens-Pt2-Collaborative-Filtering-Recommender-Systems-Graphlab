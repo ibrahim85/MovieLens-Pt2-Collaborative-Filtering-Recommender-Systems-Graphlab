{
 "cells": [
  {
   "cell_type": "markdown",
   "metadata": {},
   "source": [
    "# Movie Recommender with MovieLens Dataset\n",
    "===========================================================================\n"
   ]
  },
  {
   "cell_type": "markdown",
   "metadata": {},
   "source": [
    "## Project Summery:\n",
    "\n",
    "### Used collaborative filtering to produce a movie ratings classifier and recommender. Used the Netflix Prize's top 10 performers to perform benchmarking and placed 6th. Also explored content- ltering models using dimensionality reduced features and k-means, naive bayes, decision trees, and random forests classifiers."
   ]
  },
  {
   "cell_type": "markdown",
   "metadata": {},
   "source": [
    "<hr>"
   ]
  },
  {
   "cell_type": "markdown",
   "metadata": {},
   "source": [
    "## [Movie Recommender Presentation](https://github.com/zhannar/Movie-Recomendations-Collaborative-Filtering/blob/master/Movie_Recomendations_Presentation_2016_May.pdf)\n",
    "\n",
    "A presentation given in early 2016 describes the MovieLens Dataset, what collaborative filtering is, how rating classifications were evaluated, and a short demo of an online interface to get one-off recomendations for either movies or simiar users."
   ]
  },
  {
   "cell_type": "markdown",
   "metadata": {},
   "source": [
    "<img src=\"files/Visualizations/movie_stats.png\" style=\"width: 600px\"/>"
   ]
  },
  {
   "cell_type": "markdown",
   "metadata": {},
   "source": [
    "<hr>"
   ]
  },
  {
   "cell_type": "markdown",
   "metadata": {},
   "source": [
    "### Additional details:\n",
    "\n",
    "tbd"
   ]
  }
 ],
 "metadata": {
  "kernelspec": {
   "display_name": "Python 2",
   "language": "python",
   "name": "python2"
  },
  "language_info": {
   "codemirror_mode": {
    "name": "ipython",
    "version": 2
   },
   "file_extension": ".py",
   "mimetype": "text/x-python",
   "name": "python",
   "nbconvert_exporter": "python",
   "pygments_lexer": "ipython2",
   "version": "2.7.11"
  }
 },
 "nbformat": 4,
 "nbformat_minor": 0
}
