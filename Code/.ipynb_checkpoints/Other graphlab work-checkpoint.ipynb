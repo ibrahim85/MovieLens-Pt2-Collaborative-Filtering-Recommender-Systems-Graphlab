{
 "cells": [
  {
   "cell_type": "code",
   "execution_count": 1,
   "metadata": {
    "collapsed": true
   },
   "outputs": [],
   "source": [
    "import graphlab as gl"
   ]
  },
  {
   "cell_type": "code",
   "execution_count": 6,
   "metadata": {
    "collapsed": false
   },
   "outputs": [
    {
     "ename": "IOError",
     "evalue": "[Errno 2] No such file or directory: 'lookup_table_movies.pickle'",
     "output_type": "error",
     "traceback": [
      "\u001b[0;31m---------------------------------------------------------------------------\u001b[0m",
      "\u001b[0;31mIOError\u001b[0m                                   Traceback (most recent call last)",
      "\u001b[0;32m<ipython-input-6-e9a3a1fb7c45>\u001b[0m in \u001b[0;36m<module>\u001b[0;34m()\u001b[0m\n\u001b[1;32m      7\u001b[0m \u001b[0;31m#################### Pulling in the Lookup Table for Movies #############################\u001b[0m\u001b[0;34m\u001b[0m\u001b[0;34m\u001b[0m\u001b[0m\n\u001b[1;32m      8\u001b[0m \u001b[0;31m##########################################################################################\u001b[0m\u001b[0;34m\u001b[0m\u001b[0;34m\u001b[0m\u001b[0m\n\u001b[0;32m----> 9\u001b[0;31m \u001b[0mlookup_table_movies\u001b[0m \u001b[0;34m=\u001b[0m \u001b[0mpd\u001b[0m\u001b[0;34m.\u001b[0m\u001b[0mread_pickle\u001b[0m\u001b[0;34m(\u001b[0m\u001b[0;34m'lookup_table_movies.pickle'\u001b[0m\u001b[0;34m)\u001b[0m\u001b[0;34m\u001b[0m\u001b[0m\n\u001b[0m\u001b[1;32m     10\u001b[0m \u001b[0;34m\u001b[0m\u001b[0m\n\u001b[1;32m     11\u001b[0m \u001b[0;31m##########################################################################################\u001b[0m\u001b[0;34m\u001b[0m\u001b[0;34m\u001b[0m\u001b[0m\n",
      "\u001b[0;32m//anaconda/lib/python2.7/site-packages/pandas/io/pickle.pyc\u001b[0m in \u001b[0;36mread_pickle\u001b[0;34m(path)\u001b[0m\n\u001b[1;32m     63\u001b[0m \u001b[0;34m\u001b[0m\u001b[0m\n\u001b[1;32m     64\u001b[0m     \u001b[0;32mtry\u001b[0m\u001b[0;34m:\u001b[0m\u001b[0;34m\u001b[0m\u001b[0m\n\u001b[0;32m---> 65\u001b[0;31m         \u001b[0;32mreturn\u001b[0m \u001b[0mtry_read\u001b[0m\u001b[0;34m(\u001b[0m\u001b[0mpath\u001b[0m\u001b[0;34m)\u001b[0m\u001b[0;34m\u001b[0m\u001b[0m\n\u001b[0m\u001b[1;32m     66\u001b[0m     \u001b[0;32mexcept\u001b[0m\u001b[0;34m:\u001b[0m\u001b[0;34m\u001b[0m\u001b[0m\n\u001b[1;32m     67\u001b[0m         \u001b[0;32mif\u001b[0m \u001b[0mPY3\u001b[0m\u001b[0;34m:\u001b[0m\u001b[0;34m\u001b[0m\u001b[0m\n",
      "\u001b[0;32m//anaconda/lib/python2.7/site-packages/pandas/io/pickle.pyc\u001b[0m in \u001b[0;36mtry_read\u001b[0;34m(path, encoding)\u001b[0m\n\u001b[1;32m     59\u001b[0m             \u001b[0;31m# compat pickle\u001b[0m\u001b[0;34m\u001b[0m\u001b[0;34m\u001b[0m\u001b[0m\n\u001b[1;32m     60\u001b[0m             \u001b[0;32mexcept\u001b[0m\u001b[0;34m:\u001b[0m\u001b[0;34m\u001b[0m\u001b[0m\n\u001b[0;32m---> 61\u001b[0;31m                 \u001b[0;32mwith\u001b[0m \u001b[0mopen\u001b[0m\u001b[0;34m(\u001b[0m\u001b[0mpath\u001b[0m\u001b[0;34m,\u001b[0m \u001b[0;34m'rb'\u001b[0m\u001b[0;34m)\u001b[0m \u001b[0;32mas\u001b[0m \u001b[0mfh\u001b[0m\u001b[0;34m:\u001b[0m\u001b[0;34m\u001b[0m\u001b[0m\n\u001b[0m\u001b[1;32m     62\u001b[0m                     \u001b[0;32mreturn\u001b[0m \u001b[0mpc\u001b[0m\u001b[0;34m.\u001b[0m\u001b[0mload\u001b[0m\u001b[0;34m(\u001b[0m\u001b[0mfh\u001b[0m\u001b[0;34m,\u001b[0m \u001b[0mencoding\u001b[0m\u001b[0;34m=\u001b[0m\u001b[0mencoding\u001b[0m\u001b[0;34m,\u001b[0m \u001b[0mcompat\u001b[0m\u001b[0;34m=\u001b[0m\u001b[0mTrue\u001b[0m\u001b[0;34m)\u001b[0m\u001b[0;34m\u001b[0m\u001b[0m\n\u001b[1;32m     63\u001b[0m \u001b[0;34m\u001b[0m\u001b[0m\n",
      "\u001b[0;31mIOError\u001b[0m: [Errno 2] No such file or directory: 'lookup_table_movies.pickle'"
     ]
    }
   ],
   "source": [
    "import pandas as pd\n",
    "import numpy as np\n",
    "import pickle\n",
    "import sys\n",
    "\n",
    "##########################################################################################\n",
    "#################### Pulling in the Lookup Table for Movies #############################\n",
    "##########################################################################################\n",
    "lookup_table_movies = pd.read_pickle('lookup_table_movies.pickle')\n",
    "\n",
    "##########################################################################################\n",
    "#################### Pulling in the User Ratings #########################################\n",
    "##########################################################################################\n",
    "\n",
    "user_ratings = pd.read_pickle('user_ratings.pickle')\n",
    "\n",
    "# This contains all the movieIDs for which we have already compiled metadata info available (i.e. from hetrec)\n",
    "movies_with_metadata = lookup_table_movies[\"movieID\"].unique()  #10197 in length\n",
    "\n",
    "# This takes all the user ratings from the ml-latest download, and pairs it down to only those movies \n",
    "# for which we have metadata information.\n",
    "user_ratings_for_movies_with_metadata = user_ratings[user_ratings[\"movieID\"].isin(movies_with_metadata)] # 10196 in length\n",
    "\n",
    "# This creates special lists that will be used to bias our training set towards users with a lot of ratings.\n",
    "users_ordered_by_frequency_table = user_ratings_for_movies_with_metadata[[\"userID\",\"original_9\"]].groupby(\"userID\", as_index = False).count().sort('original_9', ascending=False)\n",
    "#users_ordered_by_frequency = list(users_ordered_by_frequency_table[\"userID\"])\n",
    "# These are the ID's of the 25000 most frequently rating users. \n",
    "#users_high_frequency_25000 = users_ordered_by_frequency[0:25000]  \n",
    "users_over20_reviews = users_ordered_by_frequency_table[users_ordered_by_frequency_table[\"original_9\"] > 20][\"userID\"]\n",
    "users_over30_reviews = users_ordered_by_frequency_table[users_ordered_by_frequency_table[\"original_9\"] > 30][\"userID\"]\n",
    "\n",
    "#user_ratings_high_frequency = user_ratings_for_movies_with_metadata[user_ratings_for_movies_with_metadata[\"userID\"].isin(users_w_most_ratings_25000)]\n",
    "# These are the ID's of the other are the less frequently rating users\n",
    "#users_low_frequency_remainder = users_ordered_by_frequency[25000:]\n",
    "#user_ratings_low_frequency = user_ratings_for_movies_with_metadata[user_ratings_for_movies_with_metadata[\"userID\"].isin(users_low_frequency_remainder)]\n",
    "\n",
    "##########################################################################################\n",
    "#################### Pulling in the Movie - X Feature Candidates #########################\n",
    "##########################################################################################\n",
    "imdb_and_rt_ratings_feature = pd.read_pickle('imdb_and_rt_ratings_feature.pickle') #<- ??Maybe I should consider dim. reducing these too?\n",
    "imdb_and_rt_ratings_feature_reduced = imdb_and_rt_ratings_feature[[\"movieID\",\"rtAllCriticsScore\",\"rtAudienceScore\"]]\n",
    "\n",
    "misc_movie_features = pd.read_pickle('misc_movie_features.pickle')\n",
    "\n",
    "#This is the full genre dummy feature... seems like perhaps I could test it whole since it's relatively small\n",
    "genre_feature_dummied = pd.read_pickle('genre_feature_dummied.pickle')\n",
    "\n",
    "#This is the svd shrunk features.\n",
    "directors_feature_dim_reduced = pd.read_pickle('directors_feature_dim_reduced.pickle')\n",
    "genre_feature_dim_reduced = pd.read_pickle('genre_feature_dim_reduced.pickle')\n",
    "tags_feature_dim_reduced= pd.read_pickle('tags_feature_dim_reduced.pickle')\n",
    "actors_feature_dim_reduced = pd.read_pickle('actors_feature_dim_reduced.pickle')\n",
    "user_ratings_for_movies_with_metadata.head()\n",
    "All_data = pd.merge(user_ratings_for_movies_with_metadata[[\"userID\",\"movieID\",\"binned_5\"]], lookup_table_movies[[\"movieID\",\"title\"]], on = \"movieID\")\n",
    "All_data = pd.merge(All_data, directors_feature_dim_reduced, on = \"movieID\")\n",
    "All_data = pd.merge(All_data, genre_feature_dummied, on = \"movieID\")\n",
    "All_data.head()\n",
    "\n",
    "sf_binned_5 = gl.SFrame(data = All_data)\n",
    "sf_binned_5[\"binned_5\"].show()"
   ]
  },
  {
   "cell_type": "code",
   "execution_count": null,
   "metadata": {
    "collapsed": true
   },
   "outputs": [],
   "source": [
    "sf_binned_5_withFeatures = gl.SFrame({\"user_id\":All_data[\"userID\"],\n",
    "                               \"item_id\":All_data[\"movieID\"],\n",
    "                               \"rating\":All_data[\"binned_5\"],\n",
    "                            \"title\":All_data[\"title\"]})"
   ]
  },
  {
   "cell_type": "code",
   "execution_count": null,
   "metadata": {
    "collapsed": true
   },
   "outputs": [],
   "source": []
  },
  {
   "cell_type": "code",
   "execution_count": null,
   "metadata": {
    "collapsed": true
   },
   "outputs": [],
   "source": [
    "actions.head(5)"
   ]
  },
  {
   "cell_type": "code",
   "execution_count": null,
   "metadata": {
    "collapsed": true
   },
   "outputs": [],
   "source": [
    "# ### Prepare Data ###\n",
    "\n",
    "# # Prepare the data by removing items that are rare\n",
    "# rare_items = actions.groupby('movieId', gl.aggregate.COUNT).sort('Count')\n",
    "# # rare_items = rare_items[rare_items['Count'] <= 5]\n",
    "# items = items.filter_by(rare_items['movieId'], 'movieId', exclude=True)\n",
    "# actions = actions.filter_by(rare_items['movieId'], 'movieId', exclude=True)"
   ]
  },
  {
   "cell_type": "code",
   "execution_count": null,
   "metadata": {
    "collapsed": true
   },
   "outputs": [],
   "source": [
    "items.head(5)"
   ]
  },
  {
   "cell_type": "code",
   "execution_count": null,
   "metadata": {
    "collapsed": true
   },
   "outputs": [],
   "source": [
    "items['year'] = items['title'].apply(lambda x: x[-5:-1])\n",
    "items['title'] = items['title'].apply(lambda x: x[:-7])\n",
    "items['genres'] = items['genres'].apply(lambda x: x.split('|'))"
   ]
  },
  {
   "cell_type": "code",
   "execution_count": null,
   "metadata": {
    "collapsed": true
   },
   "outputs": [],
   "source": []
  },
  {
   "cell_type": "code",
   "execution_count": 3,
   "metadata": {
    "collapsed": false
   },
   "outputs": [
    {
     "ename": "NameError",
     "evalue": "name 'personalized_model' is not defined",
     "output_type": "error",
     "traceback": [
      "\u001b[0;31m---------------------------------------------------------------------------\u001b[0m",
      "\u001b[0;31mNameError\u001b[0m                                 Traceback (most recent call last)",
      "\u001b[0;32m<ipython-input-3-7f6739c55d4d>\u001b[0m in \u001b[0;36m<module>\u001b[0;34m()\u001b[0m\n\u001b[0;32m----> 1\u001b[0;31m \u001b[0mpersonalized_model\u001b[0m\u001b[0;34m.\u001b[0m\u001b[0mget_similar_items\u001b[0m\u001b[0;34m(\u001b[0m\u001b[0;34m[\u001b[0m\u001b[0;34m'The Matrix'\u001b[0m\u001b[0;34m]\u001b[0m\u001b[0;34m)\u001b[0m\u001b[0;34m\u001b[0m\u001b[0m\n\u001b[0m",
      "\u001b[0;31mNameError\u001b[0m: name 'personalized_model' is not defined"
     ]
    }
   ],
   "source": [
    "personalized_model.get_similar_items(['The Matrix'])"
   ]
  },
  {
   "cell_type": "code",
   "execution_count": 4,
   "metadata": {
    "collapsed": false
   },
   "outputs": [
    {
     "ename": "NameError",
     "evalue": "name 'personalized_model' is not defined",
     "output_type": "error",
     "traceback": [
      "\u001b[0;31m---------------------------------------------------------------------------\u001b[0m",
      "\u001b[0;31mNameError\u001b[0m                                 Traceback (most recent call last)",
      "\u001b[0;32m<ipython-input-4-0c1f1c6c3d6f>\u001b[0m in \u001b[0;36m<module>\u001b[0;34m()\u001b[0m\n\u001b[0;32m----> 1\u001b[0;31m \u001b[0mpersonalized_model\u001b[0m\u001b[0;34m.\u001b[0m\u001b[0mget_similar_items\u001b[0m\u001b[0;34m(\u001b[0m\u001b[0;34m[\u001b[0m\u001b[0;34m'Toy story'\u001b[0m\u001b[0;34m]\u001b[0m\u001b[0;34m)\u001b[0m\u001b[0;34m\u001b[0m\u001b[0m\n\u001b[0m",
      "\u001b[0;31mNameError\u001b[0m: name 'personalized_model' is not defined"
     ]
    }
   ],
   "source": [
    "personalized_model.get_similar_items(['Toy story'])"
   ]
  },
  {
   "cell_type": "code",
   "execution_count": null,
   "metadata": {
    "collapsed": true
   },
   "outputs": [],
   "source": [
    "\n",
    "\n",
    "# training_data, validation_data = gl.recommender.util.random_split_by_user(train_data, 'userID', 'movieID')"
   ]
  },
  {
   "cell_type": "code",
   "execution_count": null,
   "metadata": {
    "collapsed": true
   },
   "outputs": [],
   "source": []
  },
  {
   "cell_type": "code",
   "execution_count": 5,
   "metadata": {
    "collapsed": false
   },
   "outputs": [
    {
     "ename": "NameError",
     "evalue": "name 'sf_binned_5' is not defined",
     "output_type": "error",
     "traceback": [
      "\u001b[0;31m---------------------------------------------------------------------------\u001b[0m",
      "\u001b[0;31mNameError\u001b[0m                                 Traceback (most recent call last)",
      "\u001b[0;32m<ipython-input-5-b7dce012989e>\u001b[0m in \u001b[0;36m<module>\u001b[0;34m()\u001b[0m\n\u001b[0;32m----> 1\u001b[0;31m \u001b[0musers\u001b[0m \u001b[0;34m=\u001b[0m \u001b[0msf_binned_5\u001b[0m\u001b[0;34m[\u001b[0m\u001b[0;34m'user_id'\u001b[0m\u001b[0;34m]\u001b[0m\u001b[0;34m.\u001b[0m\u001b[0munique\u001b[0m\u001b[0;34m(\u001b[0m\u001b[0;34m)\u001b[0m\u001b[0;34m\u001b[0m\u001b[0m\n\u001b[0m\u001b[1;32m      2\u001b[0m \u001b[0mmodal\u001b[0m\u001b[0;34m.\u001b[0m\u001b[0mrecommend\u001b[0m\u001b[0;34m(\u001b[0m\u001b[0musers\u001b[0m\u001b[0;34m=\u001b[0m\u001b[0;34m[\u001b[0m\u001b[0musers\u001b[0m\u001b[0;34m[\u001b[0m\u001b[0;36m346\u001b[0m\u001b[0;34m]\u001b[0m\u001b[0;34m]\u001b[0m\u001b[0;34m)\u001b[0m\u001b[0;34m\u001b[0m\u001b[0m\n\u001b[1;32m      3\u001b[0m \u001b[0mpersonalized_model\u001b[0m\u001b[0;34m.\u001b[0m\u001b[0mrecommend\u001b[0m\u001b[0;34m(\u001b[0m\u001b[0musers\u001b[0m\u001b[0;34m=\u001b[0m\u001b[0;34m[\u001b[0m\u001b[0musers\u001b[0m\u001b[0;34m[\u001b[0m\u001b[0;36m34\u001b[0m\u001b[0;34m]\u001b[0m\u001b[0;34m]\u001b[0m\u001b[0;34m)\u001b[0m\u001b[0;34m\u001b[0m\u001b[0m\n",
      "\u001b[0;31mNameError\u001b[0m: name 'sf_binned_5' is not defined"
     ]
    }
   ],
   "source": [
    "users = sf_binned_5['user_id'].unique()\n",
    "modal.recommend(users=[users[346]])\n",
    "personalized_model.recommend(users=[users[34]])"
   ]
  },
  {
   "cell_type": "code",
   "execution_count": null,
   "metadata": {
    "collapsed": true
   },
   "outputs": [],
   "source": []
  }
 ],
 "metadata": {
  "kernelspec": {
   "display_name": "Python 2",
   "language": "python",
   "name": "python2"
  },
  "language_info": {
   "codemirror_mode": {
    "name": "ipython",
    "version": 2
   },
   "file_extension": ".py",
   "mimetype": "text/x-python",
   "name": "python",
   "nbconvert_exporter": "python",
   "pygments_lexer": "ipython2",
   "version": "2.7.11"
  }
 },
 "nbformat": 4,
 "nbformat_minor": 0
}
