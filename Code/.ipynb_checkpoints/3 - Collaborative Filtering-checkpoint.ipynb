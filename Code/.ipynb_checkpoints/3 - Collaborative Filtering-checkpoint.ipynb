{
 "cells": [
  {
   "cell_type": "code",
   "execution_count": 1,
   "metadata": {
    "collapsed": false
   },
   "outputs": [
    {
     "name": "stderr",
     "output_type": "stream",
     "text": [
      "//anaconda/envs/dato-env/lib/python2.7/site-packages/pandas/computation/__init__.py:19: UserWarning: The installed version of numexpr 2.4.4 is not supported in pandas and will be not be used\n",
      "\n",
      "  UserWarning)\n"
     ]
    }
   ],
   "source": [
    "import graphlab as gl"
   ]
  },
  {
   "cell_type": "code",
   "execution_count": 66,
   "metadata": {
    "collapsed": true
   },
   "outputs": [],
   "source": [
    "gl.canvas.set_target('ipynb')\n",
    "#gl.canvas.set_target('browser')"
   ]
  },
  {
   "cell_type": "code",
   "execution_count": 3,
   "metadata": {
    "collapsed": false
   },
   "outputs": [],
   "source": [
    "import pandas as pd\n",
    "import numpy as np\n",
    "import pickle\n",
    "import sys"
   ]
  },
  {
   "cell_type": "code",
   "execution_count": 5,
   "metadata": {
    "collapsed": false
   },
   "outputs": [
    {
     "name": "stderr",
     "output_type": "stream",
     "text": [
      "/anaconda/envs/dato-env/lib/python2.7/site-packages/ipykernel/__main__.py:20: FutureWarning: sort(columns=....) is deprecated, use sort_values(by=.....)\n"
     ]
    }
   ],
   "source": [
    "##########################################################################################\n",
    "#################### Pulling in the Lookup Table for Movies #############################\n",
    "##########################################################################################\n",
    "lookup_table_movies = pd.read_pickle('lookup_table_movies.pickle')\n",
    "\n",
    "##########################################################################################\n",
    "#################### Pulling in the User Ratings #########################################\n",
    "##########################################################################################\n",
    "\n",
    "user_ratings = pd.read_pickle('user_ratings.pickle')\n",
    "\n",
    "# This contains all the movieIDs for which we have already compiled metadata info available (i.e. from hetrec)\n",
    "movies_with_metadata = lookup_table_movies[\"movieID\"].unique()  #10197 in length\n",
    "\n",
    "# This takes all the user ratings from the ml-latest download, and pairs it down to only those movies \n",
    "# for which we have metadata information.\n",
    "user_ratings_for_movies_with_metadata = user_ratings[user_ratings[\"movieID\"].isin(movies_with_metadata)] # 10196 in length\n",
    "\n",
    "# This creates special lists that will be used to bias our training set towards users with a lot of ratings.\n",
    "users_ordered_by_frequency_table = user_ratings_for_movies_with_metadata[[\"userID\",\"original_9\"]].groupby(\"userID\", as_index = False).count().sort('original_9', ascending=False)\n",
    "#users_ordered_by_frequency = list(users_ordered_by_frequency_table[\"userID\"])\n",
    "# These are the ID's of the 25000 most frequently rating users. \n",
    "#users_high_frequency_25000 = users_ordered_by_frequency[0:25000]  \n",
    "users_over20_reviews = users_ordered_by_frequency_table[users_ordered_by_frequency_table[\"original_9\"] > 20][\"userID\"]\n",
    "users_over30_reviews = users_ordered_by_frequency_table[users_ordered_by_frequency_table[\"original_9\"] > 30][\"userID\"]\n",
    "\n",
    "#user_ratings_high_frequency = user_ratings_for_movies_with_metadata[user_ratings_for_movies_with_metadata[\"userID\"].isin(users_w_most_ratings_25000)]\n",
    "# These are the ID's of the other are the less frequently rating users\n",
    "#users_low_frequency_remainder = users_ordered_by_frequency[25000:]\n",
    "#user_ratings_low_frequency = user_ratings_for_movies_with_metadata[user_ratings_for_movies_with_metadata[\"userID\"].isin(users_low_frequency_remainder)]\n",
    "\n",
    "##########################################################################################\n",
    "#################### Pulling in the Movie - X Feature Candidates #########################\n",
    "##########################################################################################\n",
    "imdb_and_rt_ratings_feature = pd.read_pickle('imdb_and_rt_ratings_feature.pickle') #<- ??Maybe I should consider dim. reducing these too?\n",
    "imdb_and_rt_ratings_feature_reduced = imdb_and_rt_ratings_feature[[\"movieID\",\"rtAllCriticsScore\",\"rtAudienceScore\"]]\n",
    "\n",
    "misc_movie_features = pd.read_pickle('misc_movie_features.pickle')\n",
    "\n",
    "#This is the full genre dummy feature... seems like perhaps I could test it whole since it's relatively small\n",
    "genre_feature_dummied = pd.read_pickle('genre_feature_dummied.pickle')\n",
    "\n",
    "#This is the svd shrunk features.\n",
    "directors_feature_dim_reduced = pd.read_pickle('directors_feature_dim_reduced.pickle')\n",
    "genre_feature_dim_reduced = pd.read_pickle('genre_feature_dim_reduced.pickle')\n",
    "tags_feature_dim_reduced= pd.read_pickle('tags_feature_dim_reduced.pickle')\n",
    "actors_feature_dim_reduced = pd.read_pickle('actors_feature_dim_reduced.pickle')"
   ]
  },
  {
   "cell_type": "code",
   "execution_count": 6,
   "metadata": {
    "collapsed": false
   },
   "outputs": [],
   "source": [
    "# user_ratings_for_movies_with_metadata.head()"
   ]
  },
  {
   "cell_type": "code",
   "execution_count": null,
   "metadata": {
    "collapsed": false
   },
   "outputs": [],
   "source": [
    "# All_data = pd.merge(user_ratings_for_movies_with_metadata[[\"userID\",\"movieID\",\"binned_5\"]], lookup_table_movies[[\"movieID\",\"title\"]], on = \"movieID\")"
   ]
  },
  {
   "cell_type": "code",
   "execution_count": null,
   "metadata": {
    "collapsed": true
   },
   "outputs": [],
   "source": [
    "# All_data = pd.merge(All_data, directors_feature_dim_reduced, on = \"movieID\")"
   ]
  },
  {
   "cell_type": "code",
   "execution_count": null,
   "metadata": {
    "collapsed": true
   },
   "outputs": [],
   "source": [
    "# All_data = pd.merge(All_data, genre_feature_dummied, on = \"movieID\")"
   ]
  },
  {
   "cell_type": "code",
   "execution_count": 7,
   "metadata": {
    "collapsed": false
   },
   "outputs": [],
   "source": [
    "# All_data.head()"
   ]
  },
  {
   "cell_type": "code",
   "execution_count": 43,
   "metadata": {
    "collapsed": false
   },
   "outputs": [],
   "source": [
    "# sf_binned_5 = gl.SFrame(data = All_data)"
   ]
  },
  {
   "cell_type": "code",
   "execution_count": 35,
   "metadata": {
    "collapsed": false
   },
   "outputs": [
    {
     "ename": "NameError",
     "evalue": "name 'sf_binned_5' is not defined",
     "output_type": "error",
     "traceback": [
      "\u001b[0;31m---------------------------------------------------------------------------\u001b[0m",
      "\u001b[0;31mNameError\u001b[0m                                 Traceback (most recent call last)",
      "\u001b[0;32m<ipython-input-35-e24e3e04d25e>\u001b[0m in \u001b[0;36m<module>\u001b[0;34m()\u001b[0m\n\u001b[0;32m----> 1\u001b[0;31m \u001b[0msf_binned_5\u001b[0m\u001b[0;34m[\u001b[0m\u001b[0;34m\"binned_5\"\u001b[0m\u001b[0;34m]\u001b[0m\u001b[0;34m.\u001b[0m\u001b[0mshow\u001b[0m\u001b[0;34m(\u001b[0m\u001b[0;34m)\u001b[0m\u001b[0;34m\u001b[0m\u001b[0m\n\u001b[0m",
      "\u001b[0;31mNameError\u001b[0m: name 'sf_binned_5' is not defined"
     ]
    }
   ],
   "source": [
    "# sf_binned_5[\"binned_5\"].show()"
   ]
  },
  {
   "cell_type": "code",
   "execution_count": null,
   "metadata": {
    "collapsed": false
   },
   "outputs": [],
   "source": []
  },
  {
   "cell_type": "markdown",
   "metadata": {},
   "source": [
    "# Load Data"
   ]
  },
  {
   "cell_type": "code",
   "execution_count": 8,
   "metadata": {
    "collapsed": true
   },
   "outputs": [],
   "source": []
  },
  {
   "cell_type": "code",
   "execution_count": 37,
   "metadata": {
    "collapsed": true
   },
   "outputs": [],
   "source": [
    "from os import path"
   ]
  },
  {
   "cell_type": "code",
   "execution_count": 38,
   "metadata": {
    "collapsed": false
   },
   "outputs": [],
   "source": [
    "data_dir = \"Movie_Data/ml-latest/\""
   ]
  },
  {
   "cell_type": "code",
   "execution_count": 39,
   "metadata": {
    "collapsed": false
   },
   "outputs": [
    {
     "data": {
      "text/html": [
       "<pre>Finished parsing file /Users/Zhanna/Documents/Coding_Projects/Metis/WorkInProgressMetis/03 - Project McNulty - Classification/links_redux.csv</pre>"
      ],
      "text/plain": [
       "Finished parsing file /Users/Zhanna/Documents/Coding_Projects/Metis/WorkInProgressMetis/03 - Project McNulty - Classification/links_redux.csv"
      ]
     },
     "metadata": {},
     "output_type": "display_data"
    },
    {
     "data": {
      "text/html": [
       "<pre>Parsing completed. Parsed 100 lines in 0.037217 secs.</pre>"
      ],
      "text/plain": [
       "Parsing completed. Parsed 100 lines in 0.037217 secs."
      ]
     },
     "metadata": {},
     "output_type": "display_data"
    },
    {
     "data": {
      "text/html": [
       "<pre>Finished parsing file /Users/Zhanna/Documents/Coding_Projects/Metis/WorkInProgressMetis/03 - Project McNulty - Classification/links_redux.csv</pre>"
      ],
      "text/plain": [
       "Finished parsing file /Users/Zhanna/Documents/Coding_Projects/Metis/WorkInProgressMetis/03 - Project McNulty - Classification/links_redux.csv"
      ]
     },
     "metadata": {},
     "output_type": "display_data"
    },
    {
     "data": {
      "text/html": [
       "<pre>Parsing completed. Parsed 10197 lines in 0.043057 secs.</pre>"
      ],
      "text/plain": [
       "Parsing completed. Parsed 10197 lines in 0.043057 secs."
      ]
     },
     "metadata": {},
     "output_type": "display_data"
    },
    {
     "name": "stdout",
     "output_type": "stream",
     "text": [
      "------------------------------------------------------\n",
      "Inferred types from first 100 line(s) of file as \n",
      "column_type_hints=[int,int,str]\n",
      "If parsing fails due to incorrect types, you can correct\n",
      "the inferred type list above and pass it to read_csv in\n",
      "the column_type_hints argument\n",
      "------------------------------------------------------\n"
     ]
    }
   ],
   "source": [
    "links_sf = gl.SFrame.read_csv(\"links_redux.csv\")"
   ]
  },
  {
   "cell_type": "code",
   "execution_count": 42,
   "metadata": {
    "collapsed": false
   },
   "outputs": [
    {
     "data": {
      "text/html": [
       "<pre>Finished parsing file /Users/Zhanna/Documents/Coding_Projects/Metis/WorkInProgressMetis/03 - Project McNulty - Classification/Movie_Data/ml-latest/movies.csv</pre>"
      ],
      "text/plain": [
       "Finished parsing file /Users/Zhanna/Documents/Coding_Projects/Metis/WorkInProgressMetis/03 - Project McNulty - Classification/Movie_Data/ml-latest/movies.csv"
      ]
     },
     "metadata": {},
     "output_type": "display_data"
    },
    {
     "data": {
      "text/html": [
       "<pre>Parsing completed. Parsed 100 lines in 0.090139 secs.</pre>"
      ],
      "text/plain": [
       "Parsing completed. Parsed 100 lines in 0.090139 secs."
      ]
     },
     "metadata": {},
     "output_type": "display_data"
    },
    {
     "data": {
      "text/html": [
       "<pre>Finished parsing file /Users/Zhanna/Documents/Coding_Projects/Metis/WorkInProgressMetis/03 - Project McNulty - Classification/Movie_Data/ml-latest/movies.csv</pre>"
      ],
      "text/plain": [
       "Finished parsing file /Users/Zhanna/Documents/Coding_Projects/Metis/WorkInProgressMetis/03 - Project McNulty - Classification/Movie_Data/ml-latest/movies.csv"
      ]
     },
     "metadata": {},
     "output_type": "display_data"
    },
    {
     "data": {
      "text/html": [
       "<pre>Parsing completed. Parsed 34208 lines in 0.084464 secs.</pre>"
      ],
      "text/plain": [
       "Parsing completed. Parsed 34208 lines in 0.084464 secs."
      ]
     },
     "metadata": {},
     "output_type": "display_data"
    },
    {
     "name": "stdout",
     "output_type": "stream",
     "text": [
      "------------------------------------------------------\n",
      "Inferred types from first 100 line(s) of file as \n",
      "column_type_hints=[int,str,str]\n",
      "If parsing fails due to incorrect types, you can correct\n",
      "the inferred type list above and pass it to read_csv in\n",
      "the column_type_hints argument\n",
      "------------------------------------------------------\n"
     ]
    }
   ],
   "source": [
    "# Table of movies we are recommending: movieId, title, genres\n",
    "items = gl.SFrame.read_csv(path.join(data_dir, 'movies.csv'))"
   ]
  },
  {
   "cell_type": "code",
   "execution_count": 45,
   "metadata": {
    "collapsed": false
   },
   "outputs": [
    {
     "data": {
      "text/html": [
       "<pre>Finished parsing file /Users/Zhanna/Documents/Coding_Projects/Metis/WorkInProgressMetis/03 - Project McNulty - Classification/Movie_Data/ml-latest/links.csv</pre>"
      ],
      "text/plain": [
       "Finished parsing file /Users/Zhanna/Documents/Coding_Projects/Metis/WorkInProgressMetis/03 - Project McNulty - Classification/Movie_Data/ml-latest/links.csv"
      ]
     },
     "metadata": {},
     "output_type": "display_data"
    },
    {
     "data": {
      "text/html": [
       "<pre>Parsing completed. Parsed 100 lines in 0.049377 secs.</pre>"
      ],
      "text/plain": [
       "Parsing completed. Parsed 100 lines in 0.049377 secs."
      ]
     },
     "metadata": {},
     "output_type": "display_data"
    },
    {
     "data": {
      "text/html": [
       "<pre>Finished parsing file /Users/Zhanna/Documents/Coding_Projects/Metis/WorkInProgressMetis/03 - Project McNulty - Classification/Movie_Data/ml-latest/links.csv</pre>"
      ],
      "text/plain": [
       "Finished parsing file /Users/Zhanna/Documents/Coding_Projects/Metis/WorkInProgressMetis/03 - Project McNulty - Classification/Movie_Data/ml-latest/links.csv"
      ]
     },
     "metadata": {},
     "output_type": "display_data"
    },
    {
     "data": {
      "text/html": [
       "<pre>Parsing completed. Parsed 34208 lines in 0.036044 secs.</pre>"
      ],
      "text/plain": [
       "Parsing completed. Parsed 34208 lines in 0.036044 secs."
      ]
     },
     "metadata": {},
     "output_type": "display_data"
    },
    {
     "name": "stdout",
     "output_type": "stream",
     "text": [
      "------------------------------------------------------\n",
      "Inferred types from first 100 line(s) of file as \n",
      "column_type_hints=[int,int,int]\n",
      "If parsing fails due to incorrect types, you can correct\n",
      "the inferred type list above and pass it to read_csv in\n",
      "the column_type_hints argument\n",
      "------------------------------------------------------\n"
     ]
    }
   ],
   "source": [
    "# Get the metadata ready\n",
    "urls = gl.SFrame.read_csv(path.join(data_dir, 'links.csv'))\n",
    "items = items.join(urls, on='movieId')\n",
    "items = items.join(links_sf, on='movieId')"
   ]
  },
  {
   "cell_type": "code",
   "execution_count": 53,
   "metadata": {
    "collapsed": false
   },
   "outputs": [
    {
     "data": {
      "text/html": [
       "<pre>Finished parsing file /Users/Zhanna/Documents/Coding_Projects/Metis/WorkInProgressMetis/03 - Project McNulty - Classification/Movie_Data/ml-latest/ratings.csv</pre>"
      ],
      "text/plain": [
       "Finished parsing file /Users/Zhanna/Documents/Coding_Projects/Metis/WorkInProgressMetis/03 - Project McNulty - Classification/Movie_Data/ml-latest/ratings.csv"
      ]
     },
     "metadata": {},
     "output_type": "display_data"
    },
    {
     "data": {
      "text/html": [
       "<pre>Parsing completed. Parsed 100 lines in 1.39266 secs.</pre>"
      ],
      "text/plain": [
       "Parsing completed. Parsed 100 lines in 1.39266 secs."
      ]
     },
     "metadata": {},
     "output_type": "display_data"
    },
    {
     "data": {
      "text/html": [
       "<pre>Read 2012336 lines. Lines per second: 727344</pre>"
      ],
      "text/plain": [
       "Read 2012336 lines. Lines per second: 727344"
      ]
     },
     "metadata": {},
     "output_type": "display_data"
    },
    {
     "data": {
      "text/html": [
       "<pre>Read 11789872 lines. Lines per second: 1.41156e+06</pre>"
      ],
      "text/plain": [
       "Read 11789872 lines. Lines per second: 1.41156e+06"
      ]
     },
     "metadata": {},
     "output_type": "display_data"
    },
    {
     "data": {
      "text/html": [
       "<pre>Read 21304649 lines. Lines per second: 1.49073e+06</pre>"
      ],
      "text/plain": [
       "Read 21304649 lines. Lines per second: 1.49073e+06"
      ]
     },
     "metadata": {},
     "output_type": "display_data"
    },
    {
     "data": {
      "text/html": [
       "<pre>Finished parsing file /Users/Zhanna/Documents/Coding_Projects/Metis/WorkInProgressMetis/03 - Project McNulty - Classification/Movie_Data/ml-latest/ratings.csv</pre>"
      ],
      "text/plain": [
       "Finished parsing file /Users/Zhanna/Documents/Coding_Projects/Metis/WorkInProgressMetis/03 - Project McNulty - Classification/Movie_Data/ml-latest/ratings.csv"
      ]
     },
     "metadata": {},
     "output_type": "display_data"
    },
    {
     "data": {
      "text/html": [
       "<pre>Parsing completed. Parsed 22884377 lines in 14.8398 secs.</pre>"
      ],
      "text/plain": [
       "Parsing completed. Parsed 22884377 lines in 14.8398 secs."
      ]
     },
     "metadata": {},
     "output_type": "display_data"
    },
    {
     "name": "stdout",
     "output_type": "stream",
     "text": [
      "------------------------------------------------------\n",
      "Inferred types from first 100 line(s) of file as \n",
      "column_type_hints=[int,int,float,int]\n",
      "If parsing fails due to incorrect types, you can correct\n",
      "the inferred type list above and pass it to read_csv in\n",
      "the column_type_hints argument\n",
      "------------------------------------------------------\n"
     ]
    }
   ],
   "source": [
    "# Table of interactions between users and items: userId, movieId, rating, timestamp\n",
    "actions = gl.SFrame.read_csv(path.join(data_dir, 'ratings.csv'))"
   ]
  },
  {
   "cell_type": "markdown",
   "metadata": {},
   "source": [
    "# Split Data"
   ]
  },
  {
   "cell_type": "code",
   "execution_count": 54,
   "metadata": {
    "collapsed": false
   },
   "outputs": [],
   "source": [
    "training_data, validation_data = gl.recommender.util.random_split_by_user(actions, 'userId', 'movieId',random_seed=0)"
   ]
  },
  {
   "cell_type": "code",
   "execution_count": null,
   "metadata": {
    "collapsed": true
   },
   "outputs": [],
   "source": [
    "# training_data, validation_data = gl.recommender.util.random_split_by_user(train_data, 'userID', 'movieID')"
   ]
  },
  {
   "cell_type": "markdown",
   "metadata": {},
   "source": [
    "# Load Model"
   ]
  },
  {
   "cell_type": "code",
   "execution_count": 49,
   "metadata": {
    "collapsed": true
   },
   "outputs": [],
   "source": [
    "# model_with_rating_target.save(\"model_with_rating_target\")\n",
    "model_with_rating_target = gl.load_model('model_with_rating_target')"
   ]
  },
  {
   "cell_type": "markdown",
   "metadata": {},
   "source": [
    "# View Data"
   ]
  },
  {
   "cell_type": "code",
   "execution_count": 55,
   "metadata": {
    "collapsed": false
   },
   "outputs": [
    {
     "data": {
      "text/html": [
       "<pre>WARNING: Column 'movieId' is excluded due to invalid column type (integer).</pre>"
      ],
      "text/plain": [
       "WARNING: Column 'movieId' is excluded due to invalid column type (integer)."
      ]
     },
     "metadata": {},
     "output_type": "display_data"
    },
    {
     "data": {
      "text/html": [
       "<pre>WARNING: Column 'imdbId' is excluded due to invalid column type (integer).</pre>"
      ],
      "text/plain": [
       "WARNING: Column 'imdbId' is excluded due to invalid column type (integer)."
      ]
     },
     "metadata": {},
     "output_type": "display_data"
    },
    {
     "data": {
      "text/html": [
       "<pre>WARNING: Column 'tmdbId' is excluded due to invalid column type (integer).</pre>"
      ],
      "text/plain": [
       "WARNING: Column 'tmdbId' is excluded due to invalid column type (integer)."
      ]
     },
     "metadata": {},
     "output_type": "display_data"
    },
    {
     "data": {
      "text/html": [
       "<pre>WARNING: Column 'imdbId.1' is excluded due to invalid column type (integer).</pre>"
      ],
      "text/plain": [
       "WARNING: Column 'imdbId.1' is excluded due to invalid column type (integer)."
      ]
     },
     "metadata": {},
     "output_type": "display_data"
    },
    {
     "data": {
      "text/html": [
       "<pre>WARNING: Column 'tmdbId.1' is excluded due to invalid column type (integer).</pre>"
      ],
      "text/plain": [
       "WARNING: Column 'tmdbId.1' is excluded due to invalid column type (integer)."
      ]
     },
     "metadata": {},
     "output_type": "display_data"
    },
    {
     "data": {
      "text/html": [
       "<pre>WARNING: Column 'X1' is excluded due to invalid column type (integer).</pre>"
      ],
      "text/plain": [
       "WARNING: Column 'X1' is excluded due to invalid column type (integer)."
      ]
     },
     "metadata": {},
     "output_type": "display_data"
    },
    {
     "data": {
      "text/html": [
       "<pre>WARNING: Column 'num_items' is excluded due to invalid column type (integer).</pre>"
      ],
      "text/plain": [
       "WARNING: Column 'num_items' is excluded due to invalid column type (integer)."
      ]
     },
     "metadata": {},
     "output_type": "display_data"
    },
    {
     "data": {
      "text/plain": [
       "View object\n",
       "\n",
       "URI: \t\thttp://localhost:32212/view/38b81599-fd2f-45ca-8f24-2a7f9676cab1\n",
       "HTML: \t\t\n",
       "<gl-layout-stacked >\n",
       "    <!--\n",
       "        \n",
       "<gl-recommender-description\n",
       "    uri=\"http://localhost:32212/view/42e8da46-d548-49f2-81ea-70812ec73d82\"\n",
       "    api_key=\"\"\n",
       "/>\n",
       "        \n",
       "<gl-layout-tabs \n",
       "headers=\"[&quot;Explore&quot;, &quot;Evaluate&quot;]\"\n",
       "            >\n",
       "    \n",
       "<gl-recommender-explore\n",
       "    uri=\"http://localhost:32212/view/f8565a79-c770-4a97-a054-bcb9c550e73d\"\n",
       "    api_key=\"\"\n",
       "/>\n",
       "        \n",
       "<gl-recommender-evaluate\n",
       "    uri=\"http://localhost:32212/view/8b9bb8cf-6a77-4673-a89e-35f11e78ca44\"\n",
       "    api_key=\"\"\n",
       "/>\n",
       "        \n",
       "</gl-layout-tabs>\n",
       "        \n",
       "    -->\n",
       "</gl-layout-stacked>\n",
       "        "
      ]
     },
     "execution_count": 55,
     "metadata": {},
     "output_type": "execute_result"
    },
    {
     "data": {
      "text/html": [
       "<pre>Getting similar items completed in 0.010774</pre>"
      ],
      "text/plain": [
       "Getting similar items completed in 0.010774"
      ]
     },
     "metadata": {},
     "output_type": "display_data"
    },
    {
     "data": {
      "text/html": [
       "<pre>Getting similar items completed in 0.002437</pre>"
      ],
      "text/plain": [
       "Getting similar items completed in 0.002437"
      ]
     },
     "metadata": {},
     "output_type": "display_data"
    },
    {
     "data": {
      "text/html": [
       "<pre>Getting similar items completed in 0.001869</pre>"
      ],
      "text/plain": [
       "Getting similar items completed in 0.001869"
      ]
     },
     "metadata": {},
     "output_type": "display_data"
    },
    {
     "name": "stderr",
     "output_type": "stream",
     "text": [
      "2016-05-13 08:43:56,933 [WARNING] tornado.access, 1825: 404 GET /favicon.ico (::1) 0.59ms\n",
      "2016-05-13 08:43:56,962 [WARNING] tornado.access, 1825: 404 GET /favicon.ico (::1) 0.85ms\n"
     ]
    },
    {
     "data": {
      "text/html": [
       "<pre>Getting similar items completed in 0.001888</pre>"
      ],
      "text/plain": [
       "Getting similar items completed in 0.001888"
      ]
     },
     "metadata": {},
     "output_type": "display_data"
    },
    {
     "data": {
      "text/html": [
       "<pre>Getting similar items completed in 0.001738</pre>"
      ],
      "text/plain": [
       "Getting similar items completed in 0.001738"
      ]
     },
     "metadata": {},
     "output_type": "display_data"
    },
    {
     "data": {
      "text/html": [
       "<pre>Getting similar items completed in 0.002167</pre>"
      ],
      "text/plain": [
       "Getting similar items completed in 0.002167"
      ]
     },
     "metadata": {},
     "output_type": "display_data"
    },
    {
     "data": {
      "text/html": [
       "<pre>Getting similar items completed in 0.002246</pre>"
      ],
      "text/plain": [
       "Getting similar items completed in 0.002246"
      ]
     },
     "metadata": {},
     "output_type": "display_data"
    },
    {
     "data": {
      "text/html": [
       "<pre>Getting similar items completed in 0.002938</pre>"
      ],
      "text/plain": [
       "Getting similar items completed in 0.002938"
      ]
     },
     "metadata": {},
     "output_type": "display_data"
    },
    {
     "data": {
      "text/html": [
       "<pre>Getting similar items completed in 0.002072</pre>"
      ],
      "text/plain": [
       "Getting similar items completed in 0.002072"
      ]
     },
     "metadata": {},
     "output_type": "display_data"
    },
    {
     "data": {
      "text/html": [
       "<pre>Getting similar items completed in 0.002104</pre>"
      ],
      "text/plain": [
       "Getting similar items completed in 0.002104"
      ]
     },
     "metadata": {},
     "output_type": "display_data"
    },
    {
     "data": {
      "text/html": [
       "<pre>Getting similar items completed in 0.002177</pre>"
      ],
      "text/plain": [
       "Getting similar items completed in 0.002177"
      ]
     },
     "metadata": {},
     "output_type": "display_data"
    }
   ],
   "source": [
    "model_with_rating_target.views.overview(validation_set=validation_data,\n",
    "                                         item_data=items,\n",
    "                                   item_name_column='title',\n",
    "                                       item_url_column='imdbPictureURL')"
   ]
  },
  {
   "cell_type": "code",
   "execution_count": 62,
   "metadata": {
    "collapsed": false
   },
   "outputs": [],
   "source": [
    "actions_temp = actions"
   ]
  },
  {
   "cell_type": "code",
   "execution_count": null,
   "metadata": {
    "collapsed": true
   },
   "outputs": [],
   "source": [
    "actions_temp[\"rating\"].c"
   ]
  },
  {
   "cell_type": "code",
   "execution_count": 59,
   "metadata": {
    "collapsed": false
   },
   "outputs": [
    {
     "data": {
      "text/html": [
       "<div style=\"max-height:1000px;max-width:1500px;overflow:auto;\"><table frame=\"box\" rules=\"cols\">\n",
       "    <tr>\n",
       "        <th style=\"padding-left: 1em; padding-right: 1em; text-align: center\">userId</th>\n",
       "        <th style=\"padding-left: 1em; padding-right: 1em; text-align: center\">movieId</th>\n",
       "        <th style=\"padding-left: 1em; padding-right: 1em; text-align: center\">rating</th>\n",
       "        <th style=\"padding-left: 1em; padding-right: 1em; text-align: center\">timestamp</th>\n",
       "    </tr>\n",
       "    <tr>\n",
       "        <td style=\"padding-left: 1em; padding-right: 1em; text-align: center; vertical-align: top\">1</td>\n",
       "        <td style=\"padding-left: 1em; padding-right: 1em; text-align: center; vertical-align: top\">169</td>\n",
       "        <td style=\"padding-left: 1em; padding-right: 1em; text-align: center; vertical-align: top\">2.5</td>\n",
       "        <td style=\"padding-left: 1em; padding-right: 1em; text-align: center; vertical-align: top\">1204927694</td>\n",
       "    </tr>\n",
       "    <tr>\n",
       "        <td style=\"padding-left: 1em; padding-right: 1em; text-align: center; vertical-align: top\">1</td>\n",
       "        <td style=\"padding-left: 1em; padding-right: 1em; text-align: center; vertical-align: top\">2471</td>\n",
       "        <td style=\"padding-left: 1em; padding-right: 1em; text-align: center; vertical-align: top\">3.0</td>\n",
       "        <td style=\"padding-left: 1em; padding-right: 1em; text-align: center; vertical-align: top\">1204927438</td>\n",
       "    </tr>\n",
       "    <tr>\n",
       "        <td style=\"padding-left: 1em; padding-right: 1em; text-align: center; vertical-align: top\">1</td>\n",
       "        <td style=\"padding-left: 1em; padding-right: 1em; text-align: center; vertical-align: top\">48516</td>\n",
       "        <td style=\"padding-left: 1em; padding-right: 1em; text-align: center; vertical-align: top\">5.0</td>\n",
       "        <td style=\"padding-left: 1em; padding-right: 1em; text-align: center; vertical-align: top\">1204927435</td>\n",
       "    </tr>\n",
       "    <tr>\n",
       "        <td style=\"padding-left: 1em; padding-right: 1em; text-align: center; vertical-align: top\">2</td>\n",
       "        <td style=\"padding-left: 1em; padding-right: 1em; text-align: center; vertical-align: top\">2571</td>\n",
       "        <td style=\"padding-left: 1em; padding-right: 1em; text-align: center; vertical-align: top\">3.5</td>\n",
       "        <td style=\"padding-left: 1em; padding-right: 1em; text-align: center; vertical-align: top\">1436165433</td>\n",
       "    </tr>\n",
       "    <tr>\n",
       "        <td style=\"padding-left: 1em; padding-right: 1em; text-align: center; vertical-align: top\">2</td>\n",
       "        <td style=\"padding-left: 1em; padding-right: 1em; text-align: center; vertical-align: top\">109487</td>\n",
       "        <td style=\"padding-left: 1em; padding-right: 1em; text-align: center; vertical-align: top\">4.0</td>\n",
       "        <td style=\"padding-left: 1em; padding-right: 1em; text-align: center; vertical-align: top\">1436165496</td>\n",
       "    </tr>\n",
       "    <tr>\n",
       "        <td style=\"padding-left: 1em; padding-right: 1em; text-align: center; vertical-align: top\">2</td>\n",
       "        <td style=\"padding-left: 1em; padding-right: 1em; text-align: center; vertical-align: top\">112552</td>\n",
       "        <td style=\"padding-left: 1em; padding-right: 1em; text-align: center; vertical-align: top\">5.0</td>\n",
       "        <td style=\"padding-left: 1em; padding-right: 1em; text-align: center; vertical-align: top\">1436165496</td>\n",
       "    </tr>\n",
       "    <tr>\n",
       "        <td style=\"padding-left: 1em; padding-right: 1em; text-align: center; vertical-align: top\">2</td>\n",
       "        <td style=\"padding-left: 1em; padding-right: 1em; text-align: center; vertical-align: top\">112556</td>\n",
       "        <td style=\"padding-left: 1em; padding-right: 1em; text-align: center; vertical-align: top\">4.0</td>\n",
       "        <td style=\"padding-left: 1em; padding-right: 1em; text-align: center; vertical-align: top\">1436165499</td>\n",
       "    </tr>\n",
       "    <tr>\n",
       "        <td style=\"padding-left: 1em; padding-right: 1em; text-align: center; vertical-align: top\">3</td>\n",
       "        <td style=\"padding-left: 1em; padding-right: 1em; text-align: center; vertical-align: top\">356</td>\n",
       "        <td style=\"padding-left: 1em; padding-right: 1em; text-align: center; vertical-align: top\">4.0</td>\n",
       "        <td style=\"padding-left: 1em; padding-right: 1em; text-align: center; vertical-align: top\">920587155</td>\n",
       "    </tr>\n",
       "    <tr>\n",
       "        <td style=\"padding-left: 1em; padding-right: 1em; text-align: center; vertical-align: top\">3</td>\n",
       "        <td style=\"padding-left: 1em; padding-right: 1em; text-align: center; vertical-align: top\">2394</td>\n",
       "        <td style=\"padding-left: 1em; padding-right: 1em; text-align: center; vertical-align: top\">4.0</td>\n",
       "        <td style=\"padding-left: 1em; padding-right: 1em; text-align: center; vertical-align: top\">920586920</td>\n",
       "    </tr>\n",
       "    <tr>\n",
       "        <td style=\"padding-left: 1em; padding-right: 1em; text-align: center; vertical-align: top\">3</td>\n",
       "        <td style=\"padding-left: 1em; padding-right: 1em; text-align: center; vertical-align: top\">2431</td>\n",
       "        <td style=\"padding-left: 1em; padding-right: 1em; text-align: center; vertical-align: top\">5.0</td>\n",
       "        <td style=\"padding-left: 1em; padding-right: 1em; text-align: center; vertical-align: top\">920586945</td>\n",
       "    </tr>\n",
       "</table>\n",
       "[10 rows x 4 columns]<br/>\n",
       "</div>"
      ],
      "text/plain": [
       "Columns:\n",
       "\tuserId\tint\n",
       "\tmovieId\tint\n",
       "\trating\tfloat\n",
       "\ttimestamp\tint\n",
       "\n",
       "Rows: 10\n",
       "\n",
       "Data:\n",
       "+--------+---------+--------+------------+\n",
       "| userId | movieId | rating | timestamp  |\n",
       "+--------+---------+--------+------------+\n",
       "|   1    |   169   |  2.5   | 1204927694 |\n",
       "|   1    |   2471  |  3.0   | 1204927438 |\n",
       "|   1    |  48516  |  5.0   | 1204927435 |\n",
       "|   2    |   2571  |  3.5   | 1436165433 |\n",
       "|   2    |  109487 |  4.0   | 1436165496 |\n",
       "|   2    |  112552 |  5.0   | 1436165496 |\n",
       "|   2    |  112556 |  4.0   | 1436165499 |\n",
       "|   3    |   356   |  4.0   | 920587155  |\n",
       "|   3    |   2394  |  4.0   | 920586920  |\n",
       "|   3    |   2431  |  5.0   | 920586945  |\n",
       "+--------+---------+--------+------------+\n",
       "[10 rows x 4 columns]"
      ]
     },
     "execution_count": 59,
     "metadata": {},
     "output_type": "execute_result"
    }
   ],
   "source": [
    "actions.head()\n",
    "#[\"rating\"].show()"
   ]
  },
  {
   "cell_type": "code",
   "execution_count": 251,
   "metadata": {
    "collapsed": false
   },
   "outputs": [
    {
     "name": "stdout",
     "output_type": "stream",
     "text": [
      "+--------+---------+---------------+------+--------------------+\n",
      "| userId | movieId |     score     | rank |       title        |\n",
      "+--------+---------+---------------+------+--------------------+\n",
      "|  245   |   318   | 5.09015676591 |  1   | Shawshank Redempti |\n",
      "|  245   |   527   | 5.01328087065 |  2   |     Schindler      |\n",
      "|  245   |   356   | 4.78534418557 |  3   |       Forre        |\n",
      "|  245   |    50   | 4.77397255812 |  4   |    Usual Suspec    |\n",
      "|  245   |   593   | 4.68609059814 |  5   | Silence of the Lam |\n",
      "+--------+---------+---------------+------+--------------------+\n",
      "+-------------------------------+\n",
      "|             genres            |\n",
      "+-------------------------------+\n",
      "|         [Crime, Drama]        |\n",
      "|          [Drama, War]         |\n",
      "| [Comedy, Drama, Romance, War] |\n",
      "|   [Crime, Mystery, Thriller]  |\n",
      "|   [Crime, Horror, Thriller]   |\n",
      "+-------------------------------+\n",
      "[5 rows x 6 columns]\n",
      "\n"
     ]
    }
   ],
   "source": [
    "print model_with_rating_target.recommend([245],k=5).join(items[[\"movieId\",\"title\",\"genres\"]], on=\"movieId\").sort(\"rank\")"
   ]
  },
  {
   "cell_type": "markdown",
   "metadata": {},
   "source": [
    "##### model_with_rating_target.recommend([110],k=20).join(items[[\"movieId\",\"title\",\"genres\"]], on=\"movieId\").sort(\"rank\")"
   ]
  },
  {
   "cell_type": "code",
   "execution_count": null,
   "metadata": {
    "collapsed": true
   },
   "outputs": [],
   "source": []
  },
  {
   "cell_type": "code",
   "execution_count": null,
   "metadata": {
    "collapsed": true
   },
   "outputs": [],
   "source": []
  },
  {
   "cell_type": "code",
   "execution_count": null,
   "metadata": {
    "collapsed": false
   },
   "outputs": [],
   "source": []
  },
  {
   "cell_type": "code",
   "execution_count": 238,
   "metadata": {
    "collapsed": false
   },
   "outputs": [
    {
     "data": {
      "text/html": [
       "<pre>Getting similar users completed in 0.01733</pre>"
      ],
      "text/plain": [
       "Getting similar users completed in 0.01733"
      ]
     },
     "metadata": {},
     "output_type": "display_data"
    },
    {
     "data": {
      "text/html": [
       "<div style=\"max-height:1000px;max-width:1500px;overflow:auto;\"><table frame=\"box\" rules=\"cols\">\n",
       "    <tr>\n",
       "        <th style=\"padding-left: 1em; padding-right: 1em; text-align: center\">userId</th>\n",
       "        <th style=\"padding-left: 1em; padding-right: 1em; text-align: center\">similar</th>\n",
       "        <th style=\"padding-left: 1em; padding-right: 1em; text-align: center\">score</th>\n",
       "        <th style=\"padding-left: 1em; padding-right: 1em; text-align: center\">rank</th>\n",
       "    </tr>\n",
       "    <tr>\n",
       "        <td style=\"padding-left: 1em; padding-right: 1em; text-align: center; vertical-align: top\">40</td>\n",
       "        <td style=\"padding-left: 1em; padding-right: 1em; text-align: center; vertical-align: top\">196526</td>\n",
       "        <td style=\"padding-left: 1em; padding-right: 1em; text-align: center; vertical-align: top\">0.920248508453</td>\n",
       "        <td style=\"padding-left: 1em; padding-right: 1em; text-align: center; vertical-align: top\">1</td>\n",
       "    </tr>\n",
       "    <tr>\n",
       "        <td style=\"padding-left: 1em; padding-right: 1em; text-align: center; vertical-align: top\">40</td>\n",
       "        <td style=\"padding-left: 1em; padding-right: 1em; text-align: center; vertical-align: top\">10992</td>\n",
       "        <td style=\"padding-left: 1em; padding-right: 1em; text-align: center; vertical-align: top\">0.916563332081</td>\n",
       "        <td style=\"padding-left: 1em; padding-right: 1em; text-align: center; vertical-align: top\">2</td>\n",
       "    </tr>\n",
       "    <tr>\n",
       "        <td style=\"padding-left: 1em; padding-right: 1em; text-align: center; vertical-align: top\">40</td>\n",
       "        <td style=\"padding-left: 1em; padding-right: 1em; text-align: center; vertical-align: top\">171603</td>\n",
       "        <td style=\"padding-left: 1em; padding-right: 1em; text-align: center; vertical-align: top\">0.916134774685</td>\n",
       "        <td style=\"padding-left: 1em; padding-right: 1em; text-align: center; vertical-align: top\">3</td>\n",
       "    </tr>\n",
       "    <tr>\n",
       "        <td style=\"padding-left: 1em; padding-right: 1em; text-align: center; vertical-align: top\">40</td>\n",
       "        <td style=\"padding-left: 1em; padding-right: 1em; text-align: center; vertical-align: top\">171787</td>\n",
       "        <td style=\"padding-left: 1em; padding-right: 1em; text-align: center; vertical-align: top\">0.913238942623</td>\n",
       "        <td style=\"padding-left: 1em; padding-right: 1em; text-align: center; vertical-align: top\">4</td>\n",
       "    </tr>\n",
       "    <tr>\n",
       "        <td style=\"padding-left: 1em; padding-right: 1em; text-align: center; vertical-align: top\">40</td>\n",
       "        <td style=\"padding-left: 1em; padding-right: 1em; text-align: center; vertical-align: top\">176299</td>\n",
       "        <td style=\"padding-left: 1em; padding-right: 1em; text-align: center; vertical-align: top\">0.907456696033</td>\n",
       "        <td style=\"padding-left: 1em; padding-right: 1em; text-align: center; vertical-align: top\">5</td>\n",
       "    </tr>\n",
       "    <tr>\n",
       "        <td style=\"padding-left: 1em; padding-right: 1em; text-align: center; vertical-align: top\">40</td>\n",
       "        <td style=\"padding-left: 1em; padding-right: 1em; text-align: center; vertical-align: top\">115920</td>\n",
       "        <td style=\"padding-left: 1em; padding-right: 1em; text-align: center; vertical-align: top\">0.904656589031</td>\n",
       "        <td style=\"padding-left: 1em; padding-right: 1em; text-align: center; vertical-align: top\">6</td>\n",
       "    </tr>\n",
       "    <tr>\n",
       "        <td style=\"padding-left: 1em; padding-right: 1em; text-align: center; vertical-align: top\">40</td>\n",
       "        <td style=\"padding-left: 1em; padding-right: 1em; text-align: center; vertical-align: top\">14</td>\n",
       "        <td style=\"padding-left: 1em; padding-right: 1em; text-align: center; vertical-align: top\">0.904492974281</td>\n",
       "        <td style=\"padding-left: 1em; padding-right: 1em; text-align: center; vertical-align: top\">7</td>\n",
       "    </tr>\n",
       "    <tr>\n",
       "        <td style=\"padding-left: 1em; padding-right: 1em; text-align: center; vertical-align: top\">40</td>\n",
       "        <td style=\"padding-left: 1em; padding-right: 1em; text-align: center; vertical-align: top\">11080</td>\n",
       "        <td style=\"padding-left: 1em; padding-right: 1em; text-align: center; vertical-align: top\">0.900220990181</td>\n",
       "        <td style=\"padding-left: 1em; padding-right: 1em; text-align: center; vertical-align: top\">8</td>\n",
       "    </tr>\n",
       "    <tr>\n",
       "        <td style=\"padding-left: 1em; padding-right: 1em; text-align: center; vertical-align: top\">40</td>\n",
       "        <td style=\"padding-left: 1em; padding-right: 1em; text-align: center; vertical-align: top\">53732</td>\n",
       "        <td style=\"padding-left: 1em; padding-right: 1em; text-align: center; vertical-align: top\">0.895173728466</td>\n",
       "        <td style=\"padding-left: 1em; padding-right: 1em; text-align: center; vertical-align: top\">9</td>\n",
       "    </tr>\n",
       "    <tr>\n",
       "        <td style=\"padding-left: 1em; padding-right: 1em; text-align: center; vertical-align: top\">40</td>\n",
       "        <td style=\"padding-left: 1em; padding-right: 1em; text-align: center; vertical-align: top\">176761</td>\n",
       "        <td style=\"padding-left: 1em; padding-right: 1em; text-align: center; vertical-align: top\">0.895009696484</td>\n",
       "        <td style=\"padding-left: 1em; padding-right: 1em; text-align: center; vertical-align: top\">10</td>\n",
       "    </tr>\n",
       "</table>\n",
       "[10 rows x 4 columns]<br/>\n",
       "</div>"
      ],
      "text/plain": [
       "Columns:\n",
       "\tuserId\tint\n",
       "\tsimilar\tint\n",
       "\tscore\tfloat\n",
       "\trank\tint\n",
       "\n",
       "Rows: 10\n",
       "\n",
       "Data:\n",
       "+--------+---------+----------------+------+\n",
       "| userId | similar |     score      | rank |\n",
       "+--------+---------+----------------+------+\n",
       "|   40   |  196526 | 0.920248508453 |  1   |\n",
       "|   40   |  10992  | 0.916563332081 |  2   |\n",
       "|   40   |  171603 | 0.916134774685 |  3   |\n",
       "|   40   |  171787 | 0.913238942623 |  4   |\n",
       "|   40   |  176299 | 0.907456696033 |  5   |\n",
       "|   40   |  115920 | 0.904656589031 |  6   |\n",
       "|   40   |    14   | 0.904492974281 |  7   |\n",
       "|   40   |  11080  | 0.900220990181 |  8   |\n",
       "|   40   |  53732  | 0.895173728466 |  9   |\n",
       "|   40   |  176761 | 0.895009696484 |  10  |\n",
       "+--------+---------+----------------+------+\n",
       "[10 rows x 4 columns]"
      ]
     },
     "execution_count": 238,
     "metadata": {},
     "output_type": "execute_result"
    }
   ],
   "source": [
    "model_with_rating_target.get_similar_users([40])"
   ]
  },
  {
   "cell_type": "code",
   "execution_count": 225,
   "metadata": {
    "collapsed": false
   },
   "outputs": [
    {
     "data": {
      "text/html": [
       "<div style=\"max-height:1000px;max-width:1500px;overflow:auto;\"><table frame=\"box\" rules=\"cols\">\n",
       "    <tr>\n",
       "        <th style=\"padding-left: 1em; padding-right: 1em; text-align: center\">movieId</th>\n",
       "        <th style=\"padding-left: 1em; padding-right: 1em; text-align: center\">title</th>\n",
       "        <th style=\"padding-left: 1em; padding-right: 1em; text-align: center\">genres</th>\n",
       "        <th style=\"padding-left: 1em; padding-right: 1em; text-align: center\">year</th>\n",
       "    </tr>\n",
       "    <tr>\n",
       "        <td style=\"padding-left: 1em; padding-right: 1em; text-align: center; vertical-align: top\">1</td>\n",
       "        <td style=\"padding-left: 1em; padding-right: 1em; text-align: center; vertical-align: top\">To</td>\n",
       "        <td style=\"padding-left: 1em; padding-right: 1em; text-align: center; vertical-align: top\">[Adventure, Animation,<br>Children, Comedy, ...</td>\n",
       "        <td style=\"padding-left: 1em; padding-right: 1em; text-align: center; vertical-align: top\">Stor</td>\n",
       "    </tr>\n",
       "    <tr>\n",
       "        <td style=\"padding-left: 1em; padding-right: 1em; text-align: center; vertical-align: top\">2</td>\n",
       "        <td style=\"padding-left: 1em; padding-right: 1em; text-align: center; vertical-align: top\"></td>\n",
       "        <td style=\"padding-left: 1em; padding-right: 1em; text-align: center; vertical-align: top\">[Adventure, Children,<br>Fantasy] ...</td>\n",
       "        <td style=\"padding-left: 1em; padding-right: 1em; text-align: center; vertical-align: top\">manj</td>\n",
       "    </tr>\n",
       "    <tr>\n",
       "        <td style=\"padding-left: 1em; padding-right: 1em; text-align: center; vertical-align: top\">3</td>\n",
       "        <td style=\"padding-left: 1em; padding-right: 1em; text-align: center; vertical-align: top\">Grumpier </td>\n",
       "        <td style=\"padding-left: 1em; padding-right: 1em; text-align: center; vertical-align: top\">[Comedy, Romance]</td>\n",
       "        <td style=\"padding-left: 1em; padding-right: 1em; text-align: center; vertical-align: top\">d Me</td>\n",
       "    </tr>\n",
       "    <tr>\n",
       "        <td style=\"padding-left: 1em; padding-right: 1em; text-align: center; vertical-align: top\">4</td>\n",
       "        <td style=\"padding-left: 1em; padding-right: 1em; text-align: center; vertical-align: top\">Waiting to</td>\n",
       "        <td style=\"padding-left: 1em; padding-right: 1em; text-align: center; vertical-align: top\">[Comedy, Drama, Romance]</td>\n",
       "        <td style=\"padding-left: 1em; padding-right: 1em; text-align: center; vertical-align: top\">xhal</td>\n",
       "    </tr>\n",
       "    <tr>\n",
       "        <td style=\"padding-left: 1em; padding-right: 1em; text-align: center; vertical-align: top\">5</td>\n",
       "        <td style=\"padding-left: 1em; padding-right: 1em; text-align: center; vertical-align: top\">Father of the Bride </td>\n",
       "        <td style=\"padding-left: 1em; padding-right: 1em; text-align: center; vertical-align: top\">[Comedy]</td>\n",
       "        <td style=\"padding-left: 1em; padding-right: 1em; text-align: center; vertical-align: top\">rt I</td>\n",
       "    </tr>\n",
       "    <tr>\n",
       "        <td style=\"padding-left: 1em; padding-right: 1em; text-align: center; vertical-align: top\">6</td>\n",
       "        <td style=\"padding-left: 1em; padding-right: 1em; text-align: center; vertical-align: top\"></td>\n",
       "        <td style=\"padding-left: 1em; padding-right: 1em; text-align: center; vertical-align: top\">[Action, Crime, Thriller]</td>\n",
       "        <td style=\"padding-left: 1em; padding-right: 1em; text-align: center; vertical-align: top\">Hea</td>\n",
       "    </tr>\n",
       "    <tr>\n",
       "        <td style=\"padding-left: 1em; padding-right: 1em; text-align: center; vertical-align: top\">7</td>\n",
       "        <td style=\"padding-left: 1em; padding-right: 1em; text-align: center; vertical-align: top\"></td>\n",
       "        <td style=\"padding-left: 1em; padding-right: 1em; text-align: center; vertical-align: top\">[Comedy, Romance]</td>\n",
       "        <td style=\"padding-left: 1em; padding-right: 1em; text-align: center; vertical-align: top\">brin</td>\n",
       "    </tr>\n",
       "    <tr>\n",
       "        <td style=\"padding-left: 1em; padding-right: 1em; text-align: center; vertical-align: top\">8</td>\n",
       "        <td style=\"padding-left: 1em; padding-right: 1em; text-align: center; vertical-align: top\">Tom a</td>\n",
       "        <td style=\"padding-left: 1em; padding-right: 1em; text-align: center; vertical-align: top\">[Adventure, Children]</td>\n",
       "        <td style=\"padding-left: 1em; padding-right: 1em; text-align: center; vertical-align: top\"> Huc</td>\n",
       "    </tr>\n",
       "    <tr>\n",
       "        <td style=\"padding-left: 1em; padding-right: 1em; text-align: center; vertical-align: top\">9</td>\n",
       "        <td style=\"padding-left: 1em; padding-right: 1em; text-align: center; vertical-align: top\">Sudde</td>\n",
       "        <td style=\"padding-left: 1em; padding-right: 1em; text-align: center; vertical-align: top\">[Action]</td>\n",
       "        <td style=\"padding-left: 1em; padding-right: 1em; text-align: center; vertical-align: top\">Deat</td>\n",
       "    </tr>\n",
       "    <tr>\n",
       "        <td style=\"padding-left: 1em; padding-right: 1em; text-align: center; vertical-align: top\">10</td>\n",
       "        <td style=\"padding-left: 1em; padding-right: 1em; text-align: center; vertical-align: top\">Go</td>\n",
       "        <td style=\"padding-left: 1em; padding-right: 1em; text-align: center; vertical-align: top\">[Action, Adventure,<br>Thriller] ...</td>\n",
       "        <td style=\"padding-left: 1em; padding-right: 1em; text-align: center; vertical-align: top\">enEy</td>\n",
       "    </tr>\n",
       "</table>\n",
       "[10 rows x 4 columns]<br/>\n",
       "</div>"
      ],
      "text/plain": [
       "Columns:\n",
       "\tmovieId\tint\n",
       "\ttitle\tstr\n",
       "\tgenres\tlist\n",
       "\tyear\tstr\n",
       "\n",
       "Rows: 10\n",
       "\n",
       "Data:\n",
       "+---------+----------------------+--------------------------------+------+\n",
       "| movieId |        title         |             genres             | year |\n",
       "+---------+----------------------+--------------------------------+------+\n",
       "|    1    |          To          | [Adventure, Animation, Chi...  | Stor |\n",
       "|    2    |                      | [Adventure, Children, Fantasy] | manj |\n",
       "|    3    |      Grumpier        |       [Comedy, Romance]        | d Me |\n",
       "|    4    |      Waiting to      |    [Comedy, Drama, Romance]    | xhal |\n",
       "|    5    | Father of the Bride  |            [Comedy]            | rt I |\n",
       "|    6    |                      |   [Action, Crime, Thriller]    | Hea  |\n",
       "|    7    |                      |       [Comedy, Romance]        | brin |\n",
       "|    8    |        Tom a         |     [Adventure, Children]      |  Huc |\n",
       "|    9    |        Sudde         |            [Action]            | Deat |\n",
       "|    10   |          Go          | [Action, Adventure, Thriller]  | enEy |\n",
       "+---------+----------------------+--------------------------------+------+\n",
       "[10 rows x 4 columns]"
      ]
     },
     "execution_count": 225,
     "metadata": {},
     "output_type": "execute_result"
    }
   ],
   "source": [
    "items.head()"
   ]
  },
  {
   "cell_type": "code",
   "execution_count": 232,
   "metadata": {
    "collapsed": false
   },
   "outputs": [
    {
     "data": {
      "text/html": [
       "<div style=\"max-height:1000px;max-width:1500px;overflow:auto;\"><table frame=\"box\" rules=\"cols\">\n",
       "    <tr>\n",
       "        <th style=\"padding-left: 1em; padding-right: 1em; text-align: center\">userId</th>\n",
       "        <th style=\"padding-left: 1em; padding-right: 1em; text-align: center\">movieId</th>\n",
       "        <th style=\"padding-left: 1em; padding-right: 1em; text-align: center\">score</th>\n",
       "        <th style=\"padding-left: 1em; padding-right: 1em; text-align: center\">rank</th>\n",
       "        <th style=\"padding-left: 1em; padding-right: 1em; text-align: center\">title</th>\n",
       "        <th style=\"padding-left: 1em; padding-right: 1em; text-align: center\">genres</th>\n",
       "    </tr>\n",
       "    <tr>\n",
       "        <td style=\"padding-left: 1em; padding-right: 1em; text-align: center; vertical-align: top\">110</td>\n",
       "        <td style=\"padding-left: 1em; padding-right: 1em; text-align: center; vertical-align: top\">50</td>\n",
       "        <td style=\"padding-left: 1em; padding-right: 1em; text-align: center; vertical-align: top\">4.78415803823</td>\n",
       "        <td style=\"padding-left: 1em; padding-right: 1em; text-align: center; vertical-align: top\">1</td>\n",
       "        <td style=\"padding-left: 1em; padding-right: 1em; text-align: center; vertical-align: top\">Usual Suspec</td>\n",
       "        <td style=\"padding-left: 1em; padding-right: 1em; text-align: center; vertical-align: top\">[Crime, Mystery,<br>Thriller] ...</td>\n",
       "    </tr>\n",
       "    <tr>\n",
       "        <td style=\"padding-left: 1em; padding-right: 1em; text-align: center; vertical-align: top\">110</td>\n",
       "        <td style=\"padding-left: 1em; padding-right: 1em; text-align: center; vertical-align: top\">858</td>\n",
       "        <td style=\"padding-left: 1em; padding-right: 1em; text-align: center; vertical-align: top\">4.71632398877</td>\n",
       "        <td style=\"padding-left: 1em; padding-right: 1em; text-align: center; vertical-align: top\">2</td>\n",
       "        <td style=\"padding-left: 1em; padding-right: 1em; text-align: center; vertical-align: top\">Godfath</td>\n",
       "        <td style=\"padding-left: 1em; padding-right: 1em; text-align: center; vertical-align: top\">[Crime, Drama]</td>\n",
       "    </tr>\n",
       "    <tr>\n",
       "        <td style=\"padding-left: 1em; padding-right: 1em; text-align: center; vertical-align: top\">110</td>\n",
       "        <td style=\"padding-left: 1em; padding-right: 1em; text-align: center; vertical-align: top\">527</td>\n",
       "        <td style=\"padding-left: 1em; padding-right: 1em; text-align: center; vertical-align: top\">4.69358701471</td>\n",
       "        <td style=\"padding-left: 1em; padding-right: 1em; text-align: center; vertical-align: top\">3</td>\n",
       "        <td style=\"padding-left: 1em; padding-right: 1em; text-align: center; vertical-align: top\">Schindler</td>\n",
       "        <td style=\"padding-left: 1em; padding-right: 1em; text-align: center; vertical-align: top\">[Drama, War]</td>\n",
       "    </tr>\n",
       "    <tr>\n",
       "        <td style=\"padding-left: 1em; padding-right: 1em; text-align: center; vertical-align: top\">110</td>\n",
       "        <td style=\"padding-left: 1em; padding-right: 1em; text-align: center; vertical-align: top\">260</td>\n",
       "        <td style=\"padding-left: 1em; padding-right: 1em; text-align: center; vertical-align: top\">4.61135787729</td>\n",
       "        <td style=\"padding-left: 1em; padding-right: 1em; text-align: center; vertical-align: top\">4</td>\n",
       "        <td style=\"padding-left: 1em; padding-right: 1em; text-align: center; vertical-align: top\">Star Wars: Episode IV - A<br>N ...</td>\n",
       "        <td style=\"padding-left: 1em; padding-right: 1em; text-align: center; vertical-align: top\">[Action, Adventure, Sci-<br>Fi] ...</td>\n",
       "    </tr>\n",
       "    <tr>\n",
       "        <td style=\"padding-left: 1em; padding-right: 1em; text-align: center; vertical-align: top\">110</td>\n",
       "        <td style=\"padding-left: 1em; padding-right: 1em; text-align: center; vertical-align: top\">2571</td>\n",
       "        <td style=\"padding-left: 1em; padding-right: 1em; text-align: center; vertical-align: top\">4.60840608392</td>\n",
       "        <td style=\"padding-left: 1em; padding-right: 1em; text-align: center; vertical-align: top\">5</td>\n",
       "        <td style=\"padding-left: 1em; padding-right: 1em; text-align: center; vertical-align: top\">Matr</td>\n",
       "        <td style=\"padding-left: 1em; padding-right: 1em; text-align: center; vertical-align: top\">[Action, Sci-Fi,<br>Thriller] ...</td>\n",
       "    </tr>\n",
       "    <tr>\n",
       "        <td style=\"padding-left: 1em; padding-right: 1em; text-align: center; vertical-align: top\">110</td>\n",
       "        <td style=\"padding-left: 1em; padding-right: 1em; text-align: center; vertical-align: top\">47</td>\n",
       "        <td style=\"padding-left: 1em; padding-right: 1em; text-align: center; vertical-align: top\">4.57308262054</td>\n",
       "        <td style=\"padding-left: 1em; padding-right: 1em; text-align: center; vertical-align: top\">6</td>\n",
       "        <td style=\"padding-left: 1em; padding-right: 1em; text-align: center; vertical-align: top\">Seven (a.k.a.</td>\n",
       "        <td style=\"padding-left: 1em; padding-right: 1em; text-align: center; vertical-align: top\">[Mystery, Thriller]</td>\n",
       "    </tr>\n",
       "    <tr>\n",
       "        <td style=\"padding-left: 1em; padding-right: 1em; text-align: center; vertical-align: top\">110</td>\n",
       "        <td style=\"padding-left: 1em; padding-right: 1em; text-align: center; vertical-align: top\">1198</td>\n",
       "        <td style=\"padding-left: 1em; padding-right: 1em; text-align: center; vertical-align: top\">4.55400207851</td>\n",
       "        <td style=\"padding-left: 1em; padding-right: 1em; text-align: center; vertical-align: top\">7</td>\n",
       "        <td style=\"padding-left: 1em; padding-right: 1em; text-align: center; vertical-align: top\">Raiders of the Lost Ark<br>(Indiana Jones and the ...</td>\n",
       "        <td style=\"padding-left: 1em; padding-right: 1em; text-align: center; vertical-align: top\">[Action, Adventure]</td>\n",
       "    </tr>\n",
       "    <tr>\n",
       "        <td style=\"padding-left: 1em; padding-right: 1em; text-align: center; vertical-align: top\">110</td>\n",
       "        <td style=\"padding-left: 1em; padding-right: 1em; text-align: center; vertical-align: top\">1196</td>\n",
       "        <td style=\"padding-left: 1em; padding-right: 1em; text-align: center; vertical-align: top\">4.53955073867</td>\n",
       "        <td style=\"padding-left: 1em; padding-right: 1em; text-align: center; vertical-align: top\">8</td>\n",
       "        <td style=\"padding-left: 1em; padding-right: 1em; text-align: center; vertical-align: top\">Star Wars: Episode V -<br>The Empire Strik ...</td>\n",
       "        <td style=\"padding-left: 1em; padding-right: 1em; text-align: center; vertical-align: top\">[Action, Adventure, Sci-<br>Fi] ...</td>\n",
       "    </tr>\n",
       "    <tr>\n",
       "        <td style=\"padding-left: 1em; padding-right: 1em; text-align: center; vertical-align: top\">110</td>\n",
       "        <td style=\"padding-left: 1em; padding-right: 1em; text-align: center; vertical-align: top\">1221</td>\n",
       "        <td style=\"padding-left: 1em; padding-right: 1em; text-align: center; vertical-align: top\">4.53557963882</td>\n",
       "        <td style=\"padding-left: 1em; padding-right: 1em; text-align: center; vertical-align: top\">9</td>\n",
       "        <td style=\"padding-left: 1em; padding-right: 1em; text-align: center; vertical-align: top\">Godfather: Part </td>\n",
       "        <td style=\"padding-left: 1em; padding-right: 1em; text-align: center; vertical-align: top\">[Crime, Drama]</td>\n",
       "    </tr>\n",
       "    <tr>\n",
       "        <td style=\"padding-left: 1em; padding-right: 1em; text-align: center; vertical-align: top\">110</td>\n",
       "        <td style=\"padding-left: 1em; padding-right: 1em; text-align: center; vertical-align: top\">356</td>\n",
       "        <td style=\"padding-left: 1em; padding-right: 1em; text-align: center; vertical-align: top\">4.48818037126</td>\n",
       "        <td style=\"padding-left: 1em; padding-right: 1em; text-align: center; vertical-align: top\">10</td>\n",
       "        <td style=\"padding-left: 1em; padding-right: 1em; text-align: center; vertical-align: top\">Forre</td>\n",
       "        <td style=\"padding-left: 1em; padding-right: 1em; text-align: center; vertical-align: top\">[Comedy, Drama, Romance,<br>War] ...</td>\n",
       "    </tr>\n",
       "</table>\n",
       "[20 rows x 6 columns]<br/>Note: Only the head of the SFrame is printed.<br/>You can use print_rows(num_rows=m, num_columns=n) to print more rows and columns.\n",
       "</div>"
      ],
      "text/plain": [
       "Columns:\n",
       "\tuserId\tint\n",
       "\tmovieId\tint\n",
       "\tscore\tfloat\n",
       "\trank\tint\n",
       "\ttitle\tstr\n",
       "\tgenres\tlist\n",
       "\n",
       "Rows: 20\n",
       "\n",
       "Data:\n",
       "+--------+---------+---------------+------+-------------------------------+\n",
       "| userId | movieId |     score     | rank |             title             |\n",
       "+--------+---------+---------------+------+-------------------------------+\n",
       "|  110   |    50   | 4.78415803823 |  1   |          Usual Suspec         |\n",
       "|  110   |   858   | 4.71632398877 |  2   |            Godfath            |\n",
       "|  110   |   527   | 4.69358701471 |  3   |           Schindler           |\n",
       "|  110   |   260   | 4.61135787729 |  4   |  Star Wars: Episode IV - A N  |\n",
       "|  110   |   2571  | 4.60840608392 |  5   |              Matr             |\n",
       "|  110   |    47   | 4.57308262054 |  6   |         Seven (a.k.a.         |\n",
       "|  110   |   1198  | 4.55400207851 |  7   | Raiders of the Lost Ark (I... |\n",
       "|  110   |   1196  | 4.53955073867 |  8   | Star Wars: Episode V - The... |\n",
       "|  110   |   1221  | 4.53557963882 |  9   |        Godfather: Part        |\n",
       "|  110   |   356   | 4.48818037126 |  10  |             Forre             |\n",
       "+--------+---------+---------------+------+-------------------------------+\n",
       "+-------------------------------+\n",
       "|             genres            |\n",
       "+-------------------------------+\n",
       "|   [Crime, Mystery, Thriller]  |\n",
       "|         [Crime, Drama]        |\n",
       "|          [Drama, War]         |\n",
       "|  [Action, Adventure, Sci-Fi]  |\n",
       "|   [Action, Sci-Fi, Thriller]  |\n",
       "|      [Mystery, Thriller]      |\n",
       "|      [Action, Adventure]      |\n",
       "|  [Action, Adventure, Sci-Fi]  |\n",
       "|         [Crime, Drama]        |\n",
       "| [Comedy, Drama, Romance, War] |\n",
       "+-------------------------------+\n",
       "[20 rows x 6 columns]\n",
       "Note: Only the head of the SFrame is printed.\n",
       "You can use print_rows(num_rows=m, num_columns=n) to print more rows and columns."
      ]
     },
     "execution_count": 232,
     "metadata": {},
     "output_type": "execute_result"
    }
   ],
   "source": [
    "model_with_rating_target.recommend([110],k=20).join(items[[\"movieId\",\"title\",\"genres\"]], on=\"movieId\").sort(\"rank\")"
   ]
  },
  {
   "cell_type": "code",
   "execution_count": 213,
   "metadata": {
    "collapsed": false
   },
   "outputs": [
    {
     "name": "stdout",
     "output_type": "stream",
     "text": [
      "+--------+---------+---------------+------+-------------------------------+\n",
      "| userId | movieId |     score     | rank |             title             |\n",
      "+--------+---------+---------------+------+-------------------------------+\n",
      "| 234700 |    47   | 4.53532995868 |  12  |         Seven (a.k.a.         |\n",
      "| 234700 |    50   | 4.73737924386 |  3   |          Usual Suspec         |\n",
      "| 234700 |   110   | 4.58884591076 |  7   |              Bra              |\n",
      "| 234700 |   260   | 4.57572380666 |  9   |  Star Wars: Episode IV - A N  |\n",
      "| 234700 |   293   | 4.49352664154 |  16  | Léon: The Professional (a.... |\n",
      "| 234700 |   296   | 4.46804039765 |  19  |             Pulp              |\n",
      "| 234700 |   318   | 5.02339656491 |  1   |       Shawshank Redempti      |\n",
      "| 234700 |   356   | 4.70384594265 |  4   |             Forre             |\n",
      "| 234700 |   457   | 4.47649203267 |  18  |             Fugiti            |\n",
      "| 234700 |   527   | 4.77475815479 |  2   |           Schindler           |\n",
      "+--------+---------+---------------+------+-------------------------------+\n",
      "+-------------------------------+------+\n",
      "|             genres            | year |\n",
      "+-------------------------------+------+\n",
      "|      [Mystery, Thriller]      | e7en |\n",
      "|   [Crime, Mystery, Thriller]  | , Th |\n",
      "|      [Action, Drama, War]     | hear |\n",
      "|  [Action, Adventure, Sci-Fi]  |  Hop |\n",
      "| [Action, Crime, Drama, Thr... | éon  |\n",
      "| [Comedy, Crime, Drama, Thr... | ctio |\n",
      "|         [Crime, Drama]        | , Th |\n",
      "| [Comedy, Drama, Romance, War] |  Gum |\n",
      "|           [Thriller]          | , Th |\n",
      "|          [Drama, War]         |  Lis |\n",
      "+-------------------------------+------+\n",
      "[20 rows x 7 columns]\n",
      "Note: Only the head of the SFrame is printed.\n",
      "You can use print_rows(num_rows=m, num_columns=n) to print more rows and columns.\n"
     ]
    }
   ],
   "source": [
    "print model_with_rating_target.recommend(users=[users[110]],k=20).join(items, on=\"movieId\")"
   ]
  },
  {
   "cell_type": "code",
   "execution_count": 18,
   "metadata": {
    "collapsed": false
   },
   "outputs": [],
   "source": [
    "users = sf_binned_5['user_id'].unique()\n",
    "\n"
   ]
  },
  {
   "cell_type": "code",
   "execution_count": 198,
   "metadata": {
    "collapsed": false
   },
   "outputs": [
    {
     "ename": "NameError",
     "evalue": "name 'modal' is not defined",
     "output_type": "error",
     "traceback": [
      "\u001b[0;31m---------------------------------------------------------------------------\u001b[0m",
      "\u001b[0;31mNameError\u001b[0m                                 Traceback (most recent call last)",
      "\u001b[0;32m<ipython-input-198-47426aa1fce0>\u001b[0m in \u001b[0;36m<module>\u001b[0;34m()\u001b[0m\n\u001b[0;32m----> 1\u001b[0;31m \u001b[0mmodal\u001b[0m\u001b[0;34m.\u001b[0m\u001b[0mrecommend\u001b[0m\u001b[0;34m(\u001b[0m\u001b[0musers\u001b[0m\u001b[0;34m=\u001b[0m\u001b[0;34m[\u001b[0m\u001b[0musers\u001b[0m\u001b[0;34m[\u001b[0m\u001b[0;36m346\u001b[0m\u001b[0;34m]\u001b[0m\u001b[0;34m]\u001b[0m\u001b[0;34m)\u001b[0m\u001b[0;34m\u001b[0m\u001b[0m\n\u001b[0m",
      "\u001b[0;31mNameError\u001b[0m: name 'modal' is not defined"
     ]
    }
   ],
   "source": [
    "modal.recommend(users=[users[346]])"
   ]
  },
  {
   "cell_type": "code",
   "execution_count": 35,
   "metadata": {
    "collapsed": false
   },
   "outputs": [
    {
     "data": {
      "text/html": [
       "<div style=\"max-height:1000px;max-width:1500px;overflow:auto;\"><table frame=\"box\" rules=\"cols\">\n",
       "    <tr>\n",
       "        <th style=\"padding-left: 1em; padding-right: 1em; text-align: center\">user_id</th>\n",
       "        <th style=\"padding-left: 1em; padding-right: 1em; text-align: center\">title</th>\n",
       "        <th style=\"padding-left: 1em; padding-right: 1em; text-align: center\">score</th>\n",
       "        <th style=\"padding-left: 1em; padding-right: 1em; text-align: center\">rank</th>\n",
       "    </tr>\n",
       "    <tr>\n",
       "        <td style=\"padding-left: 1em; padding-right: 1em; text-align: center; vertical-align: top\">215945</td>\n",
       "        <td style=\"padding-left: 1em; padding-right: 1em; text-align: center; vertical-align: top\">The Fugitive</td>\n",
       "        <td style=\"padding-left: 1em; padding-right: 1em; text-align: center; vertical-align: top\">23299.7723186</td>\n",
       "        <td style=\"padding-left: 1em; padding-right: 1em; text-align: center; vertical-align: top\">1</td>\n",
       "    </tr>\n",
       "    <tr>\n",
       "        <td style=\"padding-left: 1em; padding-right: 1em; text-align: center; vertical-align: top\">215945</td>\n",
       "        <td style=\"padding-left: 1em; padding-right: 1em; text-align: center; vertical-align: top\">Apollo 13</td>\n",
       "        <td style=\"padding-left: 1em; padding-right: 1em; text-align: center; vertical-align: top\">23298.4351515</td>\n",
       "        <td style=\"padding-left: 1em; padding-right: 1em; text-align: center; vertical-align: top\">2</td>\n",
       "    </tr>\n",
       "    <tr>\n",
       "        <td style=\"padding-left: 1em; padding-right: 1em; text-align: center; vertical-align: top\">215945</td>\n",
       "        <td style=\"padding-left: 1em; padding-right: 1em; text-align: center; vertical-align: top\">Schindler's List</td>\n",
       "        <td style=\"padding-left: 1em; padding-right: 1em; text-align: center; vertical-align: top\">23268.7474213</td>\n",
       "        <td style=\"padding-left: 1em; padding-right: 1em; text-align: center; vertical-align: top\">3</td>\n",
       "    </tr>\n",
       "    <tr>\n",
       "        <td style=\"padding-left: 1em; padding-right: 1em; text-align: center; vertical-align: top\">215945</td>\n",
       "        <td style=\"padding-left: 1em; padding-right: 1em; text-align: center; vertical-align: top\">The Shawshank Redemption</td>\n",
       "        <td style=\"padding-left: 1em; padding-right: 1em; text-align: center; vertical-align: top\">23263.5679641</td>\n",
       "        <td style=\"padding-left: 1em; padding-right: 1em; text-align: center; vertical-align: top\">4</td>\n",
       "    </tr>\n",
       "    <tr>\n",
       "        <td style=\"padding-left: 1em; padding-right: 1em; text-align: center; vertical-align: top\">215945</td>\n",
       "        <td style=\"padding-left: 1em; padding-right: 1em; text-align: center; vertical-align: top\">Dances with Wolves</td>\n",
       "        <td style=\"padding-left: 1em; padding-right: 1em; text-align: center; vertical-align: top\">23226.0853178</td>\n",
       "        <td style=\"padding-left: 1em; padding-right: 1em; text-align: center; vertical-align: top\">5</td>\n",
       "    </tr>\n",
       "    <tr>\n",
       "        <td style=\"padding-left: 1em; padding-right: 1em; text-align: center; vertical-align: top\">215945</td>\n",
       "        <td style=\"padding-left: 1em; padding-right: 1em; text-align: center; vertical-align: top\">Toy story</td>\n",
       "        <td style=\"padding-left: 1em; padding-right: 1em; text-align: center; vertical-align: top\">23133.7064134</td>\n",
       "        <td style=\"padding-left: 1em; padding-right: 1em; text-align: center; vertical-align: top\">6</td>\n",
       "    </tr>\n",
       "    <tr>\n",
       "        <td style=\"padding-left: 1em; padding-right: 1em; text-align: center; vertical-align: top\">215945</td>\n",
       "        <td style=\"padding-left: 1em; padding-right: 1em; text-align: center; vertical-align: top\">Aladdin</td>\n",
       "        <td style=\"padding-left: 1em; padding-right: 1em; text-align: center; vertical-align: top\">23073.8103066</td>\n",
       "        <td style=\"padding-left: 1em; padding-right: 1em; text-align: center; vertical-align: top\">7</td>\n",
       "    </tr>\n",
       "    <tr>\n",
       "        <td style=\"padding-left: 1em; padding-right: 1em; text-align: center; vertical-align: top\">215945</td>\n",
       "        <td style=\"padding-left: 1em; padding-right: 1em; text-align: center; vertical-align: top\">Forrest Gump</td>\n",
       "        <td style=\"padding-left: 1em; padding-right: 1em; text-align: center; vertical-align: top\">23039.6739707</td>\n",
       "        <td style=\"padding-left: 1em; padding-right: 1em; text-align: center; vertical-align: top\">8</td>\n",
       "    </tr>\n",
       "    <tr>\n",
       "        <td style=\"padding-left: 1em; padding-right: 1em; text-align: center; vertical-align: top\">215945</td>\n",
       "        <td style=\"padding-left: 1em; padding-right: 1em; text-align: center; vertical-align: top\">True Lies</td>\n",
       "        <td style=\"padding-left: 1em; padding-right: 1em; text-align: center; vertical-align: top\">22969.9267629</td>\n",
       "        <td style=\"padding-left: 1em; padding-right: 1em; text-align: center; vertical-align: top\">9</td>\n",
       "    </tr>\n",
       "    <tr>\n",
       "        <td style=\"padding-left: 1em; padding-right: 1em; text-align: center; vertical-align: top\">215945</td>\n",
       "        <td style=\"padding-left: 1em; padding-right: 1em; text-align: center; vertical-align: top\">The Silence of the Lambs</td>\n",
       "        <td style=\"padding-left: 1em; padding-right: 1em; text-align: center; vertical-align: top\">22938.4637943</td>\n",
       "        <td style=\"padding-left: 1em; padding-right: 1em; text-align: center; vertical-align: top\">10</td>\n",
       "    </tr>\n",
       "</table>\n",
       "[10 rows x 4 columns]<br/>\n",
       "</div>"
      ],
      "text/plain": [
       "Columns:\n",
       "\tuser_id\tint\n",
       "\ttitle\tstr\n",
       "\tscore\tfloat\n",
       "\trank\tint\n",
       "\n",
       "Rows: 10\n",
       "\n",
       "Data:\n",
       "+---------+--------------------------+---------------+------+\n",
       "| user_id |          title           |     score     | rank |\n",
       "+---------+--------------------------+---------------+------+\n",
       "|  215945 |       The Fugitive       | 23299.7723186 |  1   |\n",
       "|  215945 |        Apollo 13         | 23298.4351515 |  2   |\n",
       "|  215945 |     Schindler's List     | 23268.7474213 |  3   |\n",
       "|  215945 | The Shawshank Redemption | 23263.5679641 |  4   |\n",
       "|  215945 |    Dances with Wolves    | 23226.0853178 |  5   |\n",
       "|  215945 |        Toy story         | 23133.7064134 |  6   |\n",
       "|  215945 |         Aladdin          | 23073.8103066 |  7   |\n",
       "|  215945 |       Forrest Gump       | 23039.6739707 |  8   |\n",
       "|  215945 |        True Lies         | 22969.9267629 |  9   |\n",
       "|  215945 | The Silence of the Lambs | 22938.4637943 |  10  |\n",
       "+---------+--------------------------+---------------+------+\n",
       "[10 rows x 4 columns]"
      ]
     },
     "execution_count": 35,
     "metadata": {},
     "output_type": "execute_result"
    }
   ],
   "source": [
    "personalized_model.recommend(users=[users[34]])"
   ]
  },
  {
   "cell_type": "code",
   "execution_count": null,
   "metadata": {
    "collapsed": true
   },
   "outputs": [],
   "source": []
  },
  {
   "cell_type": "code",
   "execution_count": 36,
   "metadata": {
    "collapsed": false
   },
   "outputs": [
    {
     "data": {
      "text/html": [
       "<pre>Getting similar items completed in 0.004993</pre>"
      ],
      "text/plain": [
       "Getting similar items completed in 0.004993"
      ]
     },
     "metadata": {},
     "output_type": "display_data"
    },
    {
     "data": {
      "text/html": [
       "<div style=\"max-height:1000px;max-width:1500px;overflow:auto;\"><table frame=\"box\" rules=\"cols\">\n",
       "    <tr>\n",
       "        <th style=\"padding-left: 1em; padding-right: 1em; text-align: center\">title</th>\n",
       "        <th style=\"padding-left: 1em; padding-right: 1em; text-align: center\">similar</th>\n",
       "        <th style=\"padding-left: 1em; padding-right: 1em; text-align: center\">score</th>\n",
       "        <th style=\"padding-left: 1em; padding-right: 1em; text-align: center\">rank</th>\n",
       "    </tr>\n",
       "    <tr>\n",
       "        <td style=\"padding-left: 1em; padding-right: 1em; text-align: center; vertical-align: top\">Toy story</td>\n",
       "        <td style=\"padding-left: 1em; padding-right: 1em; text-align: center; vertical-align: top\">Independence Day</td>\n",
       "        <td style=\"padding-left: 1em; padding-right: 1em; text-align: center; vertical-align: top\">0.172857346386</td>\n",
       "        <td style=\"padding-left: 1em; padding-right: 1em; text-align: center; vertical-align: top\">1</td>\n",
       "    </tr>\n",
       "    <tr>\n",
       "        <td style=\"padding-left: 1em; padding-right: 1em; text-align: center; vertical-align: top\">Toy story</td>\n",
       "        <td style=\"padding-left: 1em; padding-right: 1em; text-align: center; vertical-align: top\">Star Wars</td>\n",
       "        <td style=\"padding-left: 1em; padding-right: 1em; text-align: center; vertical-align: top\">0.163574520717</td>\n",
       "        <td style=\"padding-left: 1em; padding-right: 1em; text-align: center; vertical-align: top\">2</td>\n",
       "    </tr>\n",
       "    <tr>\n",
       "        <td style=\"padding-left: 1em; padding-right: 1em; text-align: center; vertical-align: top\">Toy story</td>\n",
       "        <td style=\"padding-left: 1em; padding-right: 1em; text-align: center; vertical-align: top\">Mission: Impossible III</td>\n",
       "        <td style=\"padding-left: 1em; padding-right: 1em; text-align: center; vertical-align: top\">0.161768267177</td>\n",
       "        <td style=\"padding-left: 1em; padding-right: 1em; text-align: center; vertical-align: top\">3</td>\n",
       "    </tr>\n",
       "    <tr>\n",
       "        <td style=\"padding-left: 1em; padding-right: 1em; text-align: center; vertical-align: top\">Toy story</td>\n",
       "        <td style=\"padding-left: 1em; padding-right: 1em; text-align: center; vertical-align: top\">Forrest Gump</td>\n",
       "        <td style=\"padding-left: 1em; padding-right: 1em; text-align: center; vertical-align: top\">0.155584782503</td>\n",
       "        <td style=\"padding-left: 1em; padding-right: 1em; text-align: center; vertical-align: top\">4</td>\n",
       "    </tr>\n",
       "    <tr>\n",
       "        <td style=\"padding-left: 1em; padding-right: 1em; text-align: center; vertical-align: top\">Toy story</td>\n",
       "        <td style=\"padding-left: 1em; padding-right: 1em; text-align: center; vertical-align: top\">Back to the Future</td>\n",
       "        <td style=\"padding-left: 1em; padding-right: 1em; text-align: center; vertical-align: top\">0.155533316654</td>\n",
       "        <td style=\"padding-left: 1em; padding-right: 1em; text-align: center; vertical-align: top\">5</td>\n",
       "    </tr>\n",
       "    <tr>\n",
       "        <td style=\"padding-left: 1em; padding-right: 1em; text-align: center; vertical-align: top\">Toy story</td>\n",
       "        <td style=\"padding-left: 1em; padding-right: 1em; text-align: center; vertical-align: top\">Jurassic Park</td>\n",
       "        <td style=\"padding-left: 1em; padding-right: 1em; text-align: center; vertical-align: top\">0.154152506372</td>\n",
       "        <td style=\"padding-left: 1em; padding-right: 1em; text-align: center; vertical-align: top\">6</td>\n",
       "    </tr>\n",
       "    <tr>\n",
       "        <td style=\"padding-left: 1em; padding-right: 1em; text-align: center; vertical-align: top\">Toy story</td>\n",
       "        <td style=\"padding-left: 1em; padding-right: 1em; text-align: center; vertical-align: top\">Star Wars: Episode VI -<br>Return of the Jedi ...</td>\n",
       "        <td style=\"padding-left: 1em; padding-right: 1em; text-align: center; vertical-align: top\">0.150038245043</td>\n",
       "        <td style=\"padding-left: 1em; padding-right: 1em; text-align: center; vertical-align: top\">7</td>\n",
       "    </tr>\n",
       "    <tr>\n",
       "        <td style=\"padding-left: 1em; padding-right: 1em; text-align: center; vertical-align: top\">Toy story</td>\n",
       "        <td style=\"padding-left: 1em; padding-right: 1em; text-align: center; vertical-align: top\">Twelve Monkeys</td>\n",
       "        <td style=\"padding-left: 1em; padding-right: 1em; text-align: center; vertical-align: top\">0.146852858791</td>\n",
       "        <td style=\"padding-left: 1em; padding-right: 1em; text-align: center; vertical-align: top\">8</td>\n",
       "    </tr>\n",
       "    <tr>\n",
       "        <td style=\"padding-left: 1em; padding-right: 1em; text-align: center; vertical-align: top\">Toy story</td>\n",
       "        <td style=\"padding-left: 1em; padding-right: 1em; text-align: center; vertical-align: top\">The Matrix</td>\n",
       "        <td style=\"padding-left: 1em; padding-right: 1em; text-align: center; vertical-align: top\">0.146191556304</td>\n",
       "        <td style=\"padding-left: 1em; padding-right: 1em; text-align: center; vertical-align: top\">9</td>\n",
       "    </tr>\n",
       "    <tr>\n",
       "        <td style=\"padding-left: 1em; padding-right: 1em; text-align: center; vertical-align: top\">Toy story</td>\n",
       "        <td style=\"padding-left: 1em; padding-right: 1em; text-align: center; vertical-align: top\">Die Hard</td>\n",
       "        <td style=\"padding-left: 1em; padding-right: 1em; text-align: center; vertical-align: top\">0.144297070578</td>\n",
       "        <td style=\"padding-left: 1em; padding-right: 1em; text-align: center; vertical-align: top\">10</td>\n",
       "    </tr>\n",
       "</table>\n",
       "[10 rows x 4 columns]<br/>\n",
       "</div>"
      ],
      "text/plain": [
       "Columns:\n",
       "\ttitle\tstr\n",
       "\tsimilar\tstr\n",
       "\tscore\tfloat\n",
       "\trank\tint\n",
       "\n",
       "Rows: 10\n",
       "\n",
       "Data:\n",
       "+-----------+-------------------------------+----------------+------+\n",
       "|   title   |            similar            |     score      | rank |\n",
       "+-----------+-------------------------------+----------------+------+\n",
       "| Toy story |        Independence Day       | 0.172857346386 |  1   |\n",
       "| Toy story |           Star Wars           | 0.163574520717 |  2   |\n",
       "| Toy story |    Mission: Impossible III    | 0.161768267177 |  3   |\n",
       "| Toy story |          Forrest Gump         | 0.155584782503 |  4   |\n",
       "| Toy story |       Back to the Future      | 0.155533316654 |  5   |\n",
       "| Toy story |         Jurassic Park         | 0.154152506372 |  6   |\n",
       "| Toy story | Star Wars: Episode VI - Re... | 0.150038245043 |  7   |\n",
       "| Toy story |         Twelve Monkeys        | 0.146852858791 |  8   |\n",
       "| Toy story |           The Matrix          | 0.146191556304 |  9   |\n",
       "| Toy story |            Die Hard           | 0.144297070578 |  10  |\n",
       "+-----------+-------------------------------+----------------+------+\n",
       "[10 rows x 4 columns]"
      ]
     },
     "execution_count": 36,
     "metadata": {},
     "output_type": "execute_result"
    }
   ],
   "source": [
    "personalized_model.get_similar_items(['Toy story'])"
   ]
  },
  {
   "cell_type": "code",
   "execution_count": 38,
   "metadata": {
    "collapsed": false
   },
   "outputs": [
    {
     "data": {
      "text/html": [
       "<pre>Getting similar items completed in 0.002656</pre>"
      ],
      "text/plain": [
       "Getting similar items completed in 0.002656"
      ]
     },
     "metadata": {},
     "output_type": "display_data"
    },
    {
     "data": {
      "text/html": [
       "<div style=\"max-height:1000px;max-width:1500px;overflow:auto;\"><table frame=\"box\" rules=\"cols\">\n",
       "    <tr>\n",
       "        <th style=\"padding-left: 1em; padding-right: 1em; text-align: center\">title</th>\n",
       "        <th style=\"padding-left: 1em; padding-right: 1em; text-align: center\">similar</th>\n",
       "        <th style=\"padding-left: 1em; padding-right: 1em; text-align: center\">score</th>\n",
       "        <th style=\"padding-left: 1em; padding-right: 1em; text-align: center\">rank</th>\n",
       "    </tr>\n",
       "    <tr>\n",
       "        <td style=\"padding-left: 1em; padding-right: 1em; text-align: center; vertical-align: top\">The Matrix</td>\n",
       "        <td style=\"padding-left: 1em; padding-right: 1em; text-align: center; vertical-align: top\">The Lord of the Rings:<br>The Fellowship of the ...</td>\n",
       "        <td style=\"padding-left: 1em; padding-right: 1em; text-align: center; vertical-align: top\">0.197256162915</td>\n",
       "        <td style=\"padding-left: 1em; padding-right: 1em; text-align: center; vertical-align: top\">1</td>\n",
       "    </tr>\n",
       "    <tr>\n",
       "        <td style=\"padding-left: 1em; padding-right: 1em; text-align: center; vertical-align: top\">The Matrix</td>\n",
       "        <td style=\"padding-left: 1em; padding-right: 1em; text-align: center; vertical-align: top\">The Lord of the Rings:<br>The Return of the King ...</td>\n",
       "        <td style=\"padding-left: 1em; padding-right: 1em; text-align: center; vertical-align: top\">0.191703019047</td>\n",
       "        <td style=\"padding-left: 1em; padding-right: 1em; text-align: center; vertical-align: top\">2</td>\n",
       "    </tr>\n",
       "    <tr>\n",
       "        <td style=\"padding-left: 1em; padding-right: 1em; text-align: center; vertical-align: top\">The Matrix</td>\n",
       "        <td style=\"padding-left: 1em; padding-right: 1em; text-align: center; vertical-align: top\">Fight Club</td>\n",
       "        <td style=\"padding-left: 1em; padding-right: 1em; text-align: center; vertical-align: top\">0.190990764591</td>\n",
       "        <td style=\"padding-left: 1em; padding-right: 1em; text-align: center; vertical-align: top\">3</td>\n",
       "    </tr>\n",
       "    <tr>\n",
       "        <td style=\"padding-left: 1em; padding-right: 1em; text-align: center; vertical-align: top\">The Matrix</td>\n",
       "        <td style=\"padding-left: 1em; padding-right: 1em; text-align: center; vertical-align: top\">Star Wars: Episode V -<br>The Empire Strikes Back ...</td>\n",
       "        <td style=\"padding-left: 1em; padding-right: 1em; text-align: center; vertical-align: top\">0.187196798189</td>\n",
       "        <td style=\"padding-left: 1em; padding-right: 1em; text-align: center; vertical-align: top\">4</td>\n",
       "    </tr>\n",
       "    <tr>\n",
       "        <td style=\"padding-left: 1em; padding-right: 1em; text-align: center; vertical-align: top\">The Matrix</td>\n",
       "        <td style=\"padding-left: 1em; padding-right: 1em; text-align: center; vertical-align: top\">Kill Bill: Vol. 2</td>\n",
       "        <td style=\"padding-left: 1em; padding-right: 1em; text-align: center; vertical-align: top\">0.185889204806</td>\n",
       "        <td style=\"padding-left: 1em; padding-right: 1em; text-align: center; vertical-align: top\">5</td>\n",
       "    </tr>\n",
       "    <tr>\n",
       "        <td style=\"padding-left: 1em; padding-right: 1em; text-align: center; vertical-align: top\">The Matrix</td>\n",
       "        <td style=\"padding-left: 1em; padding-right: 1em; text-align: center; vertical-align: top\">The Sixth Sense</td>\n",
       "        <td style=\"padding-left: 1em; padding-right: 1em; text-align: center; vertical-align: top\">0.180805614892</td>\n",
       "        <td style=\"padding-left: 1em; padding-right: 1em; text-align: center; vertical-align: top\">6</td>\n",
       "    </tr>\n",
       "    <tr>\n",
       "        <td style=\"padding-left: 1em; padding-right: 1em; text-align: center; vertical-align: top\">The Matrix</td>\n",
       "        <td style=\"padding-left: 1em; padding-right: 1em; text-align: center; vertical-align: top\">Star Wars</td>\n",
       "        <td style=\"padding-left: 1em; padding-right: 1em; text-align: center; vertical-align: top\">0.178276121273</td>\n",
       "        <td style=\"padding-left: 1em; padding-right: 1em; text-align: center; vertical-align: top\">7</td>\n",
       "    </tr>\n",
       "    <tr>\n",
       "        <td style=\"padding-left: 1em; padding-right: 1em; text-align: center; vertical-align: top\">The Matrix</td>\n",
       "        <td style=\"padding-left: 1em; padding-right: 1em; text-align: center; vertical-align: top\">Raiders of the Lost Ark</td>\n",
       "        <td style=\"padding-left: 1em; padding-right: 1em; text-align: center; vertical-align: top\">0.177824858757</td>\n",
       "        <td style=\"padding-left: 1em; padding-right: 1em; text-align: center; vertical-align: top\">8</td>\n",
       "    </tr>\n",
       "    <tr>\n",
       "        <td style=\"padding-left: 1em; padding-right: 1em; text-align: center; vertical-align: top\">The Matrix</td>\n",
       "        <td style=\"padding-left: 1em; padding-right: 1em; text-align: center; vertical-align: top\">The Lord of the Rings:<br>The Two Towers ...</td>\n",
       "        <td style=\"padding-left: 1em; padding-right: 1em; text-align: center; vertical-align: top\">0.177684312517</td>\n",
       "        <td style=\"padding-left: 1em; padding-right: 1em; text-align: center; vertical-align: top\">9</td>\n",
       "    </tr>\n",
       "    <tr>\n",
       "        <td style=\"padding-left: 1em; padding-right: 1em; text-align: center; vertical-align: top\">The Matrix</td>\n",
       "        <td style=\"padding-left: 1em; padding-right: 1em; text-align: center; vertical-align: top\">Gladiator</td>\n",
       "        <td style=\"padding-left: 1em; padding-right: 1em; text-align: center; vertical-align: top\">0.176266403906</td>\n",
       "        <td style=\"padding-left: 1em; padding-right: 1em; text-align: center; vertical-align: top\">10</td>\n",
       "    </tr>\n",
       "</table>\n",
       "[10 rows x 4 columns]<br/>\n",
       "</div>"
      ],
      "text/plain": [
       "Columns:\n",
       "\ttitle\tstr\n",
       "\tsimilar\tstr\n",
       "\tscore\tfloat\n",
       "\trank\tint\n",
       "\n",
       "Rows: 10\n",
       "\n",
       "Data:\n",
       "+------------+-------------------------------+----------------+------+\n",
       "|   title    |            similar            |     score      | rank |\n",
       "+------------+-------------------------------+----------------+------+\n",
       "| The Matrix | The Lord of the Rings: The... | 0.197256162915 |  1   |\n",
       "| The Matrix | The Lord of the Rings: The... | 0.191703019047 |  2   |\n",
       "| The Matrix |           Fight Club          | 0.190990764591 |  3   |\n",
       "| The Matrix | Star Wars: Episode V - The... | 0.187196798189 |  4   |\n",
       "| The Matrix |       Kill Bill: Vol. 2       | 0.185889204806 |  5   |\n",
       "| The Matrix |        The Sixth Sense        | 0.180805614892 |  6   |\n",
       "| The Matrix |           Star Wars           | 0.178276121273 |  7   |\n",
       "| The Matrix |    Raiders of the Lost Ark    | 0.177824858757 |  8   |\n",
       "| The Matrix | The Lord of the Rings: The... | 0.177684312517 |  9   |\n",
       "| The Matrix |           Gladiator           | 0.176266403906 |  10  |\n",
       "+------------+-------------------------------+----------------+------+\n",
       "[10 rows x 4 columns]"
      ]
     },
     "execution_count": 38,
     "metadata": {},
     "output_type": "execute_result"
    }
   ],
   "source": [
    "personalized_model.get_similar_items(['The Matrix'])"
   ]
  },
  {
   "cell_type": "code",
   "execution_count": 22,
   "metadata": {
    "collapsed": false
   },
   "outputs": [
    {
     "name": "stdout",
     "output_type": "stream",
     "text": [
      "compare_models: using 12173 users to estimate model performance\n",
      "PROGRESS: Evaluate model M0"
     ]
    },
    {
     "data": {
      "text/html": [
       "<pre>recommendations finished on 1000/12173 queries. users per second: 351.224</pre>"
      ],
      "text/plain": [
       "recommendations finished on 1000/12173 queries. users per second: 351.224"
      ]
     },
     "metadata": {},
     "output_type": "display_data"
    },
    {
     "data": {
      "text/html": [
       "<pre>recommendations finished on 2000/12173 queries. users per second: 335.925</pre>"
      ],
      "text/plain": [
       "recommendations finished on 2000/12173 queries. users per second: 335.925"
      ]
     },
     "metadata": {},
     "output_type": "display_data"
    },
    {
     "data": {
      "text/html": [
       "<pre>recommendations finished on 3000/12173 queries. users per second: 336.395</pre>"
      ],
      "text/plain": [
       "recommendations finished on 3000/12173 queries. users per second: 336.395"
      ]
     },
     "metadata": {},
     "output_type": "display_data"
    },
    {
     "data": {
      "text/html": [
       "<pre>recommendations finished on 4000/12173 queries. users per second: 342.17</pre>"
      ],
      "text/plain": [
       "recommendations finished on 4000/12173 queries. users per second: 342.17"
      ]
     },
     "metadata": {},
     "output_type": "display_data"
    },
    {
     "data": {
      "text/html": [
       "<pre>recommendations finished on 5000/12173 queries. users per second: 344.867</pre>"
      ],
      "text/plain": [
       "recommendations finished on 5000/12173 queries. users per second: 344.867"
      ]
     },
     "metadata": {},
     "output_type": "display_data"
    },
    {
     "data": {
      "text/html": [
       "<pre>recommendations finished on 6000/12173 queries. users per second: 347.443</pre>"
      ],
      "text/plain": [
       "recommendations finished on 6000/12173 queries. users per second: 347.443"
      ]
     },
     "metadata": {},
     "output_type": "display_data"
    },
    {
     "data": {
      "text/html": [
       "<pre>recommendations finished on 7000/12173 queries. users per second: 337.715</pre>"
      ],
      "text/plain": [
       "recommendations finished on 7000/12173 queries. users per second: 337.715"
      ]
     },
     "metadata": {},
     "output_type": "display_data"
    },
    {
     "data": {
      "text/html": [
       "<pre>recommendations finished on 8000/12173 queries. users per second: 345.795</pre>"
      ],
      "text/plain": [
       "recommendations finished on 8000/12173 queries. users per second: 345.795"
      ]
     },
     "metadata": {},
     "output_type": "display_data"
    },
    {
     "data": {
      "text/html": [
       "<pre>recommendations finished on 9000/12173 queries. users per second: 347.948</pre>"
      ],
      "text/plain": [
       "recommendations finished on 9000/12173 queries. users per second: 347.948"
      ]
     },
     "metadata": {},
     "output_type": "display_data"
    },
    {
     "data": {
      "text/html": [
       "<pre>recommendations finished on 10000/12173 queries. users per second: 349.422</pre>"
      ],
      "text/plain": [
       "recommendations finished on 10000/12173 queries. users per second: 349.422"
      ]
     },
     "metadata": {},
     "output_type": "display_data"
    },
    {
     "data": {
      "text/html": [
       "<pre>recommendations finished on 11000/12173 queries. users per second: 346.702</pre>"
      ],
      "text/plain": [
       "recommendations finished on 11000/12173 queries. users per second: 346.702"
      ]
     },
     "metadata": {},
     "output_type": "display_data"
    },
    {
     "data": {
      "text/html": [
       "<pre>recommendations finished on 12000/12173 queries. users per second: 345.651</pre>"
      ],
      "text/plain": [
       "recommendations finished on 12000/12173 queries. users per second: 345.651"
      ]
     },
     "metadata": {},
     "output_type": "display_data"
    },
    {
     "name": "stdout",
     "output_type": "stream",
     "text": [
      "\n",
      "\n",
      "Precision and recall summary statistics by cutoff\n",
      "+--------+-----------------+-------------------+\n",
      "| cutoff |  mean_precision |    mean_recall    |\n",
      "+--------+-----------------+-------------------+\n",
      "|   1    |  0.013636737041 | 0.000865716048835 |\n",
      "|   2    | 0.0121991292204 |  0.00139751870415 |\n",
      "|   3    | 0.0124592677784 |  0.00274004115231 |\n",
      "|   4    | 0.0118089213834 |  0.00332723922938 |\n",
      "|   5    | 0.0115172923684 |  0.00393092616869 |\n",
      "|   6    | 0.0113913305403 |  0.00463222607179 |\n",
      "|   7    | 0.0110901174731 |  0.00507999957403 |\n",
      "|   8    | 0.0109771625729 |  0.00578058262206 |\n",
      "|   9    | 0.0108710534242 |  0.00658002220889 |\n",
      "|   10   | 0.0108190257126 |  0.00725630932712 |\n",
      "+--------+-----------------+-------------------+\n",
      "[10 rows x 3 columns]\n"
     ]
    },
    {
     "data": {
      "text/html": [
       "<pre>Finished prediction in 2.70033s</pre>"
      ],
      "text/plain": [
       "Finished prediction in 2.70033s"
      ]
     },
     "metadata": {},
     "output_type": "display_data"
    },
    {
     "name": "stdout",
     "output_type": "stream",
     "text": [
      "\n",
      "('\\nOverall RMSE: ', 408.2790220070397)\n",
      "\n",
      "Per User RMSE (best)\n",
      "+---------+-------+------+\n",
      "| user_id | count | rmse |\n",
      "+---------+-------+------+\n",
      "|  130189 |   1   | 0.0  |\n",
      "+---------+-------+------+\n",
      "[1 rows x 3 columns]\n",
      "\n",
      "\n",
      "Per User RMSE (worst)\n",
      "+---------+-------+---------------+\n",
      "| user_id | count |      rmse     |\n",
      "+---------+-------+---------------+\n",
      "|  125599 |   3   | 21952.5598998 |\n",
      "+---------+-------+---------------+\n",
      "[1 rows x 3 columns]\n",
      "\n",
      "\n",
      "Per Item RMSE (best)\n",
      "+---------+-------+------+\n",
      "| item_id | count | rmse |\n",
      "+---------+-------+------+\n",
      "|  62254  |   1   | 0.0  |\n",
      "+---------+-------+------+\n",
      "[1 rows x 3 columns]\n",
      "\n",
      "\n",
      "Per Item RMSE (worst)\n",
      "+---------+-------+--------------+\n",
      "| item_id | count |     rmse     |\n",
      "+---------+-------+--------------+\n",
      "|   2858  |  1264 | 1998.6015727 |\n",
      "+---------+-------+--------------+\n",
      "[1 rows x 3 columns]\n",
      "\n"
     ]
    }
   ],
   "source": []
  },
  {
   "cell_type": "code",
   "execution_count": null,
   "metadata": {
    "collapsed": true
   },
   "outputs": [],
   "source": [
    "sf_binned_5_withFeatures = gl.SFrame({\"user_id\":All_data[\"userID\"],\n",
    "                               \"item_id\":All_data[\"movieID\"],\n",
    "                               \"rating\":All_data[\"binned_5\"],\n",
    "                            \"title\":All_data[\"title\"]})"
   ]
  },
  {
   "cell_type": "code",
   "execution_count": 22,
   "metadata": {
    "collapsed": false
   },
   "outputs": [
    {
     "data": {
      "text/html": [
       "<pre>Finished parsing file /Users/Zhanna/Documents/Coding_Projects/Metis/WorkInProgressMetis/03 - Project McNulty - Classification/Movie_Data/ml-latest/movies.csv</pre>"
      ],
      "text/plain": [
       "Finished parsing file /Users/Zhanna/Documents/Coding_Projects/Metis/WorkInProgressMetis/03 - Project McNulty - Classification/Movie_Data/ml-latest/movies.csv"
      ]
     },
     "metadata": {},
     "output_type": "display_data"
    },
    {
     "data": {
      "text/html": [
       "<pre>Parsing completed. Parsed 100 lines in 0.078558 secs.</pre>"
      ],
      "text/plain": [
       "Parsing completed. Parsed 100 lines in 0.078558 secs."
      ]
     },
     "metadata": {},
     "output_type": "display_data"
    },
    {
     "data": {
      "text/html": [
       "<pre>Finished parsing file /Users/Zhanna/Documents/Coding_Projects/Metis/WorkInProgressMetis/03 - Project McNulty - Classification/Movie_Data/ml-latest/movies.csv</pre>"
      ],
      "text/plain": [
       "Finished parsing file /Users/Zhanna/Documents/Coding_Projects/Metis/WorkInProgressMetis/03 - Project McNulty - Classification/Movie_Data/ml-latest/movies.csv"
      ]
     },
     "metadata": {},
     "output_type": "display_data"
    },
    {
     "data": {
      "text/html": [
       "<pre>Parsing completed. Parsed 34208 lines in 0.074458 secs.</pre>"
      ],
      "text/plain": [
       "Parsing completed. Parsed 34208 lines in 0.074458 secs."
      ]
     },
     "metadata": {},
     "output_type": "display_data"
    },
    {
     "name": "stdout",
     "output_type": "stream",
     "text": [
      "------------------------------------------------------\n",
      "Inferred types from first 100 line(s) of file as \n",
      "column_type_hints=[int,str,str]\n",
      "If parsing fails due to incorrect types, you can correct\n",
      "the inferred type list above and pass it to read_csv in\n",
      "the column_type_hints argument\n",
      "------------------------------------------------------\n"
     ]
    }
   ],
   "source": []
  },
  {
   "cell_type": "code",
   "execution_count": 20,
   "metadata": {
    "collapsed": false
   },
   "outputs": [
    {
     "data": {
      "text/html": [
       "<pre>Finished parsing file /Users/Zhanna/Documents/Coding_Projects/Metis/WorkInProgressMetis/03 - Project McNulty - Classification/Movie_Data/ml-latest/ratings.csv</pre>"
      ],
      "text/plain": [
       "Finished parsing file /Users/Zhanna/Documents/Coding_Projects/Metis/WorkInProgressMetis/03 - Project McNulty - Classification/Movie_Data/ml-latest/ratings.csv"
      ]
     },
     "metadata": {},
     "output_type": "display_data"
    },
    {
     "data": {
      "text/html": [
       "<pre>Parsing completed. Parsed 100 lines in 1.37906 secs.</pre>"
      ],
      "text/plain": [
       "Parsing completed. Parsed 100 lines in 1.37906 secs."
      ]
     },
     "metadata": {},
     "output_type": "display_data"
    },
    {
     "data": {
      "text/html": [
       "<pre>Read 2012336 lines. Lines per second: 804933</pre>"
      ],
      "text/plain": [
       "Read 2012336 lines. Lines per second: 804933"
      ]
     },
     "metadata": {},
     "output_type": "display_data"
    },
    {
     "data": {
      "text/html": [
       "<pre>Read 11789872 lines. Lines per second: 1.43959e+06</pre>"
      ],
      "text/plain": [
       "Read 11789872 lines. Lines per second: 1.43959e+06"
      ]
     },
     "metadata": {},
     "output_type": "display_data"
    },
    {
     "data": {
      "text/html": [
       "<pre>Read 21304649 lines. Lines per second: 1.56881e+06</pre>"
      ],
      "text/plain": [
       "Read 21304649 lines. Lines per second: 1.56881e+06"
      ]
     },
     "metadata": {},
     "output_type": "display_data"
    },
    {
     "data": {
      "text/html": [
       "<pre>Finished parsing file /Users/Zhanna/Documents/Coding_Projects/Metis/WorkInProgressMetis/03 - Project McNulty - Classification/Movie_Data/ml-latest/ratings.csv</pre>"
      ],
      "text/plain": [
       "Finished parsing file /Users/Zhanna/Documents/Coding_Projects/Metis/WorkInProgressMetis/03 - Project McNulty - Classification/Movie_Data/ml-latest/ratings.csv"
      ]
     },
     "metadata": {},
     "output_type": "display_data"
    },
    {
     "data": {
      "text/html": [
       "<pre>Parsing completed. Parsed 22884377 lines in 14.0985 secs.</pre>"
      ],
      "text/plain": [
       "Parsing completed. Parsed 22884377 lines in 14.0985 secs."
      ]
     },
     "metadata": {},
     "output_type": "display_data"
    },
    {
     "name": "stdout",
     "output_type": "stream",
     "text": [
      "------------------------------------------------------\n",
      "Inferred types from first 100 line(s) of file as \n",
      "column_type_hints=[int,int,float,int]\n",
      "If parsing fails due to incorrect types, you can correct\n",
      "the inferred type list above and pass it to read_csv in\n",
      "the column_type_hints argument\n",
      "------------------------------------------------------\n"
     ]
    }
   ],
   "source": []
  },
  {
   "cell_type": "code",
   "execution_count": 23,
   "metadata": {
    "collapsed": false
   },
   "outputs": [
    {
     "data": {
      "text/html": [
       "<div style=\"max-height:1000px;max-width:1500px;overflow:auto;\"><table frame=\"box\" rules=\"cols\">\n",
       "    <tr>\n",
       "        <th style=\"padding-left: 1em; padding-right: 1em; text-align: center\">userId</th>\n",
       "        <th style=\"padding-left: 1em; padding-right: 1em; text-align: center\">movieId</th>\n",
       "        <th style=\"padding-left: 1em; padding-right: 1em; text-align: center\">rating</th>\n",
       "        <th style=\"padding-left: 1em; padding-right: 1em; text-align: center\">timestamp</th>\n",
       "    </tr>\n",
       "    <tr>\n",
       "        <td style=\"padding-left: 1em; padding-right: 1em; text-align: center; vertical-align: top\">1</td>\n",
       "        <td style=\"padding-left: 1em; padding-right: 1em; text-align: center; vertical-align: top\">169</td>\n",
       "        <td style=\"padding-left: 1em; padding-right: 1em; text-align: center; vertical-align: top\">2.5</td>\n",
       "        <td style=\"padding-left: 1em; padding-right: 1em; text-align: center; vertical-align: top\">1204927694</td>\n",
       "    </tr>\n",
       "    <tr>\n",
       "        <td style=\"padding-left: 1em; padding-right: 1em; text-align: center; vertical-align: top\">1</td>\n",
       "        <td style=\"padding-left: 1em; padding-right: 1em; text-align: center; vertical-align: top\">2471</td>\n",
       "        <td style=\"padding-left: 1em; padding-right: 1em; text-align: center; vertical-align: top\">3.0</td>\n",
       "        <td style=\"padding-left: 1em; padding-right: 1em; text-align: center; vertical-align: top\">1204927438</td>\n",
       "    </tr>\n",
       "    <tr>\n",
       "        <td style=\"padding-left: 1em; padding-right: 1em; text-align: center; vertical-align: top\">1</td>\n",
       "        <td style=\"padding-left: 1em; padding-right: 1em; text-align: center; vertical-align: top\">48516</td>\n",
       "        <td style=\"padding-left: 1em; padding-right: 1em; text-align: center; vertical-align: top\">5.0</td>\n",
       "        <td style=\"padding-left: 1em; padding-right: 1em; text-align: center; vertical-align: top\">1204927435</td>\n",
       "    </tr>\n",
       "    <tr>\n",
       "        <td style=\"padding-left: 1em; padding-right: 1em; text-align: center; vertical-align: top\">2</td>\n",
       "        <td style=\"padding-left: 1em; padding-right: 1em; text-align: center; vertical-align: top\">2571</td>\n",
       "        <td style=\"padding-left: 1em; padding-right: 1em; text-align: center; vertical-align: top\">3.5</td>\n",
       "        <td style=\"padding-left: 1em; padding-right: 1em; text-align: center; vertical-align: top\">1436165433</td>\n",
       "    </tr>\n",
       "    <tr>\n",
       "        <td style=\"padding-left: 1em; padding-right: 1em; text-align: center; vertical-align: top\">2</td>\n",
       "        <td style=\"padding-left: 1em; padding-right: 1em; text-align: center; vertical-align: top\">109487</td>\n",
       "        <td style=\"padding-left: 1em; padding-right: 1em; text-align: center; vertical-align: top\">4.0</td>\n",
       "        <td style=\"padding-left: 1em; padding-right: 1em; text-align: center; vertical-align: top\">1436165496</td>\n",
       "    </tr>\n",
       "</table>\n",
       "[5 rows x 4 columns]<br/>\n",
       "</div>"
      ],
      "text/plain": [
       "Columns:\n",
       "\tuserId\tint\n",
       "\tmovieId\tint\n",
       "\trating\tfloat\n",
       "\ttimestamp\tint\n",
       "\n",
       "Rows: 5\n",
       "\n",
       "Data:\n",
       "+--------+---------+--------+------------+\n",
       "| userId | movieId | rating | timestamp  |\n",
       "+--------+---------+--------+------------+\n",
       "|   1    |   169   |  2.5   | 1204927694 |\n",
       "|   1    |   2471  |  3.0   | 1204927438 |\n",
       "|   1    |  48516  |  5.0   | 1204927435 |\n",
       "|   2    |   2571  |  3.5   | 1436165433 |\n",
       "|   2    |  109487 |  4.0   | 1436165496 |\n",
       "+--------+---------+--------+------------+\n",
       "[5 rows x 4 columns]"
      ]
     },
     "execution_count": 23,
     "metadata": {},
     "output_type": "execute_result"
    }
   ],
   "source": [
    "actions.head(5)"
   ]
  },
  {
   "cell_type": "code",
   "execution_count": 111,
   "metadata": {
    "collapsed": true
   },
   "outputs": [],
   "source": [
    "# ### Prepare Data ###\n",
    "\n",
    "# # Prepare the data by removing items that are rare\n",
    "# rare_items = actions.groupby('movieId', gl.aggregate.COUNT).sort('Count')\n",
    "# # rare_items = rare_items[rare_items['Count'] <= 5]\n",
    "# items = items.filter_by(rare_items['movieId'], 'movieId', exclude=True)\n",
    "# actions = actions.filter_by(rare_items['movieId'], 'movieId', exclude=True)"
   ]
  },
  {
   "cell_type": "code",
   "execution_count": 24,
   "metadata": {
    "collapsed": false
   },
   "outputs": [
    {
     "data": {
      "text/html": [
       "<div style=\"max-height:1000px;max-width:1500px;overflow:auto;\"><table frame=\"box\" rules=\"cols\">\n",
       "    <tr>\n",
       "        <th style=\"padding-left: 1em; padding-right: 1em; text-align: center\">movieId</th>\n",
       "        <th style=\"padding-left: 1em; padding-right: 1em; text-align: center\">title</th>\n",
       "        <th style=\"padding-left: 1em; padding-right: 1em; text-align: center\">genres</th>\n",
       "    </tr>\n",
       "    <tr>\n",
       "        <td style=\"padding-left: 1em; padding-right: 1em; text-align: center; vertical-align: top\">1</td>\n",
       "        <td style=\"padding-left: 1em; padding-right: 1em; text-align: center; vertical-align: top\">Toy Story (1995)</td>\n",
       "        <td style=\"padding-left: 1em; padding-right: 1em; text-align: center; vertical-align: top\">Adventure|Animation|Child<br>ren|Comedy|Fantasy ...</td>\n",
       "    </tr>\n",
       "    <tr>\n",
       "        <td style=\"padding-left: 1em; padding-right: 1em; text-align: center; vertical-align: top\">2</td>\n",
       "        <td style=\"padding-left: 1em; padding-right: 1em; text-align: center; vertical-align: top\">Jumanji (1995)</td>\n",
       "        <td style=\"padding-left: 1em; padding-right: 1em; text-align: center; vertical-align: top\">Adventure|Children|Fantas<br>y ...</td>\n",
       "    </tr>\n",
       "    <tr>\n",
       "        <td style=\"padding-left: 1em; padding-right: 1em; text-align: center; vertical-align: top\">3</td>\n",
       "        <td style=\"padding-left: 1em; padding-right: 1em; text-align: center; vertical-align: top\">Grumpier Old Men (1995)</td>\n",
       "        <td style=\"padding-left: 1em; padding-right: 1em; text-align: center; vertical-align: top\">Comedy|Romance</td>\n",
       "    </tr>\n",
       "    <tr>\n",
       "        <td style=\"padding-left: 1em; padding-right: 1em; text-align: center; vertical-align: top\">4</td>\n",
       "        <td style=\"padding-left: 1em; padding-right: 1em; text-align: center; vertical-align: top\">Waiting to Exhale (1995)</td>\n",
       "        <td style=\"padding-left: 1em; padding-right: 1em; text-align: center; vertical-align: top\">Comedy|Drama|Romance</td>\n",
       "    </tr>\n",
       "    <tr>\n",
       "        <td style=\"padding-left: 1em; padding-right: 1em; text-align: center; vertical-align: top\">5</td>\n",
       "        <td style=\"padding-left: 1em; padding-right: 1em; text-align: center; vertical-align: top\">Father of the Bride Part<br>II (1995) ...</td>\n",
       "        <td style=\"padding-left: 1em; padding-right: 1em; text-align: center; vertical-align: top\">Comedy</td>\n",
       "    </tr>\n",
       "</table>\n",
       "[5 rows x 3 columns]<br/>\n",
       "</div>"
      ],
      "text/plain": [
       "Columns:\n",
       "\tmovieId\tint\n",
       "\ttitle\tstr\n",
       "\tgenres\tstr\n",
       "\n",
       "Rows: 5\n",
       "\n",
       "Data:\n",
       "+---------+-------------------------------+-------------------------------+\n",
       "| movieId |             title             |             genres            |\n",
       "+---------+-------------------------------+-------------------------------+\n",
       "|    1    |        Toy Story (1995)       | Adventure|Animation|Childr... |\n",
       "|    2    |         Jumanji (1995)        |   Adventure|Children|Fantasy  |\n",
       "|    3    |    Grumpier Old Men (1995)    |         Comedy|Romance        |\n",
       "|    4    |    Waiting to Exhale (1995)   |      Comedy|Drama|Romance     |\n",
       "|    5    | Father of the Bride Part I... |             Comedy            |\n",
       "+---------+-------------------------------+-------------------------------+\n",
       "[5 rows x 3 columns]"
      ]
     },
     "execution_count": 24,
     "metadata": {},
     "output_type": "execute_result"
    }
   ],
   "source": [
    "items.head(5)"
   ]
  },
  {
   "cell_type": "code",
   "execution_count": 25,
   "metadata": {
    "collapsed": true
   },
   "outputs": [],
   "source": [
    "items['year'] = items['title'].apply(lambda x: x[-5:-1])\n",
    "items['title'] = items['title'].apply(lambda x: x[:-7])\n",
    "items['genres'] = items['genres'].apply(lambda x: x.split('|'))"
   ]
  },
  {
   "cell_type": "code",
   "execution_count": 64,
   "metadata": {
    "collapsed": false
   },
   "outputs": [
    {
     "data": {
      "text/plain": [
       "(18701, 4)"
      ]
     },
     "execution_count": 64,
     "metadata": {},
     "output_type": "execute_result"
    }
   ],
   "source": [
    "validation_data.shape"
   ]
  },
  {
   "cell_type": "code",
   "execution_count": 63,
   "metadata": {
    "collapsed": false
   },
   "outputs": [
    {
     "data": {
      "text/plain": [
       "<bound method RankingFactorizationRecommender.get_current_options of Class                           : RankingFactorizationRecommender\n",
       "\n",
       "Schema\n",
       "------\n",
       "User ID                         : userId\n",
       "Item ID                         : movieId\n",
       "Target                          : rating\n",
       "Additional observation features : 1\n",
       "Number of user side features    : 0\n",
       "Number of item side features    : 0\n",
       "\n",
       "Statistics\n",
       "----------\n",
       "Number of observations          : 22837405\n",
       "Number of users                 : 247734\n",
       "Number of items                 : 20319\n",
       "\n",
       "Training summary\n",
       "----------------\n",
       "Training time                   : 1820.9327\n",
       "\n",
       "Model Parameters\n",
       "----------------\n",
       "Model class                     : RankingFactorizationRecommender\n",
       "num_factors                     : 32\n",
       "binary_target                   : 0\n",
       "side_data_factorization         : 1\n",
       "solver                          : auto\n",
       "nmf                             : 0\n",
       "max_iterations                  : 25\n",
       "\n",
       "Regularization Settings\n",
       "-----------------------\n",
       "regularization                  : 0.0\n",
       "regularization_type             : normal\n",
       "linear_regularization           : 0.0\n",
       "ranking_regularization          : 0.25\n",
       "unobserved_rating_value         : -1.79769313486e+308\n",
       "num_sampled_negative_examples   : 4\n",
       "ials_confidence_scaling_type    : auto\n",
       "ials_confidence_scaling_factor  : 1\n",
       "\n",
       "Optimization Settings\n",
       "---------------------\n",
       "init_random_sigma               : 0.01\n",
       "sgd_convergence_interval        : 4\n",
       "sgd_convergence_threshold       : 0.0\n",
       "sgd_max_trial_iterations        : 5\n",
       "sgd_sampling_block_size         : 131072\n",
       "sgd_step_adjustment_interval    : 4\n",
       "sgd_step_size                   : 0.0\n",
       "sgd_trial_sample_minimum_size   : 10000\n",
       "sgd_trial_sample_proportion     : 0.125\n",
       "step_size_decrease_rate         : 0.75\n",
       "additional_iterations_if_unhealthy: 5\n",
       "adagrad_momentum_weighting      : 0.9\n",
       "num_tempering_iterations        : 4\n",
       "tempering_regularization_start_value: 0.0\n",
       "track_exact_loss                : 0\n",
       ">"
      ]
     },
     "execution_count": 63,
     "metadata": {},
     "output_type": "execute_result"
    },
    {
     "data": {
      "text/html": [
       "<pre>Getting similar items completed in 0.011482</pre>"
      ],
      "text/plain": [
       "Getting similar items completed in 0.011482"
      ]
     },
     "metadata": {},
     "output_type": "display_data"
    },
    {
     "data": {
      "text/html": [
       "<pre>Getting similar items completed in 0.002426</pre>"
      ],
      "text/plain": [
       "Getting similar items completed in 0.002426"
      ]
     },
     "metadata": {},
     "output_type": "display_data"
    },
    {
     "data": {
      "text/html": [
       "<pre>Getting similar items completed in 0.004008</pre>"
      ],
      "text/plain": [
       "Getting similar items completed in 0.004008"
      ]
     },
     "metadata": {},
     "output_type": "display_data"
    },
    {
     "data": {
      "text/html": [
       "<pre>Getting similar items completed in 0.001849</pre>"
      ],
      "text/plain": [
       "Getting similar items completed in 0.001849"
      ]
     },
     "metadata": {},
     "output_type": "display_data"
    },
    {
     "data": {
      "text/html": [
       "<pre>Getting similar items completed in 0.003142</pre>"
      ],
      "text/plain": [
       "Getting similar items completed in 0.003142"
      ]
     },
     "metadata": {},
     "output_type": "display_data"
    },
    {
     "data": {
      "text/html": [
       "<pre>Getting similar items completed in 0.003453</pre>"
      ],
      "text/plain": [
       "Getting similar items completed in 0.003453"
      ]
     },
     "metadata": {},
     "output_type": "display_data"
    },
    {
     "data": {
      "text/html": [
       "<pre>Getting similar items completed in 0.002366</pre>"
      ],
      "text/plain": [
       "Getting similar items completed in 0.002366"
      ]
     },
     "metadata": {},
     "output_type": "display_data"
    },
    {
     "data": {
      "text/html": [
       "<pre>Getting similar items completed in 0.006654</pre>"
      ],
      "text/plain": [
       "Getting similar items completed in 0.006654"
      ]
     },
     "metadata": {},
     "output_type": "display_data"
    },
    {
     "data": {
      "text/html": [
       "<pre>Getting similar items completed in 0.00226</pre>"
      ],
      "text/plain": [
       "Getting similar items completed in 0.00226"
      ]
     },
     "metadata": {},
     "output_type": "display_data"
    },
    {
     "data": {
      "text/html": [
       "<pre>Getting similar items completed in 0.003178</pre>"
      ],
      "text/plain": [
       "Getting similar items completed in 0.003178"
      ]
     },
     "metadata": {},
     "output_type": "display_data"
    },
    {
     "data": {
      "text/html": [
       "<pre>Getting similar items completed in 0.001993</pre>"
      ],
      "text/plain": [
       "Getting similar items completed in 0.001993"
      ]
     },
     "metadata": {},
     "output_type": "display_data"
    },
    {
     "data": {
      "text/html": [
       "<pre>Getting similar items completed in 0.003386</pre>"
      ],
      "text/plain": [
       "Getting similar items completed in 0.003386"
      ]
     },
     "metadata": {},
     "output_type": "display_data"
    },
    {
     "data": {
      "text/html": [
       "<pre>Getting similar items completed in 0.002817</pre>"
      ],
      "text/plain": [
       "Getting similar items completed in 0.002817"
      ]
     },
     "metadata": {},
     "output_type": "display_data"
    },
    {
     "data": {
      "text/html": [
       "<pre>Getting similar items completed in 0.002004</pre>"
      ],
      "text/plain": [
       "Getting similar items completed in 0.002004"
      ]
     },
     "metadata": {},
     "output_type": "display_data"
    },
    {
     "data": {
      "text/html": [
       "<pre>Getting similar items completed in 0.001744</pre>"
      ],
      "text/plain": [
       "Getting similar items completed in 0.001744"
      ]
     },
     "metadata": {},
     "output_type": "display_data"
    },
    {
     "data": {
      "text/html": [
       "<pre>Getting similar items completed in 0.002525</pre>"
      ],
      "text/plain": [
       "Getting similar items completed in 0.002525"
      ]
     },
     "metadata": {},
     "output_type": "display_data"
    },
    {
     "data": {
      "text/html": [
       "<pre>Getting similar items completed in 0.003033</pre>"
      ],
      "text/plain": [
       "Getting similar items completed in 0.003033"
      ]
     },
     "metadata": {},
     "output_type": "display_data"
    },
    {
     "data": {
      "text/html": [
       "<pre>Getting similar items completed in 0.003004</pre>"
      ],
      "text/plain": [
       "Getting similar items completed in 0.003004"
      ]
     },
     "metadata": {},
     "output_type": "display_data"
    },
    {
     "data": {
      "text/html": [
       "<pre>Getting similar items completed in 0.002036</pre>"
      ],
      "text/plain": [
       "Getting similar items completed in 0.002036"
      ]
     },
     "metadata": {},
     "output_type": "display_data"
    },
    {
     "data": {
      "text/html": [
       "<pre>Getting similar items completed in 0.003169</pre>"
      ],
      "text/plain": [
       "Getting similar items completed in 0.003169"
      ]
     },
     "metadata": {},
     "output_type": "display_data"
    },
    {
     "data": {
      "text/html": [
       "<pre>Getting similar items completed in 0.001987</pre>"
      ],
      "text/plain": [
       "Getting similar items completed in 0.001987"
      ]
     },
     "metadata": {},
     "output_type": "display_data"
    },
    {
     "data": {
      "text/html": [
       "<pre>Getting similar items completed in 0.001818</pre>"
      ],
      "text/plain": [
       "Getting similar items completed in 0.001818"
      ]
     },
     "metadata": {},
     "output_type": "display_data"
    },
    {
     "data": {
      "text/html": [
       "<pre>Getting similar items completed in 0.001875</pre>"
      ],
      "text/plain": [
       "Getting similar items completed in 0.001875"
      ]
     },
     "metadata": {},
     "output_type": "display_data"
    },
    {
     "data": {
      "text/html": [
       "<pre>Getting similar items completed in 0.002546</pre>"
      ],
      "text/plain": [
       "Getting similar items completed in 0.002546"
      ]
     },
     "metadata": {},
     "output_type": "display_data"
    },
    {
     "data": {
      "text/html": [
       "<pre>Getting similar items completed in 0.001977</pre>"
      ],
      "text/plain": [
       "Getting similar items completed in 0.001977"
      ]
     },
     "metadata": {},
     "output_type": "display_data"
    },
    {
     "data": {
      "text/html": [
       "<pre>Getting similar items completed in 0.002798</pre>"
      ],
      "text/plain": [
       "Getting similar items completed in 0.002798"
      ]
     },
     "metadata": {},
     "output_type": "display_data"
    },
    {
     "data": {
      "text/html": [
       "<pre>Getting similar items completed in 0.005009</pre>"
      ],
      "text/plain": [
       "Getting similar items completed in 0.005009"
      ]
     },
     "metadata": {},
     "output_type": "display_data"
    },
    {
     "data": {
      "text/html": [
       "<pre>Getting similar items completed in 0.004273</pre>"
      ],
      "text/plain": [
       "Getting similar items completed in 0.004273"
      ]
     },
     "metadata": {},
     "output_type": "display_data"
    },
    {
     "data": {
      "text/html": [
       "<pre>Getting similar items completed in 0.002211</pre>"
      ],
      "text/plain": [
       "Getting similar items completed in 0.002211"
      ]
     },
     "metadata": {},
     "output_type": "display_data"
    },
    {
     "data": {
      "text/html": [
       "<pre>Getting similar items completed in 0.00234</pre>"
      ],
      "text/plain": [
       "Getting similar items completed in 0.00234"
      ]
     },
     "metadata": {},
     "output_type": "display_data"
    },
    {
     "data": {
      "text/html": [
       "<pre>Getting similar items completed in 0.001858</pre>"
      ],
      "text/plain": [
       "Getting similar items completed in 0.001858"
      ]
     },
     "metadata": {},
     "output_type": "display_data"
    },
    {
     "data": {
      "text/html": [
       "<pre>Getting similar items completed in 0.002453</pre>"
      ],
      "text/plain": [
       "Getting similar items completed in 0.002453"
      ]
     },
     "metadata": {},
     "output_type": "display_data"
    },
    {
     "data": {
      "text/html": [
       "<pre>Getting similar items completed in 0.003016</pre>"
      ],
      "text/plain": [
       "Getting similar items completed in 0.003016"
      ]
     },
     "metadata": {},
     "output_type": "display_data"
    },
    {
     "data": {
      "text/html": [
       "<pre>Getting similar items completed in 0.0021</pre>"
      ],
      "text/plain": [
       "Getting similar items completed in 0.0021"
      ]
     },
     "metadata": {},
     "output_type": "display_data"
    },
    {
     "data": {
      "text/html": [
       "<pre>Getting similar items completed in 0.003762</pre>"
      ],
      "text/plain": [
       "Getting similar items completed in 0.003762"
      ]
     },
     "metadata": {},
     "output_type": "display_data"
    },
    {
     "data": {
      "text/html": [
       "<pre>Getting similar items completed in 0.001659</pre>"
      ],
      "text/plain": [
       "Getting similar items completed in 0.001659"
      ]
     },
     "metadata": {},
     "output_type": "display_data"
    },
    {
     "data": {
      "text/html": [
       "<pre>Getting similar items completed in 0.003006</pre>"
      ],
      "text/plain": [
       "Getting similar items completed in 0.003006"
      ]
     },
     "metadata": {},
     "output_type": "display_data"
    },
    {
     "data": {
      "text/html": [
       "<pre>Getting similar items completed in 0.002535</pre>"
      ],
      "text/plain": [
       "Getting similar items completed in 0.002535"
      ]
     },
     "metadata": {},
     "output_type": "display_data"
    },
    {
     "data": {
      "text/html": [
       "<pre>Getting similar items completed in 0.004102</pre>"
      ],
      "text/plain": [
       "Getting similar items completed in 0.004102"
      ]
     },
     "metadata": {},
     "output_type": "display_data"
    },
    {
     "data": {
      "text/html": [
       "<pre>Getting similar items completed in 0.002075</pre>"
      ],
      "text/plain": [
       "Getting similar items completed in 0.002075"
      ]
     },
     "metadata": {},
     "output_type": "display_data"
    },
    {
     "data": {
      "text/html": [
       "<pre>Getting similar items completed in 0.003799</pre>"
      ],
      "text/plain": [
       "Getting similar items completed in 0.003799"
      ]
     },
     "metadata": {},
     "output_type": "display_data"
    },
    {
     "data": {
      "text/html": [
       "<pre>Getting similar items completed in 0.001928</pre>"
      ],
      "text/plain": [
       "Getting similar items completed in 0.001928"
      ]
     },
     "metadata": {},
     "output_type": "display_data"
    },
    {
     "data": {
      "text/html": [
       "<pre>Getting similar items completed in 0.005846</pre>"
      ],
      "text/plain": [
       "Getting similar items completed in 0.005846"
      ]
     },
     "metadata": {},
     "output_type": "display_data"
    },
    {
     "data": {
      "text/html": [
       "<pre>Getting similar items completed in 0.002368</pre>"
      ],
      "text/plain": [
       "Getting similar items completed in 0.002368"
      ]
     },
     "metadata": {},
     "output_type": "display_data"
    },
    {
     "data": {
      "text/html": [
       "<pre>Getting similar items completed in 0.003402</pre>"
      ],
      "text/plain": [
       "Getting similar items completed in 0.003402"
      ]
     },
     "metadata": {},
     "output_type": "display_data"
    },
    {
     "data": {
      "text/html": [
       "<pre>Getting similar items completed in 0.002043</pre>"
      ],
      "text/plain": [
       "Getting similar items completed in 0.002043"
      ]
     },
     "metadata": {},
     "output_type": "display_data"
    },
    {
     "data": {
      "text/html": [
       "<pre>Getting similar items completed in 0.001852</pre>"
      ],
      "text/plain": [
       "Getting similar items completed in 0.001852"
      ]
     },
     "metadata": {},
     "output_type": "display_data"
    },
    {
     "data": {
      "text/html": [
       "<pre>Getting similar items completed in 0.002351</pre>"
      ],
      "text/plain": [
       "Getting similar items completed in 0.002351"
      ]
     },
     "metadata": {},
     "output_type": "display_data"
    },
    {
     "data": {
      "text/html": [
       "<pre>Getting similar items completed in 0.002137</pre>"
      ],
      "text/plain": [
       "Getting similar items completed in 0.002137"
      ]
     },
     "metadata": {},
     "output_type": "display_data"
    },
    {
     "data": {
      "text/html": [
       "<pre>Getting similar items completed in 0.002694</pre>"
      ],
      "text/plain": [
       "Getting similar items completed in 0.002694"
      ]
     },
     "metadata": {},
     "output_type": "display_data"
    },
    {
     "data": {
      "text/html": [
       "<pre>Getting similar items completed in 0.005894</pre>"
      ],
      "text/plain": [
       "Getting similar items completed in 0.005894"
      ]
     },
     "metadata": {},
     "output_type": "display_data"
    },
    {
     "data": {
      "text/html": [
       "<pre>Getting similar items completed in 0.002336</pre>"
      ],
      "text/plain": [
       "Getting similar items completed in 0.002336"
      ]
     },
     "metadata": {},
     "output_type": "display_data"
    },
    {
     "name": "stderr",
     "output_type": "stream",
     "text": [
      "2016-05-13 11:34:32,023 [ERROR] tornado.access, 1825: 500 POST /view/f8565a79-c770-4a97-a054-bcb9c550e73d (::1) 85.38ms\n",
      "2016-05-13 11:34:32,034 [ERROR] tornado.access, 1825: 500 POST /view/f8565a79-c770-4a97-a054-bcb9c550e73d (::1) 7.67ms\n",
      "2016-05-13 11:34:32,041 [ERROR] tornado.access, 1825: 500 POST /view/f8565a79-c770-4a97-a054-bcb9c550e73d (::1) 5.27ms\n"
     ]
    },
    {
     "data": {
      "text/html": [
       "<pre>Getting similar items completed in 0.001759</pre>"
      ],
      "text/plain": [
       "Getting similar items completed in 0.001759"
      ]
     },
     "metadata": {},
     "output_type": "display_data"
    },
    {
     "data": {
      "text/html": [
       "<pre>Getting similar items completed in 0.002468</pre>"
      ],
      "text/plain": [
       "Getting similar items completed in 0.002468"
      ]
     },
     "metadata": {},
     "output_type": "display_data"
    },
    {
     "data": {
      "text/html": [
       "<pre>Getting similar items completed in 0.002007</pre>"
      ],
      "text/plain": [
       "Getting similar items completed in 0.002007"
      ]
     },
     "metadata": {},
     "output_type": "display_data"
    },
    {
     "data": {
      "text/html": [
       "<pre>Getting similar items completed in 0.002431</pre>"
      ],
      "text/plain": [
       "Getting similar items completed in 0.002431"
      ]
     },
     "metadata": {},
     "output_type": "display_data"
    },
    {
     "data": {
      "text/html": [
       "<pre>Getting similar items completed in 0.00241</pre>"
      ],
      "text/plain": [
       "Getting similar items completed in 0.00241"
      ]
     },
     "metadata": {},
     "output_type": "display_data"
    },
    {
     "data": {
      "text/html": [
       "<pre>Getting similar items completed in 0.001583</pre>"
      ],
      "text/plain": [
       "Getting similar items completed in 0.001583"
      ]
     },
     "metadata": {},
     "output_type": "display_data"
    }
   ],
   "source": [
    "model_with_rating_target.get_current_options"
   ]
  },
  {
   "cell_type": "code",
   "execution_count": 140,
   "metadata": {
    "collapsed": true
   },
   "outputs": [],
   "source": []
  },
  {
   "cell_type": "code",
   "execution_count": 139,
   "metadata": {
    "collapsed": false
   },
   "outputs": [
    {
     "data": {
      "text/html": [
       "<pre>Recsys training: model = ranking_factorization_recommender</pre>"
      ],
      "text/plain": [
       "Recsys training: model = ranking_factorization_recommender"
      ]
     },
     "metadata": {},
     "output_type": "display_data"
    },
    {
     "data": {
      "text/html": [
       "<pre>Preparing data set.</pre>"
      ],
      "text/plain": [
       "Preparing data set."
      ]
     },
     "metadata": {},
     "output_type": "display_data"
    },
    {
     "data": {
      "text/html": [
       "<pre>    Data has 22837405 observations with 247734 users and 20319 items.</pre>"
      ],
      "text/plain": [
       "    Data has 22837405 observations with 247734 users and 20319 items."
      ]
     },
     "metadata": {},
     "output_type": "display_data"
    },
    {
     "data": {
      "text/html": [
       "<pre>    Data prepared in: 40.7808s</pre>"
      ],
      "text/plain": [
       "    Data prepared in: 40.7808s"
      ]
     },
     "metadata": {},
     "output_type": "display_data"
    },
    {
     "data": {
      "text/html": [
       "<pre>Training ranking_factorization_recommender for recommendations.</pre>"
      ],
      "text/plain": [
       "Training ranking_factorization_recommender for recommendations."
      ]
     },
     "metadata": {},
     "output_type": "display_data"
    },
    {
     "data": {
      "text/html": [
       "<pre>+--------------------------------+--------------------------------------------------+----------+</pre>"
      ],
      "text/plain": [
       "+--------------------------------+--------------------------------------------------+----------+"
      ]
     },
     "metadata": {},
     "output_type": "display_data"
    },
    {
     "data": {
      "text/html": [
       "<pre>| Parameter                      | Description                                      | Value    |</pre>"
      ],
      "text/plain": [
       "| Parameter                      | Description                                      | Value    |"
      ]
     },
     "metadata": {},
     "output_type": "display_data"
    },
    {
     "data": {
      "text/html": [
       "<pre>+--------------------------------+--------------------------------------------------+----------+</pre>"
      ],
      "text/plain": [
       "+--------------------------------+--------------------------------------------------+----------+"
      ]
     },
     "metadata": {},
     "output_type": "display_data"
    },
    {
     "data": {
      "text/html": [
       "<pre>| num_factors                    | Factor Dimension                                 | 32       |</pre>"
      ],
      "text/plain": [
       "| num_factors                    | Factor Dimension                                 | 32       |"
      ]
     },
     "metadata": {},
     "output_type": "display_data"
    },
    {
     "data": {
      "text/html": [
       "<pre>| regularization                 | L2 Regularization on Factors                     | 1e-09    |</pre>"
      ],
      "text/plain": [
       "| regularization                 | L2 Regularization on Factors                     | 1e-09    |"
      ]
     },
     "metadata": {},
     "output_type": "display_data"
    },
    {
     "data": {
      "text/html": [
       "<pre>| solver                         | Solver used for training                         | adagrad  |</pre>"
      ],
      "text/plain": [
       "| solver                         | Solver used for training                         | adagrad  |"
      ]
     },
     "metadata": {},
     "output_type": "display_data"
    },
    {
     "data": {
      "text/html": [
       "<pre>| linear_regularization          | L2 Regularization on Linear Coefficients         | 1e-09    |</pre>"
      ],
      "text/plain": [
       "| linear_regularization          | L2 Regularization on Linear Coefficients         | 1e-09    |"
      ]
     },
     "metadata": {},
     "output_type": "display_data"
    },
    {
     "data": {
      "text/html": [
       "<pre>| ranking_regularization         | Rank-based Regularization Weight                 | 0.25     |</pre>"
      ],
      "text/plain": [
       "| ranking_regularization         | Rank-based Regularization Weight                 | 0.25     |"
      ]
     },
     "metadata": {},
     "output_type": "display_data"
    },
    {
     "data": {
      "text/html": [
       "<pre>| max_iterations                 | Maximum Number of Iterations                     | 25       |</pre>"
      ],
      "text/plain": [
       "| max_iterations                 | Maximum Number of Iterations                     | 25       |"
      ]
     },
     "metadata": {},
     "output_type": "display_data"
    },
    {
     "data": {
      "text/html": [
       "<pre>+--------------------------------+--------------------------------------------------+----------+</pre>"
      ],
      "text/plain": [
       "+--------------------------------+--------------------------------------------------+----------+"
      ]
     },
     "metadata": {},
     "output_type": "display_data"
    },
    {
     "data": {
      "text/html": [
       "<pre>  Optimizing model using SGD; tuning step size.</pre>"
      ],
      "text/plain": [
       "  Optimizing model using SGD; tuning step size."
      ]
     },
     "metadata": {},
     "output_type": "display_data"
    },
    {
     "data": {
      "text/html": [
       "<pre>  Using 2854675 / 22837405 points for tuning the step size.</pre>"
      ],
      "text/plain": [
       "  Using 2854675 / 22837405 points for tuning the step size."
      ]
     },
     "metadata": {},
     "output_type": "display_data"
    },
    {
     "data": {
      "text/html": [
       "<pre>+---------+-------------------+------------------------------------------+</pre>"
      ],
      "text/plain": [
       "+---------+-------------------+------------------------------------------+"
      ]
     },
     "metadata": {},
     "output_type": "display_data"
    },
    {
     "data": {
      "text/html": [
       "<pre>| Attempt | Initial Step Size | Estimated Objective Value                |</pre>"
      ],
      "text/plain": [
       "| Attempt | Initial Step Size | Estimated Objective Value                |"
      ]
     },
     "metadata": {},
     "output_type": "display_data"
    },
    {
     "data": {
      "text/html": [
       "<pre>+---------+-------------------+------------------------------------------+</pre>"
      ],
      "text/plain": [
       "+---------+-------------------+------------------------------------------+"
      ]
     },
     "metadata": {},
     "output_type": "display_data"
    },
    {
     "data": {
      "text/html": [
       "<pre>| 0       | 16.6667           | Not Viable                               |</pre>"
      ],
      "text/plain": [
       "| 0       | 16.6667           | Not Viable                               |"
      ]
     },
     "metadata": {},
     "output_type": "display_data"
    },
    {
     "data": {
      "text/html": [
       "<pre>| 1       | 4.16667           | Not Viable                               |</pre>"
      ],
      "text/plain": [
       "| 1       | 4.16667           | Not Viable                               |"
      ]
     },
     "metadata": {},
     "output_type": "display_data"
    },
    {
     "data": {
      "text/html": [
       "<pre>| 2       | 1.04167           | Not Viable                               |</pre>"
      ],
      "text/plain": [
       "| 2       | 1.04167           | Not Viable                               |"
      ]
     },
     "metadata": {},
     "output_type": "display_data"
    },
    {
     "data": {
      "text/html": [
       "<pre>| 3       | 0.260417          | Not Viable                               |</pre>"
      ],
      "text/plain": [
       "| 3       | 0.260417          | Not Viable                               |"
      ]
     },
     "metadata": {},
     "output_type": "display_data"
    },
    {
     "data": {
      "text/html": [
       "<pre>| 4       | 0.0651042         | 1.51362                                  |</pre>"
      ],
      "text/plain": [
       "| 4       | 0.0651042         | 1.51362                                  |"
      ]
     },
     "metadata": {},
     "output_type": "display_data"
    },
    {
     "data": {
      "text/html": [
       "<pre>| 5       | 0.0325521         | 1.3779                                   |</pre>"
      ],
      "text/plain": [
       "| 5       | 0.0325521         | 1.3779                                   |"
      ]
     },
     "metadata": {},
     "output_type": "display_data"
    },
    {
     "data": {
      "text/html": [
       "<pre>| 6       | 0.016276          | 1.42364                                  |</pre>"
      ],
      "text/plain": [
       "| 6       | 0.016276          | 1.42364                                  |"
      ]
     },
     "metadata": {},
     "output_type": "display_data"
    },
    {
     "data": {
      "text/html": [
       "<pre>| 7       | 0.00813802        | 1.50181                                  |</pre>"
      ],
      "text/plain": [
       "| 7       | 0.00813802        | 1.50181                                  |"
      ]
     },
     "metadata": {},
     "output_type": "display_data"
    },
    {
     "data": {
      "text/html": [
       "<pre>| 8       | 0.00406901        | 1.68531                                  |</pre>"
      ],
      "text/plain": [
       "| 8       | 0.00406901        | 1.68531                                  |"
      ]
     },
     "metadata": {},
     "output_type": "display_data"
    },
    {
     "data": {
      "text/html": [
       "<pre>+---------+-------------------+------------------------------------------+</pre>"
      ],
      "text/plain": [
       "+---------+-------------------+------------------------------------------+"
      ]
     },
     "metadata": {},
     "output_type": "display_data"
    },
    {
     "data": {
      "text/html": [
       "<pre>| Final   | 0.0325521         | 1.3779                                   |</pre>"
      ],
      "text/plain": [
       "| Final   | 0.0325521         | 1.3779                                   |"
      ]
     },
     "metadata": {},
     "output_type": "display_data"
    },
    {
     "data": {
      "text/html": [
       "<pre>+---------+-------------------+------------------------------------------+</pre>"
      ],
      "text/plain": [
       "+---------+-------------------+------------------------------------------+"
      ]
     },
     "metadata": {},
     "output_type": "display_data"
    },
    {
     "data": {
      "text/html": [
       "<pre>Starting Optimization.</pre>"
      ],
      "text/plain": [
       "Starting Optimization."
      ]
     },
     "metadata": {},
     "output_type": "display_data"
    },
    {
     "data": {
      "text/html": [
       "<pre>+---------+--------------+-------------------+-----------------------+-------------+</pre>"
      ],
      "text/plain": [
       "+---------+--------------+-------------------+-----------------------+-------------+"
      ]
     },
     "metadata": {},
     "output_type": "display_data"
    },
    {
     "data": {
      "text/html": [
       "<pre>| Iter.   | Elapsed Time | Approx. Objective | Approx. Training RMSE | Step Size   |</pre>"
      ],
      "text/plain": [
       "| Iter.   | Elapsed Time | Approx. Objective | Approx. Training RMSE | Step Size   |"
      ]
     },
     "metadata": {},
     "output_type": "display_data"
    },
    {
     "data": {
      "text/html": [
       "<pre>+---------+--------------+-------------------+-----------------------+-------------+</pre>"
      ],
      "text/plain": [
       "+---------+--------------+-------------------+-----------------------+-------------+"
      ]
     },
     "metadata": {},
     "output_type": "display_data"
    },
    {
     "data": {
      "text/html": [
       "<pre>| Initial | 153us        | 2.20686           | 1.06092               |             |</pre>"
      ],
      "text/plain": [
       "| Initial | 153us        | 2.20686           | 1.06092               |             |"
      ]
     },
     "metadata": {},
     "output_type": "display_data"
    },
    {
     "data": {
      "text/html": [
       "<pre>+---------+--------------+-------------------+-----------------------+-------------+</pre>"
      ],
      "text/plain": [
       "+---------+--------------+-------------------+-----------------------+-------------+"
      ]
     },
     "metadata": {},
     "output_type": "display_data"
    },
    {
     "data": {
      "text/html": [
       "<pre>| 1       | 1m 11s       | 1.37549           | 0.9556                | 0.0325521   |</pre>"
      ],
      "text/plain": [
       "| 1       | 1m 11s       | 1.37549           | 0.9556                | 0.0325521   |"
      ]
     },
     "metadata": {},
     "output_type": "display_data"
    },
    {
     "data": {
      "text/html": [
       "<pre>| 2       | 2m 17s       | 1.30529           | 0.943462              | 0.0325521   |</pre>"
      ],
      "text/plain": [
       "| 2       | 2m 17s       | 1.30529           | 0.943462              | 0.0325521   |"
      ]
     },
     "metadata": {},
     "output_type": "display_data"
    },
    {
     "data": {
      "text/html": [
       "<pre>| 3       | 3m 16s       | 1.26436           | 0.939586              | 0.0325521   |</pre>"
      ],
      "text/plain": [
       "| 3       | 3m 16s       | 1.26436           | 0.939586              | 0.0325521   |"
      ]
     },
     "metadata": {},
     "output_type": "display_data"
    },
    {
     "data": {
      "text/html": [
       "<pre>| 4       | 4m 18s       | 1.23083           | 0.923371              | 0.0325521   |</pre>"
      ],
      "text/plain": [
       "| 4       | 4m 18s       | 1.23083           | 0.923371              | 0.0325521   |"
      ]
     },
     "metadata": {},
     "output_type": "display_data"
    },
    {
     "data": {
      "text/html": [
       "<pre>| 5       | 5m 23s       | 1.20483           | 0.917704              | 0.0325521   |</pre>"
      ],
      "text/plain": [
       "| 5       | 5m 23s       | 1.20483           | 0.917704              | 0.0325521   |"
      ]
     },
     "metadata": {},
     "output_type": "display_data"
    },
    {
     "data": {
      "text/html": [
       "<pre>| 6       | 6m 27s       | 1.18604           | 0.912729              | 0.0325521   |</pre>"
      ],
      "text/plain": [
       "| 6       | 6m 27s       | 1.18604           | 0.912729              | 0.0325521   |"
      ]
     },
     "metadata": {},
     "output_type": "display_data"
    },
    {
     "data": {
      "text/html": [
       "<pre>| 7       | 7m 25s       | 1.17228           | 0.909429              | 0.0325521   |</pre>"
      ],
      "text/plain": [
       "| 7       | 7m 25s       | 1.17228           | 0.909429              | 0.0325521   |"
      ]
     },
     "metadata": {},
     "output_type": "display_data"
    },
    {
     "data": {
      "text/html": [
       "<pre>| 8       | 8m 25s       | 1.16085           | 0.906604              | 0.0325521   |</pre>"
      ],
      "text/plain": [
       "| 8       | 8m 25s       | 1.16085           | 0.906604              | 0.0325521   |"
      ]
     },
     "metadata": {},
     "output_type": "display_data"
    },
    {
     "data": {
      "text/html": [
       "<pre>| 9       | 9m 27s       | 1.15359           | 0.904425              | 0.0325521   |</pre>"
      ],
      "text/plain": [
       "| 9       | 9m 27s       | 1.15359           | 0.904425              | 0.0325521   |"
      ]
     },
     "metadata": {},
     "output_type": "display_data"
    },
    {
     "data": {
      "text/html": [
       "<pre>| 10      | 10m 25s      | 1.1429            | 0.901851              | 0.0325521   |</pre>"
      ],
      "text/plain": [
       "| 10      | 10m 25s      | 1.1429            | 0.901851              | 0.0325521   |"
      ]
     },
     "metadata": {},
     "output_type": "display_data"
    },
    {
     "data": {
      "text/html": [
       "<pre>| 11      | 11m 21s      | 1.13628           | 0.899654              | 0.0325521   |</pre>"
      ],
      "text/plain": [
       "| 11      | 11m 21s      | 1.13628           | 0.899654              | 0.0325521   |"
      ]
     },
     "metadata": {},
     "output_type": "display_data"
    },
    {
     "data": {
      "text/html": [
       "<pre>| 12      | 12m 17s      | 1.12824           | 0.897004              | 0.0325521   |</pre>"
      ],
      "text/plain": [
       "| 12      | 12m 17s      | 1.12824           | 0.897004              | 0.0325521   |"
      ]
     },
     "metadata": {},
     "output_type": "display_data"
    },
    {
     "data": {
      "text/html": [
       "<pre>| 13      | 13m 12s      | 1.12136           | 0.894894              | 0.0325521   |</pre>"
      ],
      "text/plain": [
       "| 13      | 13m 12s      | 1.12136           | 0.894894              | 0.0325521   |"
      ]
     },
     "metadata": {},
     "output_type": "display_data"
    },
    {
     "data": {
      "text/html": [
       "<pre>| 14      | 14m 8s       | 1.11475           | 0.892665              | 0.0325521   |</pre>"
      ],
      "text/plain": [
       "| 14      | 14m 8s       | 1.11475           | 0.892665              | 0.0325521   |"
      ]
     },
     "metadata": {},
     "output_type": "display_data"
    },
    {
     "data": {
      "text/html": [
       "<pre>| 15      | 15m 3s       | 1.10878           | 0.890516              | 0.0325521   |</pre>"
      ],
      "text/plain": [
       "| 15      | 15m 3s       | 1.10878           | 0.890516              | 0.0325521   |"
      ]
     },
     "metadata": {},
     "output_type": "display_data"
    },
    {
     "data": {
      "text/html": [
       "<pre>| 16      | 16m 0s       | 1.10284           | 0.888463              | 0.0325521   |</pre>"
      ],
      "text/plain": [
       "| 16      | 16m 0s       | 1.10284           | 0.888463              | 0.0325521   |"
      ]
     },
     "metadata": {},
     "output_type": "display_data"
    },
    {
     "data": {
      "text/html": [
       "<pre>| 17      | 16m 55s      | 1.09768           | 0.886853              | 0.0325521   |</pre>"
      ],
      "text/plain": [
       "| 17      | 16m 55s      | 1.09768           | 0.886853              | 0.0325521   |"
      ]
     },
     "metadata": {},
     "output_type": "display_data"
    },
    {
     "data": {
      "text/html": [
       "<pre>| 18      | 17m 51s      | 1.09272           | 0.885044              | 0.0325521   |</pre>"
      ],
      "text/plain": [
       "| 18      | 17m 51s      | 1.09272           | 0.885044              | 0.0325521   |"
      ]
     },
     "metadata": {},
     "output_type": "display_data"
    },
    {
     "data": {
      "text/html": [
       "<pre>| 19      | 18m 46s      | 1.08827           | 0.883401              | 0.0325521   |</pre>"
      ],
      "text/plain": [
       "| 19      | 18m 46s      | 1.08827           | 0.883401              | 0.0325521   |"
      ]
     },
     "metadata": {},
     "output_type": "display_data"
    },
    {
     "data": {
      "text/html": [
       "<pre>| 20      | 19m 58s      | 1.08431           | 0.881861              | 0.0325521   |</pre>"
      ],
      "text/plain": [
       "| 20      | 19m 58s      | 1.08431           | 0.881861              | 0.0325521   |"
      ]
     },
     "metadata": {},
     "output_type": "display_data"
    },
    {
     "data": {
      "text/html": [
       "<pre>| 21      | 20m 59s      | 1.08038           | 0.880542              | 0.0325521   |</pre>"
      ],
      "text/plain": [
       "| 21      | 20m 59s      | 1.08038           | 0.880542              | 0.0325521   |"
      ]
     },
     "metadata": {},
     "output_type": "display_data"
    },
    {
     "data": {
      "text/html": [
       "<pre>| 22      | 21m 59s      | 1.07663           | 0.87953               | 0.0325521   |</pre>"
      ],
      "text/plain": [
       "| 22      | 21m 59s      | 1.07663           | 0.87953               | 0.0325521   |"
      ]
     },
     "metadata": {},
     "output_type": "display_data"
    },
    {
     "data": {
      "text/html": [
       "<pre>| 23      | 22m 58s      | 1.07334           | 0.878252              | 0.0325521   |</pre>"
      ],
      "text/plain": [
       "| 23      | 22m 58s      | 1.07334           | 0.878252              | 0.0325521   |"
      ]
     },
     "metadata": {},
     "output_type": "display_data"
    },
    {
     "data": {
      "text/html": [
       "<pre>| 24      | 23m 54s      | 1.07069           | 0.876932              | 0.0325521   |</pre>"
      ],
      "text/plain": [
       "| 24      | 23m 54s      | 1.07069           | 0.876932              | 0.0325521   |"
      ]
     },
     "metadata": {},
     "output_type": "display_data"
    },
    {
     "data": {
      "text/html": [
       "<pre>| 25      | 25m 0s       | 1.06735           | 0.876223              | 0.0325521   |</pre>"
      ],
      "text/plain": [
       "| 25      | 25m 0s       | 1.06735           | 0.876223              | 0.0325521   |"
      ]
     },
     "metadata": {},
     "output_type": "display_data"
    },
    {
     "data": {
      "text/html": [
       "<pre>+---------+--------------+-------------------+-----------------------+-------------+</pre>"
      ],
      "text/plain": [
       "+---------+--------------+-------------------+-----------------------+-------------+"
      ]
     },
     "metadata": {},
     "output_type": "display_data"
    },
    {
     "data": {
      "text/html": [
       "<pre>Optimization Complete: Maximum number of passes through the data reached.</pre>"
      ],
      "text/plain": [
       "Optimization Complete: Maximum number of passes through the data reached."
      ]
     },
     "metadata": {},
     "output_type": "display_data"
    },
    {
     "data": {
      "text/html": [
       "<pre>Computing final objective value and training RMSE.</pre>"
      ],
      "text/plain": [
       "Computing final objective value and training RMSE."
      ]
     },
     "metadata": {},
     "output_type": "display_data"
    },
    {
     "data": {
      "text/html": [
       "<pre>       Final objective value: 1.06848</pre>"
      ],
      "text/plain": [
       "       Final objective value: 1.06848"
      ]
     },
     "metadata": {},
     "output_type": "display_data"
    },
    {
     "data": {
      "text/html": [
       "<pre>       Final training RMSE: 0.870264</pre>"
      ],
      "text/plain": [
       "       Final training RMSE: 0.870264"
      ]
     },
     "metadata": {},
     "output_type": "display_data"
    }
   ],
   "source": [
    "model_with_rating_target = gl.recommender.create(training_data, 'userId', 'movieId',target=\"rating\")"
   ]
  },
  {
   "cell_type": "code",
   "execution_count": 196,
   "metadata": {
    "collapsed": false
   },
   "outputs": [
    {
     "data": {
      "text/html": [
       "<pre>Getting similar items completed in 0.002728</pre>"
      ],
      "text/plain": [
       "Getting similar items completed in 0.002728"
      ]
     },
     "metadata": {},
     "output_type": "display_data"
    },
    {
     "data": {
      "text/html": [
       "<div style=\"max-height:1000px;max-width:1500px;overflow:auto;\"><table frame=\"box\" rules=\"cols\">\n",
       "    <tr>\n",
       "        <th style=\"padding-left: 1em; padding-right: 1em; text-align: center\">movieId</th>\n",
       "        <th style=\"padding-left: 1em; padding-right: 1em; text-align: center\">similar</th>\n",
       "        <th style=\"padding-left: 1em; padding-right: 1em; text-align: center\">score</th>\n",
       "        <th style=\"padding-left: 1em; padding-right: 1em; text-align: center\">rank</th>\n",
       "    </tr>\n",
       "    <tr>\n",
       "        <td style=\"padding-left: 1em; padding-right: 1em; text-align: center; vertical-align: top\">1</td>\n",
       "        <td style=\"padding-left: 1em; padding-right: 1em; text-align: center; vertical-align: top\">3114</td>\n",
       "        <td style=\"padding-left: 1em; padding-right: 1em; text-align: center; vertical-align: top\">0.941140830517</td>\n",
       "        <td style=\"padding-left: 1em; padding-right: 1em; text-align: center; vertical-align: top\">1</td>\n",
       "    </tr>\n",
       "    <tr>\n",
       "        <td style=\"padding-left: 1em; padding-right: 1em; text-align: center; vertical-align: top\">1</td>\n",
       "        <td style=\"padding-left: 1em; padding-right: 1em; text-align: center; vertical-align: top\">588</td>\n",
       "        <td style=\"padding-left: 1em; padding-right: 1em; text-align: center; vertical-align: top\">0.935056865215</td>\n",
       "        <td style=\"padding-left: 1em; padding-right: 1em; text-align: center; vertical-align: top\">2</td>\n",
       "    </tr>\n",
       "    <tr>\n",
       "        <td style=\"padding-left: 1em; padding-right: 1em; text-align: center; vertical-align: top\">1</td>\n",
       "        <td style=\"padding-left: 1em; padding-right: 1em; text-align: center; vertical-align: top\">1270</td>\n",
       "        <td style=\"padding-left: 1em; padding-right: 1em; text-align: center; vertical-align: top\">0.918596208096</td>\n",
       "        <td style=\"padding-left: 1em; padding-right: 1em; text-align: center; vertical-align: top\">3</td>\n",
       "    </tr>\n",
       "    <tr>\n",
       "        <td style=\"padding-left: 1em; padding-right: 1em; text-align: center; vertical-align: top\">1</td>\n",
       "        <td style=\"padding-left: 1em; padding-right: 1em; text-align: center; vertical-align: top\">2355</td>\n",
       "        <td style=\"padding-left: 1em; padding-right: 1em; text-align: center; vertical-align: top\">0.909119427204</td>\n",
       "        <td style=\"padding-left: 1em; padding-right: 1em; text-align: center; vertical-align: top\">4</td>\n",
       "    </tr>\n",
       "    <tr>\n",
       "        <td style=\"padding-left: 1em; padding-right: 1em; text-align: center; vertical-align: top\">1</td>\n",
       "        <td style=\"padding-left: 1em; padding-right: 1em; text-align: center; vertical-align: top\">1097</td>\n",
       "        <td style=\"padding-left: 1em; padding-right: 1em; text-align: center; vertical-align: top\">0.906341135502</td>\n",
       "        <td style=\"padding-left: 1em; padding-right: 1em; text-align: center; vertical-align: top\">5</td>\n",
       "    </tr>\n",
       "    <tr>\n",
       "        <td style=\"padding-left: 1em; padding-right: 1em; text-align: center; vertical-align: top\">1</td>\n",
       "        <td style=\"padding-left: 1em; padding-right: 1em; text-align: center; vertical-align: top\">2640</td>\n",
       "        <td style=\"padding-left: 1em; padding-right: 1em; text-align: center; vertical-align: top\">0.905757248402</td>\n",
       "        <td style=\"padding-left: 1em; padding-right: 1em; text-align: center; vertical-align: top\">6</td>\n",
       "    </tr>\n",
       "    <tr>\n",
       "        <td style=\"padding-left: 1em; padding-right: 1em; text-align: center; vertical-align: top\">1</td>\n",
       "        <td style=\"padding-left: 1em; padding-right: 1em; text-align: center; vertical-align: top\">364</td>\n",
       "        <td style=\"padding-left: 1em; padding-right: 1em; text-align: center; vertical-align: top\">0.896301090717</td>\n",
       "        <td style=\"padding-left: 1em; padding-right: 1em; text-align: center; vertical-align: top\">7</td>\n",
       "    </tr>\n",
       "    <tr>\n",
       "        <td style=\"padding-left: 1em; padding-right: 1em; text-align: center; vertical-align: top\">1</td>\n",
       "        <td style=\"padding-left: 1em; padding-right: 1em; text-align: center; vertical-align: top\">595</td>\n",
       "        <td style=\"padding-left: 1em; padding-right: 1em; text-align: center; vertical-align: top\">0.885916113853</td>\n",
       "        <td style=\"padding-left: 1em; padding-right: 1em; text-align: center; vertical-align: top\">8</td>\n",
       "    </tr>\n",
       "    <tr>\n",
       "        <td style=\"padding-left: 1em; padding-right: 1em; text-align: center; vertical-align: top\">1</td>\n",
       "        <td style=\"padding-left: 1em; padding-right: 1em; text-align: center; vertical-align: top\">2081</td>\n",
       "        <td style=\"padding-left: 1em; padding-right: 1em; text-align: center; vertical-align: top\">0.873536944389</td>\n",
       "        <td style=\"padding-left: 1em; padding-right: 1em; text-align: center; vertical-align: top\">9</td>\n",
       "    </tr>\n",
       "    <tr>\n",
       "        <td style=\"padding-left: 1em; padding-right: 1em; text-align: center; vertical-align: top\">1</td>\n",
       "        <td style=\"padding-left: 1em; padding-right: 1em; text-align: center; vertical-align: top\">1198</td>\n",
       "        <td style=\"padding-left: 1em; padding-right: 1em; text-align: center; vertical-align: top\">0.861698508263</td>\n",
       "        <td style=\"padding-left: 1em; padding-right: 1em; text-align: center; vertical-align: top\">10</td>\n",
       "    </tr>\n",
       "</table>\n",
       "[10 rows x 4 columns]<br/>\n",
       "</div>"
      ],
      "text/plain": [
       "Columns:\n",
       "\tmovieId\tint\n",
       "\tsimilar\tint\n",
       "\tscore\tfloat\n",
       "\trank\tint\n",
       "\n",
       "Rows: 10\n",
       "\n",
       "Data:\n",
       "+---------+---------+----------------+------+\n",
       "| movieId | similar |     score      | rank |\n",
       "+---------+---------+----------------+------+\n",
       "|    1    |   3114  | 0.941140830517 |  1   |\n",
       "|    1    |   588   | 0.935056865215 |  2   |\n",
       "|    1    |   1270  | 0.918596208096 |  3   |\n",
       "|    1    |   2355  | 0.909119427204 |  4   |\n",
       "|    1    |   1097  | 0.906341135502 |  5   |\n",
       "|    1    |   2640  | 0.905757248402 |  6   |\n",
       "|    1    |   364   | 0.896301090717 |  7   |\n",
       "|    1    |   595   | 0.885916113853 |  8   |\n",
       "|    1    |   2081  | 0.873536944389 |  9   |\n",
       "|    1    |   1198  | 0.861698508263 |  10  |\n",
       "+---------+---------+----------------+------+\n",
       "[10 rows x 4 columns]"
      ]
     },
     "execution_count": 196,
     "metadata": {},
     "output_type": "execute_result"
    }
   ],
   "source": [
    "model_with_rating_target.get_similar_items(items = [1])"
   ]
  },
  {
   "cell_type": "code",
   "execution_count": 191,
   "metadata": {
    "collapsed": false
   },
   "outputs": [
    {
     "data": {
      "text/plain": [
       "<bound method RankingFactorizationRecommender.evaluate_rmse of Class                           : RankingFactorizationRecommender\n",
       "\n",
       "Schema\n",
       "------\n",
       "User ID                         : userId\n",
       "Item ID                         : movieId\n",
       "Target                          : rating\n",
       "Additional observation features : 1\n",
       "Number of user side features    : 0\n",
       "Number of item side features    : 0\n",
       "\n",
       "Statistics\n",
       "----------\n",
       "Number of observations          : 22837405\n",
       "Number of users                 : 247734\n",
       "Number of items                 : 20319\n",
       "\n",
       "Training summary\n",
       "----------------\n",
       "Training time                   : 1820.9327\n",
       "\n",
       "Model Parameters\n",
       "----------------\n",
       "Model class                     : RankingFactorizationRecommender\n",
       "num_factors                     : 32\n",
       "binary_target                   : 0\n",
       "side_data_factorization         : 1\n",
       "solver                          : auto\n",
       "nmf                             : 0\n",
       "max_iterations                  : 25\n",
       "\n",
       "Regularization Settings\n",
       "-----------------------\n",
       "regularization                  : 0.0\n",
       "regularization_type             : normal\n",
       "linear_regularization           : 0.0\n",
       "ranking_regularization          : 0.25\n",
       "unobserved_rating_value         : -1.79769313486e+308\n",
       "num_sampled_negative_examples   : 4\n",
       "ials_confidence_scaling_type    : auto\n",
       "ials_confidence_scaling_factor  : 1\n",
       "\n",
       "Optimization Settings\n",
       "---------------------\n",
       "init_random_sigma               : 0.01\n",
       "sgd_convergence_interval        : 4\n",
       "sgd_convergence_threshold       : 0.0\n",
       "sgd_max_trial_iterations        : 5\n",
       "sgd_sampling_block_size         : 131072\n",
       "sgd_step_adjustment_interval    : 4\n",
       "sgd_step_size                   : 0.0\n",
       "sgd_trial_sample_minimum_size   : 10000\n",
       "sgd_trial_sample_proportion     : 0.125\n",
       "step_size_decrease_rate         : 0.75\n",
       "additional_iterations_if_unhealthy: 5\n",
       "adagrad_momentum_weighting      : 0.9\n",
       "num_tempering_iterations        : 4\n",
       "tempering_regularization_start_value: 0.0\n",
       "track_exact_loss                : 0\n",
       ">"
      ]
     },
     "execution_count": 191,
     "metadata": {},
     "output_type": "execute_result"
    },
    {
     "name": "stderr",
     "output_type": "stream",
     "text": [
      "2016-05-12 20:46:49,354 [ERROR] tornado.access, 1825: 500 POST /view/d2aadc81-e170-4f9e-8b9f-81905d34fe06 (::1) 20.33ms\n",
      "2016-05-12 20:46:49,362 [ERROR] tornado.access, 1825: 500 POST /view/d2aadc81-e170-4f9e-8b9f-81905d34fe06 (::1) 6.42ms\n",
      "2016-05-12 20:46:49,663 [ERROR] tornado.access, 1825: 500 POST /view/d2aadc81-e170-4f9e-8b9f-81905d34fe06 (::1) 5.71ms\n"
     ]
    }
   ],
   "source": [
    "model_with_rating_target.evaluate_rmse"
   ]
  },
  {
   "cell_type": "code",
   "execution_count": 190,
   "metadata": {
    "collapsed": false
   },
   "outputs": [
    {
     "data": {
      "text/plain": [
       "{'intercept': 3.5267497992875207, 'movieId': Columns:\n",
       " \tmovieId\tint\n",
       " \tlinear_terms\tfloat\n",
       " \tfactors\tarray\n",
       " \n",
       " Rows: 20319\n",
       " \n",
       " Data:\n",
       " +---------+------------------+-------------------------------+\n",
       " | movieId |   linear_terms   |            factors            |\n",
       " +---------+------------------+-------------------------------+\n",
       " |   169   | -0.802418649197  | [0.531584322453, 0.1433256... |\n",
       " |   2471  | -0.447240233421  | [0.444659143686, 0.0087198... |\n",
       " |  48516  |  0.110070645809  | [-0.164501339197, -0.20837... |\n",
       " |   2571  |  1.01680135727   | [0.315612316132, -0.091512... |\n",
       " |  109487 |  -1.25536084175  | [-0.111419439316, -0.07608... |\n",
       " |  112552 |  -1.4689797163   | [-0.241746678948, -0.06061... |\n",
       " |  112556 |  -1.41310608387  | [-0.110048189759, -0.05310... |\n",
       " |   356   |  1.14781093597   | [0.468470990658, -0.239222... |\n",
       " |   2394  |  0.178972318769  | [0.477292716503, 0.1200611... |\n",
       " |   2431  | -0.0152124669403 | [0.660022318363, -0.018767... |\n",
       " +---------+------------------+-------------------------------+\n",
       " [20319 rows x 3 columns]\n",
       " Note: Only the head of the SFrame is printed.\n",
       " You can use print_rows(num_rows=m, num_columns=n) to print more rows and columns., 'side_data': Columns:\n",
       " \tfeature\tstr\n",
       " \tindex\tstr\n",
       " \tlinear_terms\tfloat\n",
       " \tfactors\tarray\n",
       " \n",
       " Rows: 1\n",
       " \n",
       " Data:\n",
       " +-----------+-------+----------------+-------------------------------+\n",
       " |  feature  | index |  linear_terms  |            factors            |\n",
       " +-----------+-------+----------------+-------------------------------+\n",
       " | timestamp |   0   | 0.129372432828 | [0.49811270833, 5.38630390... |\n",
       " +-----------+-------+----------------+-------------------------------+\n",
       " [1 rows x 4 columns], 'userId': Columns:\n",
       " \tuserId\tint\n",
       " \tlinear_terms\tfloat\n",
       " \tfactors\tarray\n",
       " \n",
       " Rows: 247734\n",
       " \n",
       " Data:\n",
       " +--------+------------------+-------------------------------+\n",
       " | userId |   linear_terms   |            factors            |\n",
       " +--------+------------------+-------------------------------+\n",
       " |   1    | -0.0500161424279 | [-0.033512160182, -0.01818... |\n",
       " |   2    | -0.048278991133  | [0.0461592078209, 0.006632... |\n",
       " |   3    | 0.00708106718957 | [0.0216744150966, -0.00728... |\n",
       " |   4    | -0.167241349816  | [-0.275901734829, 0.155794... |\n",
       " |   5    | -0.0446447357535 | [0.0157020278275, -0.01054... |\n",
       " |   6    | -0.142927601933  | [0.0839676335454, 0.015859... |\n",
       " |   7    | -0.0637144744396 | [0.0389805436134, -0.00577... |\n",
       " |   8    | -0.274915605783  | [0.156241640449, 0.0131731... |\n",
       " |   9    | -0.130094528198  | [0.135690197349, 0.0156681... |\n",
       " |   10   | -0.501779019833  | [-0.19908246398, 0.0107068... |\n",
       " +--------+------------------+-------------------------------+\n",
       " [247734 rows x 3 columns]\n",
       " Note: Only the head of the SFrame is printed.\n",
       " You can use print_rows(num_rows=m, num_columns=n) to print more rows and columns.}"
      ]
     },
     "execution_count": 190,
     "metadata": {},
     "output_type": "execute_result"
    }
   ],
   "source": [
    "model_with_rating_target.coefficients"
   ]
  },
  {
   "cell_type": "code",
   "execution_count": 163,
   "metadata": {
    "collapsed": false
   },
   "outputs": [],
   "source": [
    "model_precision_recall = model_with_rating_target.evaluate_precision_recall(validation_data)"
   ]
  },
  {
   "cell_type": "code",
   "execution_count": 165,
   "metadata": {
    "collapsed": false
   },
   "outputs": [
    {
     "data": {
      "text/plain": [
       "['precision_recall_overall', 'precision_recall_by_user']"
      ]
     },
     "execution_count": 165,
     "metadata": {},
     "output_type": "execute_result"
    }
   ],
   "source": [
    "model_precision_recall.keys()"
   ]
  },
  {
   "cell_type": "code",
   "execution_count": 166,
   "metadata": {
    "collapsed": false
   },
   "outputs": [
    {
     "data": {
      "text/html": [
       "<div style=\"max-height:1000px;max-width:1500px;overflow:auto;\"><table frame=\"box\" rules=\"cols\">\n",
       "    <tr>\n",
       "        <th style=\"padding-left: 1em; padding-right: 1em; text-align: center\">cutoff</th>\n",
       "        <th style=\"padding-left: 1em; padding-right: 1em; text-align: center\">precision</th>\n",
       "        <th style=\"padding-left: 1em; padding-right: 1em; text-align: center\">recall</th>\n",
       "    </tr>\n",
       "    <tr>\n",
       "        <td style=\"padding-left: 1em; padding-right: 1em; text-align: center; vertical-align: top\">1</td>\n",
       "        <td style=\"padding-left: 1em; padding-right: 1em; text-align: center; vertical-align: top\">0.154340836013</td>\n",
       "        <td style=\"padding-left: 1em; padding-right: 1em; text-align: center; vertical-align: top\">0.0097045333192</td>\n",
       "    </tr>\n",
       "    <tr>\n",
       "        <td style=\"padding-left: 1em; padding-right: 1em; text-align: center; vertical-align: top\">2</td>\n",
       "        <td style=\"padding-left: 1em; padding-right: 1em; text-align: center; vertical-align: top\">0.139335476956</td>\n",
       "        <td style=\"padding-left: 1em; padding-right: 1em; text-align: center; vertical-align: top\">0.0176682629843</td>\n",
       "    </tr>\n",
       "    <tr>\n",
       "        <td style=\"padding-left: 1em; padding-right: 1em; text-align: center; vertical-align: top\">3</td>\n",
       "        <td style=\"padding-left: 1em; padding-right: 1em; text-align: center; vertical-align: top\">0.130046445159</td>\n",
       "        <td style=\"padding-left: 1em; padding-right: 1em; text-align: center; vertical-align: top\">0.0243574065097</td>\n",
       "    </tr>\n",
       "    <tr>\n",
       "        <td style=\"padding-left: 1em; padding-right: 1em; text-align: center; vertical-align: top\">4</td>\n",
       "        <td style=\"padding-left: 1em; padding-right: 1em; text-align: center; vertical-align: top\">0.128081457663</td>\n",
       "        <td style=\"padding-left: 1em; padding-right: 1em; text-align: center; vertical-align: top\">0.0322400572214</td>\n",
       "    </tr>\n",
       "    <tr>\n",
       "        <td style=\"padding-left: 1em; padding-right: 1em; text-align: center; vertical-align: top\">5</td>\n",
       "        <td style=\"padding-left: 1em; padding-right: 1em; text-align: center; vertical-align: top\">0.124330117899</td>\n",
       "        <td style=\"padding-left: 1em; padding-right: 1em; text-align: center; vertical-align: top\">0.0390843342264</td>\n",
       "    </tr>\n",
       "    <tr>\n",
       "        <td style=\"padding-left: 1em; padding-right: 1em; text-align: center; vertical-align: top\">6</td>\n",
       "        <td style=\"padding-left: 1em; padding-right: 1em; text-align: center; vertical-align: top\">0.11914969632</td>\n",
       "        <td style=\"padding-left: 1em; padding-right: 1em; text-align: center; vertical-align: top\">0.0448888778413</td>\n",
       "    </tr>\n",
       "    <tr>\n",
       "        <td style=\"padding-left: 1em; padding-right: 1em; text-align: center; vertical-align: top\">7</td>\n",
       "        <td style=\"padding-left: 1em; padding-right: 1em; text-align: center; vertical-align: top\">0.116521206553</td>\n",
       "        <td style=\"padding-left: 1em; padding-right: 1em; text-align: center; vertical-align: top\">0.0518017014863</td>\n",
       "    </tr>\n",
       "    <tr>\n",
       "        <td style=\"padding-left: 1em; padding-right: 1em; text-align: center; vertical-align: top\">8</td>\n",
       "        <td style=\"padding-left: 1em; padding-right: 1em; text-align: center; vertical-align: top\">0.113210075027</td>\n",
       "        <td style=\"padding-left: 1em; padding-right: 1em; text-align: center; vertical-align: top\">0.0581317660175</td>\n",
       "    </tr>\n",
       "    <tr>\n",
       "        <td style=\"padding-left: 1em; padding-right: 1em; text-align: center; vertical-align: top\">9</td>\n",
       "        <td style=\"padding-left: 1em; padding-right: 1em; text-align: center; vertical-align: top\">0.109324758842</td>\n",
       "        <td style=\"padding-left: 1em; padding-right: 1em; text-align: center; vertical-align: top\">0.0618955764172</td>\n",
       "    </tr>\n",
       "    <tr>\n",
       "        <td style=\"padding-left: 1em; padding-right: 1em; text-align: center; vertical-align: top\">10</td>\n",
       "        <td style=\"padding-left: 1em; padding-right: 1em; text-align: center; vertical-align: top\">0.106645230439</td>\n",
       "        <td style=\"padding-left: 1em; padding-right: 1em; text-align: center; vertical-align: top\">0.0657890466091</td>\n",
       "    </tr>\n",
       "</table>\n",
       "[18 rows x 3 columns]<br/>Note: Only the head of the SFrame is printed.<br/>You can use print_rows(num_rows=m, num_columns=n) to print more rows and columns.\n",
       "</div>"
      ],
      "text/plain": [
       "Columns:\n",
       "\tcutoff\tint\n",
       "\tprecision\tfloat\n",
       "\trecall\tfloat\n",
       "\n",
       "Rows: 18\n",
       "\n",
       "Data:\n",
       "+--------+----------------+-----------------+\n",
       "| cutoff |   precision    |      recall     |\n",
       "+--------+----------------+-----------------+\n",
       "|   1    | 0.154340836013 | 0.0097045333192 |\n",
       "|   2    | 0.139335476956 | 0.0176682629843 |\n",
       "|   3    | 0.130046445159 | 0.0243574065097 |\n",
       "|   4    | 0.128081457663 | 0.0322400572214 |\n",
       "|   5    | 0.124330117899 | 0.0390843342264 |\n",
       "|   6    | 0.11914969632  | 0.0448888778413 |\n",
       "|   7    | 0.116521206553 | 0.0518017014863 |\n",
       "|   8    | 0.113210075027 | 0.0581317660175 |\n",
       "|   9    | 0.109324758842 | 0.0618955764172 |\n",
       "|   10   | 0.106645230439 | 0.0657890466091 |\n",
       "+--------+----------------+-----------------+\n",
       "[18 rows x 3 columns]\n",
       "Note: Only the head of the SFrame is printed.\n",
       "You can use print_rows(num_rows=m, num_columns=n) to print more rows and columns."
      ]
     },
     "execution_count": 166,
     "metadata": {},
     "output_type": "execute_result"
    }
   ],
   "source": [
    "model_precision_recall[\"precision_recall_overall\"]"
   ]
  },
  {
   "cell_type": "code",
   "execution_count": 189,
   "metadata": {
    "collapsed": false
   },
   "outputs": [
    {
     "data": {
      "text/plain": [
       "{'count': 17,\n",
       " 'cutoff': 1,\n",
       " 'precision': 1.0,\n",
       " 'recall': 0.058823529411764705,\n",
       " 'userId': 110}"
      ]
     },
     "execution_count": 189,
     "metadata": {},
     "output_type": "execute_result"
    },
    {
     "name": "stderr",
     "output_type": "stream",
     "text": [
      "2016-05-12 20:41:02,196 [ERROR] tornado.access, 1825: 500 POST /view/d2aadc81-e170-4f9e-8b9f-81905d34fe06 (::1) 39.44ms\n",
      "2016-05-12 20:41:02,209 [ERROR] tornado.access, 1825: 500 POST /view/d2aadc81-e170-4f9e-8b9f-81905d34fe06 (::1) 10.69ms\n",
      "2016-05-12 20:41:02,219 [ERROR] tornado.access, 1825: 500 POST /view/d2aadc81-e170-4f9e-8b9f-81905d34fe06 (::1) 7.34ms\n",
      "2016-05-12 20:41:13,880 [ERROR] tornado.access, 1825: 500 POST /view/d2aadc81-e170-4f9e-8b9f-81905d34fe06 (::1) 19.43ms\n",
      "2016-05-12 20:41:14,190 [ERROR] tornado.access, 1825: 500 POST /view/d2aadc81-e170-4f9e-8b9f-81905d34fe06 (::1) 5.26ms\n",
      "2016-05-12 20:41:14,197 [ERROR] tornado.access, 1825: 500 POST /view/d2aadc81-e170-4f9e-8b9f-81905d34fe06 (::1) 5.70ms\n",
      "2016-05-12 20:41:27,188 [ERROR] tornado.access, 1825: 500 POST /view/d2aadc81-e170-4f9e-8b9f-81905d34fe06 (::1) 20.82ms\n",
      "2016-05-12 20:41:27,197 [ERROR] tornado.access, 1825: 500 POST /view/d2aadc81-e170-4f9e-8b9f-81905d34fe06 (::1) 6.36ms\n",
      "2016-05-12 20:41:27,205 [ERROR] tornado.access, 1825: 500 POST /view/d2aadc81-e170-4f9e-8b9f-81905d34fe06 (::1) 6.56ms\n",
      "2016-05-12 20:41:34,289 [ERROR] tornado.access, 1825: 500 POST /view/d2aadc81-e170-4f9e-8b9f-81905d34fe06 (::1) 18.07ms\n",
      "2016-05-12 20:41:34,300 [ERROR] tornado.access, 1825: 500 POST /view/d2aadc81-e170-4f9e-8b9f-81905d34fe06 (::1) 8.98ms\n",
      "2016-05-12 20:41:34,309 [ERROR] tornado.access, 1825: 500 POST /view/d2aadc81-e170-4f9e-8b9f-81905d34fe06 (::1) 5.42ms\n"
     ]
    }
   ],
   "source": [
    "model_precision_recall[\"precision_recall_by_user\"][\"cutoff\" == 1]\n",
    "#.groupby(\"userId\", gl.aggregate.ARGMAX)"
   ]
  },
  {
   "cell_type": "code",
   "execution_count": null,
   "metadata": {
    "collapsed": false
   },
   "outputs": [],
   "source": []
  },
  {
   "cell_type": "code",
   "execution_count": null,
   "metadata": {
    "collapsed": true
   },
   "outputs": [],
   "source": [
    "this = sys.modules[__name__]\n",
    "list_of_vars_to_be_removed = [\"model\",\"view\",\"rare_items\"]\n",
    "\n",
    "# [v for v in globals().keys() if not v.startswith('_')] # <-- Seems to be the same as that\n",
    "#for i in vars().keys():  # <-- Seems to be the same as that\n",
    "for i in dir():    \n",
    "    if i[0] != \"_\":\n",
    "        if i in list_of_vars_to_be_removed:\n",
    "            print i\n",
    "            delattr(this,str(i))\n",
    "\n",
    "%reset out        "
   ]
  },
  {
   "cell_type": "code",
   "execution_count": null,
   "metadata": {
    "collapsed": true
   },
   "outputs": [],
   "source": []
  },
  {
   "cell_type": "code",
   "execution_count": 46,
   "metadata": {
    "collapsed": false
   },
   "outputs": [
    {
     "name": "stdout",
     "output_type": "stream",
     "text": [
      "Collecting IMDb\r\n",
      "\u001b[31m  Could not find a version that satisfies the requirement IMDb (from versions: )\u001b[0m\r\n",
      "\u001b[31mNo matching distribution found for IMDb\u001b[0m\r\n"
     ]
    }
   ],
   "source": [
    "!pip install IMDb"
   ]
  },
  {
   "cell_type": "code",
   "execution_count": 44,
   "metadata": {
    "collapsed": false
   },
   "outputs": [
    {
     "ename": "ImportError",
     "evalue": "No module named imdb",
     "output_type": "error",
     "traceback": [
      "\u001b[0;31m---------------------------------------------------------------------------\u001b[0m",
      "\u001b[0;31mImportError\u001b[0m                               Traceback (most recent call last)",
      "\u001b[0;32m<ipython-input-44-5fbe01ca883b>\u001b[0m in \u001b[0;36m<module>\u001b[0;34m()\u001b[0m\n\u001b[0;32m----> 1\u001b[0;31m \u001b[0;32mfrom\u001b[0m \u001b[0mimdb\u001b[0m \u001b[0;32mimport\u001b[0m \u001b[0mIMDb\u001b[0m\u001b[0;34m\u001b[0m\u001b[0m\n\u001b[0m\u001b[1;32m      2\u001b[0m \u001b[0mia\u001b[0m \u001b[0;34m=\u001b[0m \u001b[0mIMDb\u001b[0m\u001b[0;34m(\u001b[0m\u001b[0;34m)\u001b[0m\u001b[0;34m\u001b[0m\u001b[0m\n\u001b[1;32m      3\u001b[0m \u001b[0;34m\u001b[0m\u001b[0m\n\u001b[1;32m      4\u001b[0m \u001b[0mthe_matrix\u001b[0m \u001b[0;34m=\u001b[0m \u001b[0mia\u001b[0m\u001b[0;34m.\u001b[0m\u001b[0mget_movie\u001b[0m\u001b[0;34m(\u001b[0m\u001b[0;34m'0133093'\u001b[0m\u001b[0;34m)\u001b[0m\u001b[0;34m\u001b[0m\u001b[0m\n\u001b[1;32m      5\u001b[0m \u001b[0;32mprint\u001b[0m \u001b[0mthe_matrix\u001b[0m\u001b[0;34m[\u001b[0m\u001b[0;34m'director'\u001b[0m\u001b[0;34m]\u001b[0m\u001b[0;34m\u001b[0m\u001b[0m\n",
      "\u001b[0;31mImportError\u001b[0m: No module named imdb"
     ]
    }
   ],
   "source": [
    "from imdb import IMDb \n",
    "ia = IMDb()\n",
    "\n",
    "the_matrix = ia.get_movie('0133093')\n",
    "print the_matrix['director']\n",
    "\n",
    "for person in ia.search_person('Mel Gibson'):\n",
    "        print person.personID, person['name']"
   ]
  },
  {
   "cell_type": "code",
   "execution_count": null,
   "metadata": {
    "collapsed": true
   },
   "outputs": [],
   "source": []
  }
 ],
 "metadata": {
  "kernelspec": {
   "display_name": "Python 2",
   "language": "python",
   "name": "python2"
  },
  "language_info": {
   "codemirror_mode": {
    "name": "ipython",
    "version": 2
   },
   "file_extension": ".py",
   "mimetype": "text/x-python",
   "name": "python",
   "nbconvert_exporter": "python",
   "pygments_lexer": "ipython2",
   "version": "2.7.11"
  }
 },
 "nbformat": 4,
 "nbformat_minor": 0
}
