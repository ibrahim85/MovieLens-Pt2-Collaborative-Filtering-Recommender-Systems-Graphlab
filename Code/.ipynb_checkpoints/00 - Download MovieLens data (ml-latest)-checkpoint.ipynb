{
 "cells": [
  {
   "cell_type": "markdown",
   "metadata": {},
   "source": [
    "# Download zip file from MovieLens website"
   ]
  },
  {
   "cell_type": "code",
   "execution_count": 2,
   "metadata": {
    "collapsed": false
   },
   "outputs": [
    {
     "name": "stdout",
     "output_type": "stream",
     "text": [
      "  % Total    % Received % Xferd  Average Speed   Time    Time     Time  Current\n",
      "                                 Dload  Upload   Total   Spent    Left  Speed\n",
      "100  223M  100  223M    0     0  1665k      0  0:02:17  0:02:17 --:--:-- 1751k\n"
     ]
    }
   ],
   "source": [
    "# Warning - this file may be large...updards of 150mb... this is why it was excluded from Github repo in the first place.\n",
    "# Please see MovieLens website to download other versions: https://grouplens.org/datasets/movielens/\n",
    "\n",
    "!curl -o ../Resources/Data/Raw/ml-latest.zip http://files.grouplens.org/datasets/movielens/ml-latest.zip"
   ]
  },
  {
   "cell_type": "markdown",
   "metadata": {},
   "source": [
    "# Unzip file"
   ]
  },
  {
   "cell_type": "code",
   "execution_count": 4,
   "metadata": {
    "collapsed": false
   },
   "outputs": [
    {
     "name": "stdout",
     "output_type": "stream",
     "text": [
      "\u001b[34mhetrec2011-movielens-2k-v2\u001b[m\u001b[m      hetrec2011-movielens-readme.txt\r\n",
      "hetrec2011-movielens-2k-v2.zip  ml-latest.zip\r\n"
     ]
    }
   ],
   "source": [
    "!ls ../Resources/Data/Raw/"
   ]
  },
  {
   "cell_type": "code",
   "execution_count": 5,
   "metadata": {
    "collapsed": false
   },
   "outputs": [
    {
     "name": "stdout",
     "output_type": "stream",
     "text": [
      "Archive:  ../Resources/Data/Raw/ml-latest.zip\n",
      "   creating: ../Resources/Data/Raw/ml-latest/\n",
      "  inflating: ../Resources/Data/Raw/ml-latest/genome-scores.csv  \n",
      "  inflating: ../Resources/Data/Raw/ml-latest/genome-tags.csv  \n",
      "  inflating: ../Resources/Data/Raw/ml-latest/links.csv  \n",
      "  inflating: ../Resources/Data/Raw/ml-latest/movies.csv  \n",
      "  inflating: ../Resources/Data/Raw/ml-latest/ratings.csv  \n",
      "  inflating: ../Resources/Data/Raw/ml-latest/README.txt  \n",
      "  inflating: ../Resources/Data/Raw/ml-latest/tags.csv  \n"
     ]
    }
   ],
   "source": [
    "# https://askubuntu.com/questions/520546/how-to-extract-zip-file-to-specific-folder#\n",
    "!unzip ../Resources/Data/Raw/ml-latest.zip -d \"../Resources/Data/Raw/\""
   ]
  },
  {
   "cell_type": "markdown",
   "metadata": {},
   "source": [
    "# Congrats, you are now done!"
   ]
  }
 ],
 "metadata": {
  "kernelspec": {
   "display_name": "Python 2",
   "language": "python",
   "name": "python2"
  },
  "language_info": {
   "codemirror_mode": {
    "name": "ipython",
    "version": 2
   },
   "file_extension": ".py",
   "mimetype": "text/x-python",
   "name": "python",
   "nbconvert_exporter": "python",
   "pygments_lexer": "ipython2",
   "version": "2.7.11"
  }
 },
 "nbformat": 4,
 "nbformat_minor": 0
}
